{
  "nbformat": 4,
  "nbformat_minor": 0,
  "metadata": {
    "colab": {
      "name": "number_representation.ipynb",
      "provenance": [],
      "authorship_tag": "ABX9TyPN9fETYhMqYlNJgfJCYLP1",
      "include_colab_link": true
    },
    "kernelspec": {
      "name": "python3",
      "display_name": "Python 3"
    }
  },
  "cells": [
    {
      "cell_type": "markdown",
      "metadata": {
        "id": "view-in-github",
        "colab_type": "text"
      },
      "source": [
        "<a href=\"https://colab.research.google.com/github/jeonggunlee/LogicDesign/blob/master/Chapter01_number_representation.ipynb\" target=\"_parent\"><img src=\"https://colab.research.google.com/assets/colab-badge.svg\" alt=\"Open In Colab\"/></a>"
      ]
    },
    {
      "cell_type": "code",
      "metadata": {
        "colab": {
          "base_uri": "https://localhost:8080/"
        },
        "id": "Y3AIPp7hIBM8",
        "outputId": "aa162b3e-c61a-448d-8642-d2941270d765"
      },
      "source": [
        "%%writefile number.c\r\n",
        "\r\n",
        "#include <stdio.h>\r\n",
        "void printb(unsigned char v)\r\n",
        " {\r\n",
        "    printf(\"size of == %d\\n\", (int) sizeof(v));\r\n",
        "    unsigned char i, s = 1<<((sizeof(v)<<3)-1); // s = only most significant bit at 1\r\n",
        "    for (i = s; i; i>>=1) printf(\"%d\", v & i || 0 );\r\n",
        "}\r\n",
        "int main()\r\n",
        "{\r\n",
        "    char aaa;\r\n",
        " \r\n",
        "    aaa = 2;\r\n",
        "    printf(\"%d\\n\", aaa);\r\n",
        "    printb(aaa);\r\n",
        "    return 0;\r\n",
        "}"
      ],
      "execution_count": 62,
      "outputs": [
        {
          "output_type": "stream",
          "text": [
            "Overwriting number.c\n"
          ],
          "name": "stdout"
        }
      ]
    },
    {
      "cell_type": "code",
      "metadata": {
        "id": "aYGcNyGfItWC"
      },
      "source": [
        "!gcc number.c"
      ],
      "execution_count": 63,
      "outputs": []
    },
    {
      "cell_type": "code",
      "metadata": {
        "colab": {
          "base_uri": "https://localhost:8080/"
        },
        "id": "_S8-hjzVIxkT",
        "outputId": "2da5d7f8-2b22-4d82-a1f8-83d898709ca8"
      },
      "source": [
        "ls"
      ],
      "execution_count": 64,
      "outputs": [
        {
          "output_type": "stream",
          "text": [
            "\u001b[0m\u001b[01;32ma.out\u001b[0m*  number.c  \u001b[01;34msample_data\u001b[0m/\n"
          ],
          "name": "stdout"
        }
      ]
    },
    {
      "cell_type": "code",
      "metadata": {
        "colab": {
          "base_uri": "https://localhost:8080/"
        },
        "id": "81tPs2rZI3ac",
        "outputId": "a26cc992-00d0-4088-9dc9-f976d9d2ccff"
      },
      "source": [
        "!./a.out"
      ],
      "execution_count": 65,
      "outputs": [
        {
          "output_type": "stream",
          "text": [
            "2\n",
            "size of == 1\n",
            "00000010"
          ],
          "name": "stdout"
        }
      ]
    },
    {
      "cell_type": "code",
      "metadata": {
        "id": "FN_PAvq9I4mq"
      },
      "source": [
        ""
      ],
      "execution_count": null,
      "outputs": []
    }
  ]
}