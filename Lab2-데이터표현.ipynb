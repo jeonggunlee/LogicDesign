{
  "nbformat": 4,
  "nbformat_minor": 0,
  "metadata": {
    "colab": {
      "provenance": [],
      "authorship_tag": "ABX9TyO14LIFeI+Osp6Vi3E+aGLx",
      "include_colab_link": true
    },
    "kernelspec": {
      "name": "python3",
      "display_name": "Python 3"
    },
    "language_info": {
      "name": "python"
    }
  },
  "cells": [
    {
      "cell_type": "markdown",
      "metadata": {
        "id": "view-in-github",
        "colab_type": "text"
      },
      "source": [
        "<a href=\"https://colab.research.google.com/github/jeonggunlee/LogicDesign/blob/master/Lab2-%EB%8D%B0%EC%9D%B4%ED%84%B0%ED%91%9C%ED%98%84.ipynb\" target=\"_parent\"><img src=\"https://colab.research.google.com/assets/colab-badge.svg\" alt=\"Open In Colab\"/></a>"
      ]
    },
    {
      "cell_type": "markdown",
      "source": [
        "#LAB-02: 데이터 표현\n",
        "\n",
        "## 2023년도 1학기 논리 설계 및 실습\n",
        "\n",
        "###한림대학교 소프트웨어 학부, 담당교수: 이정근\n"
      ],
      "metadata": {
        "id": "MRpy-9N1Vwzr"
      }
    },
    {
      "cell_type": "markdown",
      "source": [
        "## 1, C 코드 만들기\n",
        " * 어디서나 수행가능한 실험을 위하여 google의 colab환경을 사용합니다.\n",
        "    * colab.research.google.com 사용 --> google 계정을 만들어야합니다!\n",
        " * 우리의 실험은 C언어를 사용하며, Colab 환경에서 C언어를 사용하려면 -->\n",
        "    * 실행 셀 시작 할때, \"%%writefile filename.c\"을 맨 윗줄에 쓴다!\n",
        " * 그 다음 라인 부터 C 코딩을 수행한다!\n"
      ],
      "metadata": {
        "id": "333jpdaSI1LP"
      }
    },
    {
      "cell_type": "code",
      "execution_count": 20,
      "metadata": {
        "colab": {
          "base_uri": "https://localhost:8080/"
        },
        "id": "NNfYkdsoHxRp",
        "outputId": "9f673ed0-0e61-419e-ea29-99610e554788"
      },
      "outputs": [
        {
          "output_type": "stream",
          "name": "stdout",
          "text": [
            "Overwriting mycode.c\n"
          ]
        }
      ],
      "source": [
        "%%writefile mycode.c\n",
        "#include <stdio.h>\n",
        "\n",
        "void main(void)\n",
        "{\n",
        "  printf(\"Hello World!\\n\");\n",
        "}"
      ]
    },
    {
      "cell_type": "markdown",
      "source": [
        "## 2. mycode.c 가 만들어 졌는지 확인하고 컴파일 하고 실행시키기!\n",
        " \n",
        " * 실행 셀에서는 !를 사용하여 리눅스 환경 처럼 명령어 및 실행 화일을 수행할 수 있습니다!\n",
        " * 위에 작성된 mycode.c가 현재 디렉토리에 만들어 졌는지 \"ls\" 명령어로 확인합니다.\n",
        "   * \"ls\"도 리눅스 명령어 중 하나랍니다. -> 현재 디렉토리에 있는 화일들을 보여줍니다!\n",
        " * 실행 셀에 \"!ls\" 처럼 느낌표를 먼저 쓰고 리눅스 명령어를 넣어줘야 실행이 가능합니다."
      ],
      "metadata": {
        "id": "IMygfR39JYZv"
      }
    },
    {
      "cell_type": "code",
      "source": [
        "!ls    # 현재 디렉토리의 내용을 프린트합니다."
      ],
      "metadata": {
        "colab": {
          "base_uri": "https://localhost:8080/"
        },
        "id": "jNBKNzB7JQKs",
        "outputId": "51a2e0f1-6e38-4a1d-a71c-f3bbd677f11d"
      },
      "execution_count": 21,
      "outputs": [
        {
          "output_type": "stream",
          "name": "stdout",
          "text": [
            "a.out  mycode.c  sample_data\n"
          ]
        }
      ]
    },
    {
      "cell_type": "markdown",
      "source": [
        " ### 2.1 GCC C를 이용한 컴파일\n",
        "\n",
        "- gcc 란? 원래는 GNU C Compiler를 의미 했지만 1999년부터 GNU Compiler 를  의미한다.\n",
        "- [ gcc mycode.c ]\n",
        "  - 출력으로 a.out 실행화일이 만들어집니다.\n",
        "- 출력 실행화일의 이름을 주려면 [ gcc -o mycode mycode.c ]와 같이 실행합니다."
      ],
      "metadata": {
        "id": "6g5Y4O1cJ19l"
      }
    },
    {
      "cell_type": "code",
      "source": [
        "!gcc mycode.c"
      ],
      "metadata": {
        "id": "P_BUtjfFJTCs"
      },
      "execution_count": 22,
      "outputs": []
    },
    {
      "cell_type": "code",
      "source": [
        "!ls"
      ],
      "metadata": {
        "colab": {
          "base_uri": "https://localhost:8080/"
        },
        "id": "gbixuQYRKPsl",
        "outputId": "7d0b9c93-15c5-4d9b-b392-1bf6acce4aa3"
      },
      "execution_count": 23,
      "outputs": [
        {
          "output_type": "stream",
          "name": "stdout",
          "text": [
            "a.out  mycode.c  sample_data\n"
          ]
        }
      ]
    },
    {
      "cell_type": "code",
      "source": [
        "!./a.out"
      ],
      "metadata": {
        "colab": {
          "base_uri": "https://localhost:8080/"
        },
        "id": "1nGh8e7HKVUO",
        "outputId": "d0df2ddc-d908-421b-9e9e-b42e10eea8bd"
      },
      "execution_count": 24,
      "outputs": [
        {
          "output_type": "stream",
          "name": "stdout",
          "text": [
            "Hello World!\n"
          ]
        }
      ]
    },
    {
      "cell_type": "markdown",
      "source": [
        "## 3. 데이터 타입의 특징 살펴보기\n",
        "\n",
        "자! 이제 데이터 타입의 특성을 살펴볼까요 ?\n",
        "\n",
        " * 기억해요, 1 Byte = 8 Bits"
      ],
      "metadata": {
        "id": "-6bGOHSeKq_g"
      }
    },
    {
      "cell_type": "code",
      "source": [
        "%%writefile mycode.c\n",
        "#include <stdio.h>\n",
        "\n",
        "void main(void)\n",
        "{\n",
        "  char c1;\n",
        "  int i1;\n",
        "  float f1;\n",
        "  double d1;\n",
        "\n",
        "  printf(\"문자형(char) 타입의 메모리 사이즈 = %ld 바이트 입니다!!\\n\", sizeof(char));\n",
        "  printf(\"정수형(int) 타입의 메모리 사이즈 = %ld 바이트 입니다!!\\n\", sizeof(int));\n",
        "  printf(\"float 타입의 메모리 사이즈 = %ld 바이트 입니다!!\\n\", sizeof(float));\n",
        "  printf(\"double 타입의 메모리 사이즈 = %ld 바이트 입니다!!\\n\", sizeof(double));\n",
        "\n",
        "}"
      ],
      "metadata": {
        "colab": {
          "base_uri": "https://localhost:8080/"
        },
        "id": "w4xaLKJ9Kp7A",
        "outputId": "bd1fa43a-cf58-46c9-87a3-4570dace4479"
      },
      "execution_count": 47,
      "outputs": [
        {
          "output_type": "stream",
          "name": "stdout",
          "text": [
            "Overwriting mycode.c\n"
          ]
        }
      ]
    },
    {
      "cell_type": "code",
      "source": [
        "!gcc mycode.c"
      ],
      "metadata": {
        "id": "xkLgg9iYMmC8"
      },
      "execution_count": 48,
      "outputs": []
    },
    {
      "cell_type": "code",
      "source": [
        "!./a.out"
      ],
      "metadata": {
        "colab": {
          "base_uri": "https://localhost:8080/"
        },
        "id": "LZPtLFozLTCA",
        "outputId": "421e4b78-201c-4d60-cf42-ba929e93a39d"
      },
      "execution_count": 49,
      "outputs": [
        {
          "output_type": "stream",
          "name": "stdout",
          "text": [
            "문자형(char) 타입의 메모리 사이즈 = 1 바이트 입니다!!\n",
            "정수형(int) 타입의 메모리 사이즈 = 4 바이트 입니다!!\n",
            "float 타입의 메모리 사이즈 = 4 바이트 입니다!!\n",
            "double 타입의 메모리 사이즈 = 8 바이트 입니다!!\n"
          ]
        }
      ]
    },
    {
      "cell_type": "code",
      "source": [],
      "metadata": {
        "id": "b7sEMJzMLmST"
      },
      "execution_count": 26,
      "outputs": []
    },
    {
      "cell_type": "markdown",
      "source": [
        "수업 시간에 배운 바로는 !!!\n",
        "n 비트가 할당 되었을때!\n",
        "  - 양수의 경우: 0 ~ 2^n - 1\n",
        "  - 2의보수 표현 방법 - 음수의 경우: - 2^(n-1) ~ 2^(n-1) - 1\n",
        "\n",
        "![numberSystem.PNG](data:image/png;base64,iVBORw0KGgoAAAANSUhEUgAAA/UAAAJpCAYAAADsaBJ1AAAAAXNSR0IArs4c6QAAAARnQU1BAACxjwv8YQUAAAAJcEhZcwAADsMAAA7DAcdvqGQAAP+lSURBVHhe7J0FdBTXAobZGA7BKW4FWqTwgOAS3N2KUyRYcIcGp7h7cXe34hJiWHAoFGvQBkKBNAnJ5n8zu5tkZVayyYZJ+L9zvvNeWZ27dyb3n2vJkvW+AkoppZRSSiml1JSlpt9GmStXqMxkqKeUUkoppZRSalaGennKUE8ppZRSSiml1KwM9fKUoZ5SSimllFJKqVkZ6uUpQz2llFJKKaWUUrMy1MtThnpKKaWUUkoppWZlqJenDPWUUkoppZRSSs3KUC9PGeoppZRSSimllJqVoV6eMtRTSimllFJKKTUrQ708ZainlFJKKaWUUmpWhnp5ylBPKaWUUkoppdSsDPXylKGeUkoppZRSSqlZGerlKUM9pZRSSimllFKzMtTLU4Z6SimllFJKKaVmZaiXpwz1lFJKKaWUUkrNWmnmPbwKC6Myk6GeUkoppZRSSqlZq8y6DyI/GOopjat9LiLTyAMoMmE7fpq8BT9N3InCo48jQz8/6edTmmj0QdrhB1HIYztKTt6KEhP2IO+wc0juJvVcSimllCZ1GerlSSxCvQ9+/L0n5p9qjwVGnH98BKoPsTDIDFiH3iek30dtB4xftl/6tVRLP+Rc5I65kmWods72FcjIRni8aT9kOxpv6YmVV8vi+tsM+BSRDJFIJp5OOkYqHRH0Ph+8bjbEnF1TUWnUJcn3+7a9gMILl+PHPlKP0QS3zwmUXDIGk8674syzHPgnzB6RkYZ1OzwsPZ48/x/2XuiJvou38/pCbar9r79h4knpv2+i8w9PQXFeQyilNEFkqJcnsQj1l9DIMxOUeo07HSPt8dRrFrJZ0sAbPB5Hv0i8R7T2eHR6lfRrqZY+KH24EL5IlqHaL38ORn42uuOu+060PVoN9/+zkwzx5oz8khnenkNRbYSv9Pt/U3oh95zhWPEgK0LCaqDTAKnn0ASz32HU3NEc5wNTQCkR4k0aqcCntxUwb91mZOB1htrA5Ata4G+lRN3TqPzYCM36Sb+WUkpp/MpQL0/iN9QLRiqzYuuqY7CTfA8tGerjSYb6hNBp3FSsDkhttv5bYti7Khg87bzk5yR9fZFl2kTMvpkbHzWN9MgvDPVf07STPLD6WZrYh3l9I53w6NowuAyS/hxKrZWhnlJK5SNDvTyJ91AvGhFUE51HmxmGz1AfTzLU21q7ETOx9q2DVb3zxgx/XwudRn9bPfZpPWbDw+97vIvQLQuG+q+lH7LO645LnxXxWLcVePdnH1R0l/o8Sq2ToZ5SSuUjQ708sUmoFxt2r6//ajpIMtTHkwz1NtXtONr7ZUaERLnGTTu89JuOrN/A72I3eB36XiyJF0bOd4b6r2PqqQNwVgj0Ur9JnIy0x3PfacjJaw6NJxnqKaVUPjLUyxMbhXpBpTOObt4He8n3EmSojycZ6m2pw9Qe8NfrWdY39H0prD08BL3WTkbXjUMx4UwNXPvXfM9+5JfiGO2R9HvrnWZ1wAMTZchQ/xV0X4XZAU7xOvpER2Vm7FhtwTQsSi2QoZ5SSuUjQ708sV2oF1R+dsFADx+J9xJkqI8nGeptpzfKH8uPcIkyjTLiQw10lRhGbz98MeY9S2k6NEU6wHvvbuM3vpKIDPVy0wc/HfgRIbGYQx8ZkQLvP6bHv18sXyQy/HV71ODvSuNBuyE7UGPhQjQwYv2527+JUU+UUioHGerliU1DvTgMP+j+YBTvK/F+DPXxJEO9zXQ7jr53HE2GmA+XpyO11GsFU8zojDtmevk/+09ABonXJiUZ6mXmoJnY9MGCYfeRdnj3rCFGL9+IHAM0a6S4XUSeGdMwzrsI3pnoOVWpTIMD64+zt55SSilNQjLUyxMbh3rByNTw3LsVyfXfz8pQbzd4P8r8tg4VjFh+6n44SwVYt7MoMGW95GvUbkaBQYaL+6UauR3lJZ8vuh25tcKIuH950609sOJyRZx/UgQ3Awrh2pNSOHalJSZvWoxCRhaPSjFyDTrs7oj118vh0tPvcetFIVx9VA57Pbtg8LJtyGQykMcm1Hvju2kz4X64OXbfKgsv4bP8he930r8+Fu2diFrjz1ndAE8+bCsarnfHb+frY/+dUvB9Jh5Hftx6XhQ+D8vi8NXGWHrUHT2WrEceiwPcJeSYaPw3Kz/5ENKonueHTNMmYrJnFVx4Wgg3npbCYe9OGLw0jvtnu+3E+CcOkmUaZfjrVqg/xMiikH02Y4T/j8Lxl8GpW1Ww90o9bPRsjqWnO2HG4V4Yt2cwBqzcGLMNmPsh/CRxnDGux48jvAw/R9sBh1FC8rVqy08+KP06oW5km7QQ3Xb9gsVetXD4nvAbqupiftx5URA3nv0ArwcuOHSlMZYcGYSu83eZ3r7M/SBKaT6z8ob6eGYiAEZ+KYvxs7W/53qUGOkp/b562qTeDTiK4tHfRV/hu426GPNct1MosWQkppyvjWMPfsS1gIK4+exHXLhVGysOj0G9cRd03zvKfkdRabU75nrVwKlHReEfUEB4XQmcutYEM3fMRskhtpqW4Yfs66vig7leenFe/LWxKGa0zC7hx42ueG7mptV/94daeEPRD6lHr0XLLX0w92JtHL5fAleeF8Jt4Vp47WlxnL3lig1nemLImiX4cYiR0V8Syv/6LSjUN+PnrF59c9+P2hvcsNSvkvAdC+NWwPe4/LACdl3ogX6Ld1q3pWC/4yi5YDIGHuiM5d418MeDn4RzX3jvF/mEc78Qrj8thkvCuX/kWn2sPv0LRm2cjUpjzlv0tyLFCFPlvxV5NWVqN2QDuhxugsN/FsWNv4viws2GmL1jDooPVp8HdoMORF9PpBT/7ps/9ni+xpnRbsAhVFw+GuNPNMPOm+Lf28K4+aKA8DlF4X2/EvZ4tcXkHZNQZ8IpOEi8Xso0o7caL8/pO5FduwOl73GUWzkEMy7WxB8Pf8B11TWmOE5fb4xZO2ahlM2uMZTSpC5DvTyxfagXjAwthgnTLum+n5WhPsWyhgg0Nbfu3yZoIjW3rt8CrDbVO6XMhDWL9b6jEJhLHixqPDBHFMLUaUIDU2jYV9xeHzeCTQ9NDQmsgtGzTsU0hvocRb0DVfEwVPr5KoXG9T9PWqKjh/53i9KyUF943FxM8c+Df02Fq/DM8Dw3HmUHm9m5IFo/OE+ajslXiuK1yd9S1/DgPDhxdhSqDDfTODcTqsNfd0Tlvt4osr42/pL6fLHs7g+Wfm9LdDuEwQ9Mh3pxNMqnNxWwZPdUVPc4BSep97FUsz2oCrzxnoW0Uq/VmHFNDROBTYH31ybpvcYbeeYPxIa/ssRqOLbYi/vv6yqYtnwPUum8n9rkc9rhL3M9uUZ1gP/hLQbvGaNt653DpF64ajSsOuDmkY1CI9wPmWYMx+a/0yDCRLlFfsmOw3t/1wp2Psi5wA0H36Qwea0I//QDVqzehRR63y3unkana2nMDqEPf9sCDQZLvV5Lt5No5Z1FZxHJyIg0ePq8jBBoO2L8lmmoM+WoZP2I0RfZZozDgpv5EGTmBkGUkV8yw8+vF9pMMLctZGK4fgv1bUoP3DBb37xQeGV7XPxgYq2OSAfhs5rjl8kWbpfpvgPtj1XHrU+x39kjUpkaj+60R9cpZ02Ee1/8uP8HE+WfB3NnesPpVw/seCs9Iir8U1kMneQTxzn1trnGGdN+2Fr0OlUZ94LtLSvXSEe8fFIXE1fuMHltF4+j6slcxqeDhZfGkDHi325f5JjXF3tfpzS5TWX4p6JYucYW1xhKaVKXoV6eJEioFw1+9gsqavf6JJFQP+233WjvmQ/BFjYWlMGlMHaaJ+zcN8P9enaEWfi6L+9qo8sYqTvr5kN9+LuiuGKqMaijAkFPf0aTkWbu4gsN4aq7q+GvMKn3sMzwT8Uxf9kB40HYglBfc0ZPXDbaqLbHn6fiMoXDC/XO64YWkwqNwM8f8uPC9WaYuXsCGk07itSx6um5JDTa8piewx/UFI2N9p6eR0sfZ+PnqDIDtqw4G/N8t9OoeqAsXlkYpqSMVDrjwsFVBj1aNgv1CVDvzIf6dSiyqinuWvodlGlwYd9GpHI7j9LbquNZuMRzJIyMyIadaw/E75oL/RZh1Xs7yc+LNtIJ53fut+hznaYNxTrfVpi2ezxazN6O7FHD9C2x7wE0P1EKr62sf5FhOXBw7yoTc6kTw/XbklC/GmW3VUGAheWk/FwKE2ZpnecSOoyZgRXPU1v99zzKyJCCWLn8sJG6YkGon7sGk54Yv8ElrstQTfh7bnWot+E1zlBv5F/WCRcsWCRV0sjkeOw/ANWGGTuHLAn1F1F8kyueWHizU7zG7IrvawylNMnLUC9PEizUiw3FG8d/1wyXFkwKoV6ZDRfv54nd3X/B/541wpI7mU328BmqwJsrU5HdoGFhPtRb46cnPVHJ2F7Tbn+g4aki+Gh1aIsxMiI7dqzbLz380Fyof1MTmx4ZX4wuMuwnjIzj6vJpFjdDgLXHGalA8Ifv8YdXN/Rfsg1Z+kh/hrb2E/rBx9R5IdS5lQuM9PqZCWwR75uhUfRv6ov866vjdXz8hsrM2LPukE7D0CahPoHqnelQb4fnD8viQSxGCIhGhhXBhjPl8TKW3135by10GB6LoGxG+3HuuGQu4EQUx+hfbTw0t99O9L6WHV9iee00MDIFbp6bixySgSsxXL/NhXo7BDwpjmexDKXh7+qj7Qgj9WbQCsz52/RIkdio/FwB/cZJ1RdzoT4XdnuXxCdj5SiEXM/d6oVErQv1tr3G6eqFHzfViPXvJOXngNZoKvnbmQv1P2Hu3pqx/g7iNaZjPF5jKKVJX4Z6eZJwoV4wMjw/5s89p36/pBDqE9jIL6UwzKDxZJtQL96EuXZ4g0RvpjeK7ShnfpGsWBgZ+iMm6k/PEDUT6iMjHEyEAgUCr06J+4rIfXZi+J+p4qUB/N/74th0YAaKD5L4nCjdjqHnTVPDo+3w+MwKwzUqBJ1m/Yw/TYSDv4TXRQ+1dF+A398ZvwEgDq99+rQMjt+siDOP8+AfM73LEe8boJXW2gLxH+oTrt6ZDvUJrHAeXthlWa+5JSaf19rk+gaiyg9N0UjqGhpfup1A4/N5LO7lNqs4EmLPFolhxInh+m0u1FurHZ5dnCexCKcXXI4Wir+yVylck84ukxiibibURwrXbxPHrfxUEx01vdZWhXobX+Ni9EPWxS3wwMIROOZVIOjPAShlcA6aCfWR9ibL06iqa8w+9tZTSi2WoV6eJGioF/3yujXqiXM1Gepjb2QKHN+kv5p0LEN9pALhEfaItKBRp/xYB+2HaH/WFdj/OhRn/jM17ztGpRi6hd/KkkD86c+B+FE/gFuwUJ1RI3Jh8VzLFlszp5PHaBz6YOH8SAsMfV8Ovy01Pvw7/dLGJkcHhL/ugCoGO0r4oIypehCRD7NmeEc/X2wkG/uMyIg8WL3sqE4vdvLRCzDrrzTGz3+hbp7fGdMwjO9Qn5D1TlahXjD49hjJHl5rTLXaFZ/NnPtfnvVGCQtGlVinH7Isa4znltQN4Vr1xcJrVWRoCYyZpL9WQmK4fsc+1EcI9duSUQKRYSUxSn+kkvs8rA0yM/1CY2SkHb58seyzIt43RwODv7tmQr1Jhb//Z1ZE3yiwJtTb+hoXpd3Q2Vhv4uaBtuK1KdyC8hQ/y2vvdr2RRGZCfRwMvjUW2eLpGkMpTfoy1MuTeA31kSHFcezPtKaDf6QDHl2cjyxDklaoD/tYCCev1sWuO9/jdSzu2Id8KILjV+ph192CCDTbsJPqpbUw1CtT44bXCNQcd15olHghx4xxWP08lZnfKg32rTup9Vnn0fBidpNzzCMjMuPsqXGoFbVoXJ8zKDhrIn67bWb+qTInlszVK/9YhPrIsCy4crs2tl6uAu+3afDpUX/DmwRxMPWksdj2Ov6GrEZGZMGR7Zult8PrtxazX9lLvk5lRH7M+C0moKt0240xj43P5fzyrCd+ig5qfsi2pTzCJJ4nqvxUHy0l5u07TBR+x9OdMO3gAAzZ8is6rpiHOrPX4yePg8g+yEsnrNh7TMEsz8ZYd6kx1t8ohCAT52xkxHc4461+rtpmmLTssNZnJ2y9szTUR4Y74+bdmth2pQL8YzGPVlzo7drtWth6xcWiRcoi/mkLV6lrmhVm2FgJoRKfoe2Xh4NQwFYN/D6bMPm56WOODM+OP45MhctIT6FO+SCjxwIM881vfJi2SgVe+85ARp3PSwzXb0tDvbjWSXP0nnUYqdz8kGbMMgy9Ym7qgANuqRbZi/msFAubm55OFOmIR/690GHWHmTqp+6Vdhi0B/X2VjH9uqhFB7U+K1ahPjI5Ap5WwE7f2jj8Vy4EhZTAmAkxNyRiH+ptf41TK95MLWz6GiO0eZ7d6Y4O048Kv53wGYN3oeGuergTIvFcLZX/1kMbncUqLQ/1Xz4VwOmr9bD1Whk8+Gz+hnTE23aoLrX1MKWUSshQL0/iN9QH10O7SaNx7JPpHjVxPuuGde44liRCvdDYetgT1aKH5fkh09xOuGp2ES0F3twZhHLRQ7F9kGd5U5P7eYt+ujJNb5ijJaHeDn/7TjeYd2o/ejwOmvythIbypbkxw1oHzcA2U89XpsXJ7buke6D7bsdIk8PY7fDkzHLdBq+FoT7i34oYMlUzrUOlJzIOjp9eeh0HbUXnk+XxJA6LtGkbGZELvy85KdFQ9EWR3T+ZaLCre7K1G+t2o4fjjLHzSWioe+9Vz02Nen6WTRWMh7vIlLjtOwCtZ+xHhnjosY3zPvUJXO8sCfXK4J8waXbMSuh2Q1Zg9jPzN32U/5bH8GkxddVh9EyseW0m5IbUQntT5RMLTf7uGsPuD0NuG4X6FHPb4LGpcKh0xtEtuw1/S7fjaOX1nclezsiQKuihs8hYYrh+C3XAglAf8a4hWukvoNZ3J4beN9GzLPjlqfaoC1/8sKssAsOMj374+GAwfpAKd322w+OpiWuxcA5uWa7/99PCUK/MiGM7NiG91mtTDT6tU07W9NQnyDWu33Is+cdUL70C/9wahSIGZeqH75Y3whNTv3tkKhze8IfW3wdLQr26PlcfGlNXHEb/hg1vzVxj/quDtvF0jaGUJn0Z6uVJvIf61gN8kX9DNbwx1XATjPiUwWQ4TyyhPjLie0yZqtdr2vsMOl9LbfqP6JeSGKW/GJXbH+h50/jCb6KhNzx0Gj+WhPrIiB/w6wT9XhTRS6hzznQP6JfH/fCDpoFvrmFlemX2K8i0rjr+NdEo//LUDcW1G1iWhHqh4XNme/zNObbE5CNXo9vh+rj4T2rLhlKa8MvLTqgkUV/thk/A/s/G6+uXp320ysoPWTdUMdqTGRlWFoP0Vt52mtnRbAARjfiSFs9fFsX5W67YeL4TJu4cj9ZztyJnLFY5j2uoT+h6ZzbUR4o3VTYZBM8Ma2qY/Bzx5sqlPbo3V1Q9ihsrm+6F/lIF3U2twxAL066ranZhuC+PBqCwTUK9Nyr+kc9kKPnyvCdKGQlZdmOG47Sp7eOEYLlt5QWt1ySG67cFoV6ob1cO6A/FVptmSWOTiy9GhlVBD70pVGKdSz7oD+T9dRtcZi1F4+VT0X3zMIzc74Zu07XLL8pLyDF9Cn4PMHEtjkyBPav1b6RaFuo/3h+GgmbqmzWhPiGucU4zOuGeqWtbRGFMniz1t1fQ7SDc75m6EajAe78ZMYsLWxDq1Z+nX599UWh3SZOLUorX4M4M9ZRSC2Wolyc2CPXCc90Oo8vVzJZvBSZp4gj14W9+RlWDu/DiH9/cphuvf/dAaYPGqzcqnTC9pVnozfFw1nmN+VAf/lrqO6p1FgKPqTm2Ee9aobaqPH2Rf1cp0w3kMGc8fZMLD435Po3JhoUyqv5EfT8LQn1kSFX8MlTrNQmp20XknTED7keaY9/DfHgTpjDZoJdUmREbl0ntK30ejS5mNXoORYaX0Fqh/CzaXzY+7eXfW+MMVwfvuwmTnknvDW2JkV+ccedeY0xaswFZjYSwKOMW6hO+3pkN9RG5MH+WfsNZPE5TCxUKRhTClCmGDXwxGJgMH18qo0c8hfoUQgh8a+L6KRr+sgsqWDwU1wsZh52VDJwGCqG3zx1Tdc4e9/9YIz3iQtRtN8Y+NnU9EG+2bNZ6TWK4flsQ6pU5sWiOl85roh0yHkdMjSqQmqpjVl+kH70ZtVeNxIQzNXHxdVrzuxRYG+ojU+Lgeu0pXtJaE+ptf43zQ7bN5RFqomzCX3VCJaPnki+K7itusny+PNeuZ+ZDffirzqgo8XnJFzXDC1Pn/ZfqDPWUUotlqJcntgn1wvPtRkzDtvd2Vv9BTSyh/sufg5HfoJfBGy7H8pv84xt2Z7TEwjTi6wrEe6gPezAEeY30hIiNJVNzJZWf66Olqjy9UdlMgzXOhpeFu/ZWPhaEetv1Klphv+MoOX8SRp6sjUvvUkBpriGs0g7Pzi2VfD+n6d1wy1hjP9IxZlX0AfOwzljdVqbFnjVSQ/yvIP3cTrgR16kEkfYIfNIaHX7VP3dijFuoT/h6Zz7Ul8IwiT3HnaZ3xR1Trwsvj74Se1CLv/NtU6+Lx1AvBkh/U58lGBlcG+2MbWepr3hdDUqOty/KYsuJwfh59n6kN3Y+9tmEqX+bDuV/bD4h/VqVnmh/xVRPuAIvLy7Qen5iuH5bEOqN1DeV/RbidxPbWIo3Ddca/F3T1g+pR25FzRXjMPJIa2y9VQJ3g1LGfgSStaE+ogRGjTdybFpaFeoFbXuN80GZI2b+9gr1JKvOa3RNtaqWyVE6yg/N0DD6uMyH+tDbY5BF7zNEnWa3xyOT1xiGekqp5TLUyxObhXqxsZB9eSM8NdOANG58h/o52PAx/kN92N2R+C6eGnfWvc6CUH93lNHVs5PPbYMnFoV6L9Q8a3qofpyNKI6x2qs1mw31Crz3nSmxlZWt9EGqwX8gz7idKDV9NWpMPyCxjZPGPn+g0tZ6uGdBgzLs7mjp93Dbh6EPjA/P/O/ecOQRftfkc1sb/Q2V/9ZHK6OB0Af5V7TGlWArRhjo+eVdHXQcLd04j1uoT/h6ZzbUh5dDf4l9pK0N5wkZ6pO5T8WuYInP0FbcKcHC3t0U8/TqXqQC/334Hn94dcPAFWuRV3sIc981mPPaxAKQkU44sFZq+HeUl9DCO52Jv0EK/OM9R+v5ieH6bUGoD3dBP2P7iPdbYXpOd2QabFthuL6Iw7D16HywMU6+yIAQE9d/i7Uy1It/X1pJ/b3W09pQb9trnPmRGSH+E7WGzxuaYlkDk9t0Kj81RPNYhPrgq1Ml/yYx1FNK41OGenliw1Av6HYSTS/mND90T1JrQ31jNJX64+4+EftMBawkHOrF3uxCRkK9OBzX1PoH4lZF9VXlab4BE2dVc/9jE+rtcff4OuPDdeNin+3o71sKfs8K4ME/WfH6cyqECo0i7Yah+VXJvfHj7lLmtxB75C7xWlE/ZF3jarS+R4ZWgNsIL1Q4bmyesh0CLi6QXmFfyxRjlmLg6Wq48j6FRdtXSavA6ytTJG8exbWnPqHrXZIO9W77MexPcyvuO+DWsfXmzyu3E2jvl9Hk34SI/8phUNTe7H22qFa+l3qeWgec2mq45VuM59HlenIT311/1EsSCfURpTB8rHaY1LLffKw1OQLNGRuXaf9d80KR1S1x5bNlo+giI1Lg5YtS2HexI3baYE69pVM9rA/1am1zjfNBqcPfW1G/Yky7tjr+M/F9Yqa/iZoP9R+vTGeop5TaXIZ6eWLbUC9oN3gRlplZ3Vla60J9ZIgQECSGjjqYazgn4VAfE8z19UOe7WWMbvsj+uVZL83qyX7Iu6O0yeeK8wcrD/CGU18r7eOr26A3G+qNLyAVZ90OYqgQfqQ/V2NEEUwytgiSRvtxA+Fpqt4JikM0pV6rcsBirAg00hMXmRqHNq7ARGOrUkfkwqI5+nXalJeQfdJytNvSB/M8a+DM01x4I66ULfXeEkZ+KYPBUsPS4xTqE77eJelQL1wvih8QgpaZYKP8WAVu40zVbT9knN8G983UbfHGV43oa88p9LrlZDKUS235Fm2fjZhmKlgK1wNxl4eY1ySRUK/MhhXzpefU2w0fhZOmdpERrgELZ8eMusiwoC3umXh+pDIlnj6qiSUHR6HdvE3IOyiqDpxH9xuOkq9RaWWoN1gc1YhxDfUxxu81LtPGSiYXnoz4p42JG78+KGtm+P6XvwagSHT9ZKinlMpDhnp5YvNQL+o8rz3uxmLvX7VGQv3SRqYXepIMMpdQ8bjpOZJJOdQjIg/mzpRoFLqdQLfraUw2aD5cmYq0muebGuYtGhlRFBMmGQ8Cdn294GSi18JAC0L9pd22WvneG9VPm25AiXX0r/OLJH7HGM2tjqzeUm2F5GvVivsgf280hP37uBT8jZxbsVvwzIhu55F70gq03Ngf8/2KI8BUgFCmwVaDba3UZWA61FdDVxNzuBO63iXtUC/eaBqM8xZMCwl5XRd9p8Vs2xejN3Iv6Ikz/5rr7RWv4Su1pseYn4Mc/ro9qhsJFw6TzfwuQvhdPk/7OpdEQr1Qjg9Orpa82eG8sq7Jm9wIL42hYzR11W0XRv9l4qaKMit2rt0vPUKj32ozUyesDPWP3M2ufC8af6Fewjhc4xym/mJmlEVuLJxtOP1BZZ+tmPjMVIeHHZ6fW6r1uzPUU0rlIUO9PEmQUC/e5a/2RyGTq8QaKh3qk89vafKPuzhE7t/HnVB/pKZ3wu0cSqxvZH5uc1IO9eLc83uDUVyv0eM8pwNumrrZEumA8zsPxIRm97nGF2RTqcA/dwajlEQdsB85B8sDUkAZ4YQPH7Pg8atCuPKoLI7718QWz5ZY+EdPDF54UDegWxDqL+zS+n7xbKqFzc3UNTFQZseeTTuk59b3246Bt51NnjPGV7+P0d7cVl5SCr/d1UNbzY9icPNEhhEHUXTyelSdNx+tfp+A3mtXGNmn3Bd5N1YxPgc0Mjn2rblo8DqHad2NL/gnamohMNEErndJPdQn630aLbyyWLROQWREOty7Vx9LjvXCuH19MPlEc+x9lB2fzJwXopHhRTBJb7V/pxmdTd/kikwJvyOrDa+NA7Zh6F1T8+nFEUnN0EinDiSVUC+E1v9KY8wUvXNrwEZMfGxqSzSxp7g1amqu+3ajh+Gsqeu9kXot3vytcbgkgkz95taGesmFCg2NU6i35TWu71rMemXiZofgpye/oIrB+euJkjvLmZxPD2UWrF6s/Zsz1FNK5SFDvTxJoFAvOGANpj0zNR9SX+lQ7zDRDVfMNIBExe1oHgYUwv33qSxbyTdJh3pBIeS9eNAW/ZeuRpmpq9FiRzNc/mx68SDDvZg9UcNc73WkHd7/XRtTNs5F1WmbUW72PPxyoDG8gkxPwYgML4TfftMr/68c6pP1ExpsLy2YOqJMhfv+P2Po6oXCMW/FT9NWotnGXtj81Nls3Qt/0w41zDamTqH9ZTM3B/SU3Edbo8OUATj+Kjtefk6JMKlGZUROrFx4RvK1KUz1mkfkwgKtob5R2o9zxyWTQS45bnmOh+vULSg/bwb6HuiFThO0w2DC1rukH+rFG0XjcfBfUzdK4qoCry9PNVwh3m03hv9pOoiKvaG3r/RE90VrUGbKOtRZ3R/rnpg5l4Trm+E6AEkn1IuGfyyO33fNQI1pm1Bx8RgseJDZzDQK4TfwmhO9UJs4YsbkdIlIe7y43xG9F69G6UmbUWHOfHTZ1QG7nmaw2ZZ2tgr1CXeN80XRXebWTVHgw4tamLx+ASpNFcp1/hSMufQD/jHzm38J6IbyOiOtGOoppfKQoV6eJFyoF0wxrRf8LO5xlA71yQbMwQZbNEaTeqiPtQoE3RqjWl1d+zvajxbCwKd4Ln+hQf7w/AJkNAgAXznU9/ZDzrU1TC4kGCeVGbBv/WETC4PFmGpuG/wVi+8RfH848hlrLA9YhJXvTKyYLRjxoSymr9iODNHv4YXvZozDmr9TGQ1kEYEtUUfq/Hefit3/Sb9G0sjU2LlKNyAkZL37FkK9aj2NNTVN710dB5WfKsEtaoE8PdPO6YA7sZ6OZdqId43Q0mC7wKQV6mOtMgeWzYvp6XWY3BPXbPE5okKo3yunnvqEvMa5r8C8F9asG2TcSGU2bFh+Qu9vA0M9pVQeMtTLkwQN9eIfzVL7SuKjubv+Ko2E+t5n0NYvdr2WahX4+F8q469jqNcxMjw/5sySmgvoi/zrq+N1PIaBkBc/o6ZUaPnqoV7Q7QC6X88c/1uqCYHyqc905LSgQauyzzbVgngWNRyFUHxko6lVxH1QbHcpk/sjqxQe/xKSEc/+yYG/P5lZNToyFc7t2iX9W7jtwK8mf0d9hd9150G990m4evdthHpBt9OocbQYPsRzsI+MyIUNK03drLqACgdLxNvnRn7JhyULT0p83rcc6hV4f2eU7nz1AWb2tDdjeGgKE4vCOeLIBv2e7685/D5hr3FpfusNr//i6aZjpBPunlmILBL1kqGeUioHGerlSQKHesG+2zH8QRoLQrmxUH8FKWZ0xa1Y9vQEB7RFh73lESrxmMqkGuqFBvbhKz/GrgEdmQL+x1cgvc7naCmEAddjP+DfeGiUfwmshV9+NbInthxCvaDd4BX47YklddZChUD/7PoolIxVI8oPebZUsOiGmPJzTXQcIvUeWvbbhiF3rbk5JmGkHV7dHIUfjC7K54MSB36MxZoa9nhwYrXh+yRQvftmQr2o23HUP/YT/om3gJ0LOzbu0Focz4jC5zY88YPpedoWGBmWB5vX7DGy/d63G+rDg6qjp8HuBd4otb+42S02pYz41wUjlrnBy+j3lNqJ5CvPqU/Qa5wfvlvUEZeD4xjsI5Pjgc8kFJb8HIZ6Sqk8ZKiXJwkf6gUdPIbh1Gdzf/yMh3px4b2KB0rhvUUNQgWCnrZHs1E+yLKpwjcY6gth6rTDaHCiqGUN6MiUuOs5FQXMbTMkBKxKu6rjLwtW0ZZUaCQFPm6P1uOkt2pSKZNQL2o3eD3cfQvEuXdRGZIbB/YvRQ4LGrIGDp6BLWannijw2nuW8RsyWtoNXovhN7LHcgFLXSOVaeDv+StKmDnv7QYvxpJXjhYPUQ3ymyH5PglR776pUK/SEz+s6ogz70xtN2fe4DfVMXbu8Vicj2dRdnMj3Ai2bM90fc1/XhIJ9RF5ceSKhddvwbB/XNFnkuGClSr77UTva9nMz5HXMvSfGhg47bzw2mVYZmx7TcHPd0brjTz6+gvlJeQ1TtR52mhs+DuNVXvhR4blwv59yyXqY5QM9ZRSechQL0++SqgX/9gX3lLRTO+QqVAveg5lNjaD37/GhyQrQ3PgxImpKKbZLuvbDfVij805lN7YApeCjAerkHdlsHTjRq05huZNO2EGJvkVx99hphfdizbSEW8DqmDR1hXIbW67NRmFerXe+G7GBEzxLot7n4R6Z2nDTQiSn97/iL0nRqPGKBM3Mcx6CdVO5TZZP8RtqX5faKRBL6UQkkuv/gXbHmXHx1jcsIgMd8btm+3Qf85h4/uK6+k0bgYWPspoUaAIuz9U8j2itGW9+/ZCvUb33Wiyqw0OPM2Cz5bWhUgHvHtVHit3LkIBK0OB08jf4XayOq59sOCmj/B5gS8rYPnOhSho9vOSSqgXd4c4h2KruuHAK+OBMTI8E7wujkSV4ca3d1TZ9xAaHnDFrc+m92eP+C8P/jg9DuWHRtV14fpz0vj1J/JLcYyZoL2OwtcP9SoT8Bqnsu9RVN3UAfufZbLoZsKXT/lw/NxgNBgnNd1NW4Z6Sqk8ZKiXJ7EI9TLV/QCq/T4Uk041xwbfOtjm0xgrT/bE0HWLUHyomcbNt2i/Yyi7bAzGHm+NtT71sNW7GZYcG4CeS7Yiq7neeRPaDTiMMgunos/unph1pjnWetfD9su1sd23PtZfbIM5hwdgwJr5qDjurPlt1hKDbheQe8oytFw3AqMPdcWCc82wXjjmbeIx+4nH3BrzjvTFoPUz4TrpuPnhyBbpg+IHfkCYiYZi+Nv2qG6scWvG5MN2ourSSei3uxdmnGqF1V71sdWvNnZeriPUkyZYdaYTJu0Zic5L1qDQYCvPLaHc8s+agb77umHh+cbYLLz/DqG8Nnq2wKLjPTFq60S0nLcJ+QcbmZKh5zdX7xLIFMN2oNrSiei/RyjX0y2xRqgLYt0Wf6sNF1thvlC3B66bgyq/njYy9N0K3c6i4Mw56L7DDTNON8c68bf0q4dNXs2x+HgvDNswC9U9TiW539GyUK8Jy2IZCefPgAOdseiCcP74NMGKk90wZuMC/DQsdjcM7QYcQsVlYzHqSHusEn7f7X51sUk4DxccdkevZWuRz93wxlViN0GucdH6wnncajRfPxQex4QyvtRA+Czxcxrj9zOdMXHXeLScvRuZ4vB3l1JKv4YM9fIk8Yd6Sr8R7YbNwCaTC13Z447Btl6UUjkbq1BPKaWUfmUZ6uUJQz2lcrLffpSftQtZ9HrbU4+bh6n3nU3O1YwML4ZxOsNfKaVyl6GeUkppYpKhXp4w1FMqJwdMx87/kkEZkRqvA/PgTkAh3H6TCZ9MNfo1/nt7NPLEYj0ESunXl6GeUkppYpKhXp4w1FMqJ/v+jvmv7cVTM3Yqc2D5/AvS70kpla0M9ZRSShOTDPXyhKGeUjnpth/DH5pa8V9KBd5cn8BeekoToQz1lFJKE5MM9fKEoZ5SWXkR7a+ksmybNo1f/qmP9qPZ6Kc0McpQTymlNDHJUC9PGOoplZXeqHba9F7E0UY64OXD9mg7/pLE+1BKE4MM9ZRSShOTDPXyhKGeUlnph2zz3bHStwb+ePAjbr7OjpefU+G/CAd8CU+Oj5+y4M9nZbD3Yk+4LdiDtJLvQSlNLNoN3oxm6zzQfb0R1y5AMXfp11JKKaUJLUO9PGGop5RSSimllFJqVoZ6ecJQTymllFJKKaXUrAz18oShnlJKKaWUUkqpWRnq5QlDPaWUUkoppZRSszLUyxOGekoppZRSSimlZmWolycM9ZRSSimllFJKzcpQL08Y6imllFJKKaWUmpWhXp4w1FNKKaWUUkopNStDvTxhqKeUUkoppZRSalaGennCUE8ppZRSSiml1KwM9fKEoZ5SSimllFJKqVkZ6uUJQz2llFJKKaWUUrMy1MsThnpKKaWUUkoppWZlqJcnDPWUUkoppZRSSs3KUC9PGOoppZRSSimllJqVoV6eMNRTSimllFJKKTUrQ708YainlFJKKaWUUmpWhnp5wlBPKaWUUkoppdSsDPXyhKGeUkoppZRSSqlZGerlCUM9pZRSSimllFKzMtTLE4Z6SimllFJKKaVmZaiXJwz1lFJKKaWUUkrNylAvTxjqKaWUUkoppZSalaFenjDUU0oppZRSSik1K0O9PGGop5RSSimllFJqVoZ6ecJQTymllFJKKaXUrAz18oShnlJKKaWUUkqpWRnq5QlDPaWUUkoppZRSszLUyxOGekoppZRSSimlZmWolycM9ZRSSimllFJKzcpQL08Y6imllFJKKaWUmpWhXp4w1FNKKaWUUkopNStDvTxhqKeUUkoppZRSalaGennCUE8ppZRSSiml1KwM9fKEoZ5SSimllFJKqVkZ6uUJQz2llFJKKaWUUrMy1MsThnpKKaWUUkoppWZlqJcnyVaefwtKKaWUUkoppdSUB/yDNDGSyIlkmv8lhBBCCCGEEEJIIoOhnhBCCCGEEEIISaQw1BNCCCGEEEIIIYkUhnpCCCGEEEIIISSRwlBPCCGEEEIIIYQkUhjqCSGEEEIIIYSQRApDPSGEEEIIIYQQkkhhqCeEEEIIIYQQQhIpDPWEEEIIIYQQQkgihaGeEEIIIYQQQghJpDDUE0IIIYQQQgghiRSGekIIIYQQQgghJJHCUE8IIYQQQgghhCRSGOoJIYQQQgghhJBECkM9IYQQQgghhBCSSGGoJ0SmtGjRAsWLF1fZqFEjjBw5klJKv4qlS5dG8+bNJR+jlFJTim2YqPZM3bp1Na0cQkh8wlBPiExxdnZGsmTJKKWUUkqThMmTJ9e0cggh8QlDPSEyhaGeUkoppUlJhnpCbANDPSEyJVu2bNF/BNOnz4hChUpQSulX0c7OHhkyZJF8jFJKTZkuXcbo9ozYYUEIiX8Y6gmRKeXLl4/+I9imTX9cuQJKKf0qio3yHj3GSz5GKaWmbN26X3R7pkKFCppWDiEkPmGoJ0SmMNRTSuUiQz2l1FoZ6gmxPQz1hMgUhnpKqVxkqKeUWitDPSG2h6GeEJnCUE8plYsM9ZRSa2WoJ8T2MNQTIlMY6imlcpGhnlJqrQz1hNgehnpCZApDPaVULjLUU0qtlaGeENvDUE+ITGGop5TKRYZ6Sqm1MtQTYnsY6gmRKQz1lFK5yFBPKbVWhnpCbA9DPSEyhaGeUioXGeoppdbKUE+I7WGoJ0SmMNRTSuUiQz2l1FoZ6gmxPQz1hMgUhnpKqVxkqKeUWitDPSG2h6GeEJnCUE8plYsM9ZRSa2WoJ8T2MNQTIlMY6qltVeL8sWBs3/wB69b/ix0HwuDpp/ccvy84cOAL/LT/jX6TMtRTSq2VoZ4Q28NQT4hMiW2o9/vjPX7t9xAd299He0n/xPDloSYCWgS2z3qKfj3/RAf91/78AN37vcZ2L6nXJT59D/yDYcJx/qx/nO0fYMiysKQdYr1Dsem3p+hQ/zpcylxBxRo30aDBTbhWvory1W+j67A32HAsQvVc330v0GHAe3jrvwf95oxNqPfe+RbDBj5Gz84P9M4vCX++jw4dHqBzl4fo0fsxBg79GxN++wertofiov5NJkppopShnhDbw1BPiEyxrqc+Eqe3vESXWldQRghs+patch+TdyslXqdtBI6s/httqqpfU7PLS2z+IyLpBV2fUCz4xR9ldcroKlpPDUmyod7v9AeMb++PcsKxVmz0GLO2hsUEdt9wHFz7Gu4t/eHi4o8mHR+iQ4NrqNL7Hby03kOeKuHpaa5e07hoTU+9n+d/WNz3lurmUcw5pj7PGvV9hblz32Lu7NeYNuFvuHe7C9fyus+rVO8BRi4JhqfEe1NKE48M9YTYHoZ6QmRKXIbfe+56gTZVdBvIUbo0fIp1ZyIlXxejEttH3UI5l7uYsN/ccxOrkTgz94Fe4EjCod7rMya1ua66iVG26p+Ye8zI7+oTilVD76JyWXWZlP8lEJeknicbhd9x+WM0GxjEEQU21Nrh9z47/kbDctrnmPo86zDbcESM54F/0LfBVd3nlr2OVuP+xTn22lOaaGWoJ8T2MNQTIlPiNKfe7wvmdtRrHGtZo9tbHPGVeJ2W5xf8ifIVH2HJJenHk4Keix6ivE7ZJNVQH4mDU++houY4q/R8h4uSz9Mo1J9VA9Q9rOW7/IPzUs+RiX7ngjCo3lXUcGeot6XWhnq/wy/R2kX7HFOfZ1KhXvTS9r/RWP/5ZW+g7wqu7UBpYpWhnhDbw1BPiEyJj1BfoYp63rROA1nlNbQc/8nksFavpY9QscpfWJlE5tFL+c2Eep9PGNMo5jiruL033/t+Pgjuda7ApeMbnJZrL6lfGFb2u6maTsBQb1utDvXHXqFtLEL9Fb8QTGlteEPSpcUL7DdzI5JSKk8Z6gmxPQz1hMiU+Aj1dQa9xfSO6iHX+o3kMi430X+l8UXhGOqTjn4nXqO9VrAqW+MRFp0wN60iEgcm3kWl9q9xXJahXom90x6gmmaaAEO9bU2wUC/8rusH3TC8Zrncx4w/kupUIEqTtgz1hNgehnpCZEp8hPq6Q/+F96n3GFBPeih+2aoPMOOA9AJjDPVJR3EV+2Z6wapKy7+x/rTpkOR74AVat3uFw7IL9UocnPcItbWOiaHetiZkqN819rZq9IXOa8rdxthdXAyR0sQoQz0htoehnhCZEm+hXvhvzx0v0LKSXiNZY4Wmz7HpvGG4k1eoV+LMviDMnRyA0SOeY+ykN1i9T2KOrXcYdix/g0njnmPEyABMW/QvjplYE8BUqPe7EIKNC1/BY/RzjJnwGgvWBMdusS6fL9i35h9M8/gbI0f+jQkzArH1WNx2EfA7H4zVs19gzKgAzN4UCh+J50jp94duT32U5Ws9wOhl/+GCsePyDcGaZZ9svEhZJC4e/heLfxOOa+RzjJ/8Fqv3h6vL6eInzJ3zUXdOv184dkz9EzX1jsfyUK+uSwumqT9vrPDbLt0aarhHv8Xapm7KzYQM9dtG3jIM9S73MPmwJT31wu9x4F8snf0KE8b/jRHibyL8xos3/ofzcarHSpze9Q6zJgWozudJc4Nw8IIl3ycS5498xMq5wrVkjPjb/w2PycL3WfcZJzxjO/IgvusupQkjQz0htoehnhCZEp+hXmxYHpn/EK6aocr61uoZaDDE2lio9z34DwZ3uIVKBu91DT2WqnvS/E4FYVy326gmsep1q8n/6TbmvT5heq+7qKW3nZVoHfH7n/mI6b1vG35eOX+0G/8vzqi+txJHV/2NDrUMRyRUbPgYS45KN54lQ/2UYOye/wQtq2v/u9oqjR9hymZzC3YpcWRVADrXFb5L2eto1OUx3HvdU4dQlxtoP/o9jvnovsZz6yu4tbmBCnqfV6bsTQzdJJZpJE6s+Rtta2gdX/nbGLfDwp5Ln08YrTWnXterqNnmCWZsCjUfij3/xdgW/kbWabiC6s0eYtTymJEOF7a8woAut1E1qh4I5dGwyyts99a8n1BPN3s80JSNP1r0eIx+Pe6jftXraNLjGYZ3E+pZG62RAp7BWNBfoi4YeBXtpoca/E7eR95jXOebqnKu0uhP9HN/hNY1xTK9ilrt/8aqY3rl+RXrptxMuFD/BQu6XdN7/hWUq/8c2/TOGx19w7B11lN0qH8dVRs8QG/3pxjQ/Q5qaH121WZPsGBfhMFrxevV+G53UF3ie4rXK5+zn/Bbz1vRC01GWb7OQ8zaZ/wc9D4ehF+730IVTf0oX+suevR/jO7NrhvetIiy4iMsk7iRGuu6S6mMZKgnxPYw1BMiU+I31Kv/bd3Q23ohVqMQttpM+qyzeJrJnnrhveZ11m94x4R6tRFY464/N1Yi1KtUYu+vdwzCYq0ez+He9BrK17yDDp3vo4H+Nn1lb6CPECJ3TH2AGuWuoU7LB+jY4obBMVbu8FpyCLlhqL8C1wZiI/wqajS5j86d76Gu/giHincwYr2xYB+BXdP/RE1NiK0/+IOmd1CJg9Puo5LqPYTfxS0Qx/S/j99/mKy/QJgm1J/b8BxNK2r9u8qraDnpP933MKru6vfSXkPdjs+xYKeZmxY+oVjcS2rO8wPMkRzOH1UPrqLZOO3FGSNxbN6fqK4KPFfRWgxPmse8j3/AuPb+qs9waRaAvZoF0ry3vETvHo/Qo51EwKp7D7+Ij2kcv1r3OC7ueoXONdXPLVf/KdZpRqf4HHyF9prf2KXuX1hssNXf16mbcjOhQr3fH2/R2aAsr6PjLBPTYi4FY2a3G6rfqELbVzgYddNIqGN/LHmEmlo3Xcq6PsQ8yR7/CIm5/MI5NuoNhre4hipC/erQNiagR1m+aQB2RH9ejJ67X6FjjZjnla37GCui1rG49Anjmmmd6+X80aKrpu66vcI2vfezvu5SKg8Z6gmxPQz1hMiUeA/1ol6fMbW9sYXzbmHQmpggZHr4vRJbR+gPkdUP9UJom3ZPLwwZC/XApWXC5+k8V/38Wt1fY/dF9XM8tz032O7Kpep1VKl6FyNXa3qa/UIxu6PeDQdxv/0Dhg1eqVBfpuJtDFzyX/QNDu+Db9BZr9e+bO0nWH1e973E4z257C/UiuqVrnAfM45rfea5QPwSdYNACCld5ur3JCuxZoA6yEZ/lhDqBy/5B71qXUONBrdRSyfYX0Xb6aFarzej8NtPbH1N+rfXttx1tBjwBtvPGA8Ifif+Qfeq+q+7heFbpHoL1XXFpcZfWH5W6z29/sXQOlGvv4buC3VDuN+5Dxjc4CrKNTDsofXe8BS19MKVqeH3fiffwa1W1HOv4ucZ2mUfjsW/xNSXql3eGoxa+Rp1U24mSKj3DMaMLnrngFA3Grm/wx9Gb3xEYOvo29HXGZdGz7HVU+txz3foqXdjzrV/kMTOH5E4PuO+wc0bFxfhd+7xFgdV18FwrB14U+8cvYHBG/Tq/cV/MUxnv/2raOYRDF+tzzr2m/ZnCdfqAe8ld5mIa92lVA4y1BNiexjqCZEpNgn1gn5/BKJ37ahGoq5la/yJuZpeLHOhftcY/cWsDEP9yVkPLA713qseo6peUKvYIgDbtRvo3h8wKLqBq7HcTQxYpR0II3Fw0l29z72GnssMh91KDb9v9qt241tUiR1CaNA91qtoo7+g3oUguGuVq0vLlzio3cD2+YxxjWMeL9fob+zUCasSq34L4b9uvZto8+tHnPeLxJn1f6OlphezbLU/MduiOcYx+p0IwtCmFgR7QZdaD+Cxwfi85+2jDOc91xKCtUFYEoLstLZXUX/4R5266LPjbzTSmp5RrtZDzNqr/RsJx7vyMWrVfor1ej2XsQv14bojRoQQPemgdrkJdXmc1u9b7jbG7NQNaV+jbsrN+A71bTw+4sDB/7Bv9ydsWfsOcyY8RecGunWzUv0HGDb/s+m58Jfeo5/OTberaDr+c8x6E8Lv4q7p5Y7SpdkL7DPYHi8Sp+foX6+E86zWY6zSuhl1UeKaoTvVQ7juzf1TMyonyuvos1KvTm16itradcrlNsbt1j+f4153KZWDDPWE2B6GekJkiq1CveiFLX+jmcFwbrViWNl2UR6hXjVvWft54tzwBrrPKVP+EZbofMdInJD43J9nGgZUUwvlaT9PKkS6tNZeFT4Sp+bpNuQr9X4HL+330YTb6PcQGvHjdRrx0lt5qXqqtUKt17GPWLYwEJuOWhcE/c5/wqy+t1FZ73gkLX8L/ZaF6t3k0LzP0ddor1+HqvyJeXpb5fkdf42fK92Bx17df/de90RnWLRo2Sp3MGjxfzE3BnyDMbHLU6yOQ6j3O/UWXbR7aiv9heV69UV3RMlVNBFCofYxf426KTfjN9QL9drlGipWvGpwY0hl2RvoveA/XLSg19nvzFt00lvzwKXDm5heb4mbLWXrPcMWgyHzkTgz1/C30a8LXiv/QhX954zTfo4Sv/fVGw1V7hZGbNUN24Y7UlxFu9+0bw7ET92lVA4y1BNiexjqCZEptgz1YsPzoBAu1POZ9RVe1/cdjiyRY6j/jLFavd0qJYKTYY+bdFi3NNSLwaSdfjCp9AjLontqw7Gkh+6waoOQ6ReGWR10h+R2mf8l5nEjob7uMN0e7vhRiWNrX6JXYyNTMbStdA+TJRcDC8dyN/2h0lfRXG+Y8eGp91Cl3Ssc0Qto4nZ5LSTCXpmy19C47xvsPKffaxljbEL9eaEeV9Z6XtkaT7BGJ9AZBu3yXd7irNZ7fI26KTdtMvzeLwRzu0jXwcptX2G/QfCW0C8U87tp18NraDP1v5g6KBXqaz3FRgtDvf71SqouNBj5UWsnCiWW9dSbYlHuNkbrLWrpd/AlWuqF+hYTtb63YHzUXUrlIEM9IbaHoZ4QmWLbUC8oPGeV+y29RqxGceG8n++gvAxDvfYQdpUSwcmSxrmopaH+iuc/6K6/ArrLPUw9ogmeYi9tQ93Hy7pcQ+XKulbQa8SL82xjPkcq1F9FtwXhWs+JZ32/YPu8Z+hYVy+E6Fm1R6BmJXddvbc+RwO9HQ7K1nqCdVE3O8Tfq8l1dJkn0RPtK7EwoJYV6j/CjJ2are30tDzUi1Mn9KYJlL2Kinq/S6UKut9Df3j216ibctNWc+r9jr1FN4mdJlThfHKw8euXtpdCsHracwxyf4rx8z9p6mokzu97hwl97hqsai+Gev0pHZb+NlJ1od5w3VCvMyRetOxNg/UmfPcEoKnO9xKun0u0z/X4qbuUykGGekJsD0M9ITLF5qFe1PMTPFqbCHQM9Wq93qGX3mJbOvNbvd+jXzXdx13avcCW3Z+x24QHT2oPoZeaU38DA9dJ9ZLHTr/z/2HXIemArNI7FBt/e4IWkuFKsNJDLDon8Tq/EN0pBSpjQvyl9U9RV1wgz2BRQbWeOwLQUr9ctSxb5S5GSuw0EJtQ/3s/vZ5gl/vw2CL9e0S552CYzk4QDPW2XCgvEscXPkINvfJVWekeJu2Nbf2PxIUD7+DRU72VYvWWD9BMbzV9W4R67bogDq1voXMTUAzsutNlvFc/0TnmsvoLScZT3aVUDjLUE2J7GOoJkSkJEuoFfY/+g1/0FpKKlqFerRDqe+rPHxca2DOi5o97vYebXnAwWCjPrFKhPmqfeqnnW67Prr/RpncgLkg8pq3v6Y+Y2v2mXpkIlrtlMHxYrVDWSx6hmt7vJvYW7vUJx7Le/qgz6IOJkBGJ0+uF76Z3Q0RbcUHAuXpbdcUm1K90u67zPMPFxszLUG/LUC/oF4YlPQ2nnohWav0CeywZhi/od/YT5g66B1fx88peQ7Mh73HMU3r4vS1Dvbgi/3aPezrb39Xs9x7nox9XYsswrV74cjfQc3GoXh2In7pLqRxkqCfE9jDUEyJTEirUi43Zs+ufoZH+8HJRU6F+7Lc0/D4Qv+iVj878Vql5u1WFstNeHd2stg31jWs+xirN9msm9ZXYh178HpuNfA+vfzGsvtZzVc+/Aff5r9Cxyi2M2m7++3sdCsTgFsbn99fXmbMcu1BvWKbX4bYydosMMtTbONSLz9PZuk3ba2g14bOZ61gkTqwLQIeaUaNGrqLR4CD1YnlG5tTbNtQL+oVj56zHaBp1s8/lBrpMDMKew/9h06y/0FBzPSlX7S4GL/nPZnWXUjnIUE+I7WGoJ0SmJFyoF1Vi79T7Oj1LKo2G+kjsHh+zN7TapBvq/U6/QUe9YFKxy9uYeeZ+IZiiPz9cav9qk9o21DdyuY4eiwyHskvpd/IfdNMeeeByF5MPGeshjMTByXcNevfLV7yK8i1eYL+l83u9QrBy5D3U0JujL6q704BQVzZaGuojcXiK9urgamsP/mDheaGWod72oV4sm9MrHutu8xZlxbvw2GXsPIjEqd+foIHWTTeXpn9jR1S5f61Qr9H31AeMbXMdZctehUtUObhcQ61mf8J94jvsPmP8vIqPukupHGSoJ8T2MNQTIlMSNtQL+oVhmdtN3d53E6HecL/tq+ixJPGHeqnniXNkm2sHk7LX0X2hdkBWYusIw33ba7i9w1kjQ/D9Tv2HgzoNehuHeiEsuzT5G9svST9HR79QTG8Xc5NC3FZvu86e+rr6nf4Hv1TV+t4qr+LnGfpDirW8GIi+3d/guE75KHH89+dopfdeBgvXbXqGOvqhfoBUqBeOfetz1NdfzM9g/rKWwnlw4KDuzQ+G+oQI9YLCdWvVAL1rkMaKLV5gl9S16HwQBuiE9qtoM03rxtxXDPWe+/6Be3N/1PnlDXZp6pufrxK+Rq4J+sZH3aVUDjLUE2J7GOoJkSlxC/VhmNnhKmoNimWvzoWPGNNca+E8o6EeODPvT4NA3Hme1hZtQjBc2EMvpJoIMJYGJ2u3DbM01Df7VXtLNrWX9L5buQbPsFlvaL3PDrE3XPu9BF1uY/gmidXrfUMwu8tt9F1pZku7WPf2SxsV6lXHN/qj1txeI/oGw6NZVKi/hnbTzIXOCGwYfFP3u1d5iIWnjfVCCnq9Q++qtzBii/5w4kicW/dUJ8xU6flOZz0An+2Gq+5X7fs+uq74nQ/DiegV+D9hTCP9xfyuotHwfyXKIRKHZ/+JJsJ7ad+M+Rp1U25aHeqPvEIbqVA/SyLUi88/G4SB9fR/L/VrWoz/ZLA+g+eKv/RGGF1F90VadcrzPfrV0H48YUK99/7X6CguPOlyBx77TJwHpoyHukupHGSoJ8T2MNQTIlPiFOq9P2JYvSso3+ENTsSygedz8A06R62CbiLUSwWr2u5B6sam3xdsHHMXVSUa8+I2bvqhWdRr+SNU0nnuFbjqD6kWGrkjG+g+p0z5P7FAZ3X1SBz/7b5B41zqcw1DvRAO3d7hos7zIrDWXStsu9zCwNUSvWF+YVjcQ3/fdiFAuD7ApK1az/f8D4v630bdnoEGvdSr++u9vqw/+q+Oz1Cvfs8OEz5KblEXpee252is+e2qtH+FvQYByFDf/br7ztcQwoXJmwfeQXB3Fepok+fYpL8nvfcHDIxavFH4vm7LdVful+r9dWnxAgfE3nyv/zC7+z0Mix7hEIkTix8Zrq4uvG/HSdrlEIGDix6jUd1HWHxc9/t8jbopN60N9b579bduUx+z8RsZmps6Bq8RrHAH47Zr3wSKxOnZ+kH8Cqp3/wd/iL+rcB1aM+wuqui/l3BdW26w3kUk/phh/re5tMywLtTSHxLvF4rZHTU3R8veQL9VJnaeMGnc6y6lcpChnhDbw1BPiEyxPtQrcWjuQ7iKDUExgK4KNehFMq3QUP79ibpRbSLUi/uMT22jtx1e2eto0P5PdGjij0r1/8JvY/QbyUJo7vVOspfpwAT94fyGc6n9TrxBJ/0t0MrdwoitWsFXaMiv6GMYrqv1NvxcnVBf7qp62K+4jdbumODgve8V2mkvdjUj2Ohq7n4n38O9gUQvY9lrqNvyAbp0vodG1a+iSou/sUl/CK1fiFCehr1yTcZ8gpf286wwOtSXvYpKla4KZXMV9boGYMUB/bAhBKqdr/FLHfX3qNE+AJuMzvnV0y8M87tqVusuexODN5q5GeH9EcPrqY+zSstnWH5Yu8xfoKVmjnTVjm9wUH9evhiaOukvrHcVNZvdR5t611GzZ6DuzSzhu61yv2VwA0e0ct276NjlT7Rt5I/yVe5izCb9GzZfp27KTetCvRIHp91HRb3jFa3S6Q2OGp3SEY4NQ28ZlLmoS4MnWPlHTJlK3VxU1YUWD9BJuBYNW/YvpmpNJYl6vE7rh3Ab817rxprEaBPBqj21fxsldo7RX0vE8Oap35m36Ky9sGbFm2jd9RHc3P5C795/oVfPR+jZ8y+49XuCwSMCMHn2O2w5bCT4x6nuUioPGeoJsT0M9YTIlNiGer8/gjBh4F/o0vIGKmr37IiBss0j9BvyCutNDYfWMQI7J9xDFXEFd2OhXtD32DsMbm4Yrmp1CMAaoeFtOKdeUAj+DTs/x/Kobcq8PuG3XndRU291ebXXUKfdE8zdq8ThJc/wc13pPfVdqt/BL+ODcOKP9xjT8RYq6fdsiYo3HDo9x7KjMWWgDvVXUaP1U8zfFYb9i56iVQ0h9Fa+hQ59nmBgnwdoqAn0VRo/woR1oTqrsEvpe/IDJnQ38h1c/NFiwBvsOq/7O3hue4U+7W5Khp8y5a6jSefHmCm5pZxliqG+cbV7+HWL0Oj3C8ehNa8xuIPwHV2uoXbLP9F7wFMMHvgYv7S7hSpCQHKpcRd9J3/AcRPz6KX0XPtEtYBduUZ/Y6e51/p+xvimQnn0fQ73TsLnVrqBlt0fY2D/h2gmjhQR6m29bi+x1cj8Yb8T7zFUqu51FF6jV74qfcOwfsJDNJDcF/8qqrd4gjm79ILVV6ybcjM2od5711sMH/QYPX8Wflep49VYtdED9BLq3uiFEiMVLvyLEQZDz9WWrXIbnUe91/TGC6F30G29c+cqanf4G8sPijeKInFm9RPU1/sNKzV6jIUH1eeU36kgjO+m3tde+zkqhd+msVAPt1wIweKBd1FDagSBWFfbC3Vhj/r3E2/wdJB6nimF87zFoEAckhoVY03dpVRGMtQTYnsY6gmRKXEafh8f+oVi9W+BOguUSer7BTuXv8bEcX9j/KTXWLYtNM49ywmlGD485n3SGYrudzEEm5e+waTxf2PkyL/hMfUtVmwNhafWc8wbibMHPmDxjBcYN+o5Ro4JwNS577H9eMRXaXj7HQ/CrKX/6d2QiMTFox+xYu4reIwRvuPoAEyY+gZLN/6H0xYMt5fU5xNGNbiKlpP+Mz+c3O8LNsx7p+mFj4TnsY9YPusFxoxSl/nqvV/Mv4d3GHYsew2P0c8xatxLzFv3H86b+Z18z/6H9YvF+vocI4Tf91fhs1Zuj+3v++1p7fD7BNEvHAdWvxHqgXANmvwGK3d/MajrZ/e8wwwP4Zwe8wK/LfmI4yZuVsZZ3/8wRX8Uk0WqR+YYG1nFuksTqwz1hNgehnpCZMpXD/WUxlK/02/RtcYDzOK83iSnrEO9DPU+8BY96kqPNDCl9CJ+lCZuGeoJsT0M9YTIFIZ6Klv9wnF8zyfsPaG7aNmJ2Q9Qq8c/Jhfho4lThvrY6f3HRywY+QA1xeksVW6gQdO7aNlSY4u7aNb0NhrWv4kalfSCf/mHWHhR+j0pTawy1BNiexjqCZEpDPVUlnp9xtQO/upFBcvfwuA1msW5xIX+2t7CwHXaQZ8mFRnqLffClgC00KzFUaf3Pzhsaqi/OHVg+VM0q6h+ftnaT7GJPfU0iclQT4jtYagnRKYw1FM56v37Y1TTWvysSu93qt0APDc/Q+OWL7DX3BoMNFHKUG+pSqx0i9oFwh/9LNmS0vczxjURe+yvotFo43PqKU2sMtQTYnsY6gmRKQz1VI56r36M6lqhXtza7dCpDxjR4hb6ruCWWklVhnpLjVRt4xe1l331jq+w29Rwer9w7JrxELXKXUGVNi+wnUPvaRKUoZ4Q28NQT4hMYainsvTSJ4xvob2y91W4uFxD48FBOMW59ElWhvpY6BeGdR4P0UAzBL98rbvo7v4cHpNfY9act5gz+w1+mxyAke6P0KbuNbhUuYXOIwOx31PivShNAjLUE2J7GOoJkSkM9VSu+p3/jMW/PkGPzg/QpedTTFgWbHYrOZq4ZaiPvX6eodi5+h9M+/U5BvZ9hG7C+dLh5wfo2PlP9HB7gmHjX2HB6s84cUn69ZQmFRnqCbE9DPWEyBSGekqpXGSop5RaK0M9IbaHoZ4QmcJQTymViwz1lFJrZagnxPYw1BMiUxjqKaVykaGeUmqtDPWE2B6GekJkCkM9pVQuMtRTSq2VoZ4Q28NQT4hMyZ49e/QfwYwZs6JYMRdKKf0q2tnZI3PmHJKPUUqpKTNkyKrVnsmoaeUQQuIThnpCZIqzs3P0H0FKKaWU0sRu8uTJNa0cQkh8wlBPiExhqKeUUkppUpKhnhDbwFBPiEzJly9f9B/BEiVKwN3dnVJKv4piQ7xcuXKSj1FKqSnFNkxUeyZXrlyaVg4hJD5hqCdEpmgvlNe/f3/NvxJCSMIjzoMdP3685r8IIcRy+vXjQnmE2BqGekJkCkM9IUQuMNQTQqyFoZ4Q28NQT4hMYagnhMgFhnpCiLUw1BNiexjqCZEpDPWEELnAUE8IsRaGekJsD0M9ITKFoZ4QIhcY6gkh1sJQT4jtYagnRKYw1BNC5AJDPSHEWhjqCbE9DPWEyBSGekKIXGCoJ4RYC0M9IbaHoZ4QmcJQTwiRCwz1hBBrYagnxPYw1BMiUxjqCSFygaGeEGItDPWE2B6GekJkCkM9IUQuMNRHocTbe17wvHgRFy964tKdN4jQPBKFMugR/DzFx9V6+jzAO6XmQUK+QRjqCbE9DPWEyBSGekKIXGCoj0KJj8/9cWJhexROroB97l449lnzUBTBr3HvlAeqpE2Psu5b4P3wLUI0DxHyLcJQT4jtYagnRKZ8q6Fe+eoM5ri1Q8fhG3BTv7GcpAhFgOdajOvWFfN8wzT/Rog8sSbUK9/dw6VzZ3H2rJ7n/REQqnmSAaEI/Msfl288xjujz4lnhBB+/5o3vPxu4cl7S8/Ft1jVIBUUdtnQcXeQ5t+0CN6DLmX641Sw5r/jQuhL3L73BsY6+5Xv7hsp5+smypmQhIOhnhDbw1BPiEyJXaiPwF+7fkXPzi1Qu3J5uLi4xFi+IlybdkQPISTfCtc8PZowXF4xAN1/bowaFaJeVx7lq9ZH2+6Dscbf4AU2JhxXxpeEo3jcijRotkGisZzYCX+DK1snoXOlnEipEI5TCAXdD7Ifj8gba0J9yMHuyGaXDAr7FEiXIQMyRJmtKVa80I+owbi7awwaF86ITIXKoGKZ/MiSoww6zfNEoI2GrisDvbCkR1XkTm0PheZaq3B0RuF6g7HB/6PmWUYIOQq3ikVQMIUdnJtvwBu97xh+fQKauZ9EnDJ16DOcXToAtQukQeoWm4USkib0hDuKZtIqX+fUcBSvLU7VMf8Zx/2Trw9DPSG2h6GeEJlibU99kNc4lEulUL9W4Ygf+x3FK/1JnwaE4fneX/C9QzLY52iG5be/Xhf5++PDUCq9PRxzNMDi2wl9U8H2hN/bg3nzFmJ8o9ywF38jhnqSCIhLqLfP3QcnTabbT/D5zRVZHDOgyvizmoAcjmc7u6KgYyqUGHAYr+M5myrfHMXAkqnVYV6hgJ2dIjrYi9o5l8GIE2+N9o6HXRiORiMOYFUzZ9ilqYOlOuE5Ao/ntUSPvZ80/x1LQp7i9KK+cM2bSvOdFEhlItTrE/F4Dqo6Cq9jqCcygaGeENvDUE+ITLF6+H3EffxWwVH9WsdiGONnYTAOPQG33I7I1/903HqX4gFl6GcEJ708r0PoWXcUsBd+I4Z6kgiwZah/d7i3EN4VSFl5Bu7qnPfvsatDNiFwZ0aD5Q8NFqSznvc41CMvnLKWQ/fZB3DtWRDCIj7hmfcmjKyZU93LLVw/7XN2wm79LngV4bjm0Rj9j4cgaE8nZLdPgcqzHsR8P+UrrGrXERvfaf47Vijx+sx6rD7sA7+DwzU3aBnqSeKGoZ4Q28NQT4hMsX5O/Xv83iC5+rWOlTH7LwubwuF+GFM8Bf438abQZCW2JtzfA6XFhjdDPUkE2CzUh/pgdAlHKBRp0PD3VwY94yGn+iGffTLYfdce2yUDduxRBqxAgwINsfi2xHkXehsL62SCnXj9VKSE68Knhr31EQ8wq1l37BE74kNOo39+eziW9kD0bKWgbejSZikC4vp1I+5gSjnxBi1DPUncMNQTYnsY6gmRKdaH+g9Y2zgq1FfFnMeWhvrLGFciJcpMvs1QnwBE3JmCsgz1JJFgq1AftLuj6jniDchZjySuVZ/3oGNmO1XArjonfnrrP2zpiuYLHxl9r7DLY1FCPDeT2SFb94MGK9crA5ah5c8boe6ID8flsSXg6FAEwy6pF9kLPuSGFjPvx/27Kl9icU0n4Xsw1JPEDUM9IbaHoZ4QmcJQn7SJuDsVLgz1JJFgm1AfhB3t1b3i9jl64IjUcyIeYkZFdW918qpzYOnAI1N8vO+P+6amu6umItkLn2mHrN0MQ33ghp/RallAdA9+xL0ZqJTCHnn7nBCCdxjOD2uBXy/Hx1X0LVbUFa/lDPUkccNQT4jtYagnRKbILtQHP4PXgZO4G72GXjje3j2PQ3v34/SNV0JT1hSheH3rLA7s3I7dR73w8J3wCcp3uOF7D5Jt65AA+Bw8jlsfNP8tiRKfA67jzMFd2L5jH076PkaQ2UMNxjOvAzgZcxAIf3sX5w/txf7TN/DKgt2slJ+e4crpQ9i9YxcOnrmOgM+WNJojEPTIB6eE77pz/2lcfxmMcIZ6koiwSagPPY1+ecXwnAyO5abijuT5G4yd7ZxVC8Yp0rbAxoTYECPMByN/cBC+lyPKT7+n1+P+CXt+aY7ZD7X+Vfkcy+ulhX32ztgbeAUezYfgrLHpBrFCCPX1GOpJ4oehnhDbw1BPiEyRR6iPQODNfZjn3gQlszhBoXm/8OdH4dGoENLaqVfZV9ilRpHOG/BAIhQrXx7H+DqFUKBCW/QbPhKDezRDmdzZkLdIHmSuNlur5y0C724fxIJBzVAqq/hZZTFFupWPsCcHML5xYXxXpDEGz1iEBZPdUCNXCqTOWwM9J87FvHnzMG/+fCxYsgvXPgjvHHgT++a5o0nJLHBSOKLqnMeICH+Oox6NUCitnWYFbDukLtIZG6QOQuSjPzYMrIXvc+RDyYpVULZgBjgqFLB3/hEtppzEC8mvqsT7K6vRt1puOGcriTqt26Ola1FkTJ0T1drXRyEH4XMZ6kkiwBahXvl8AVydxGucAikarYF0Xg/Fmf751TtFOBbH2HjpATfD593okEm4LjiWhof+tp4hJ9C/6cSY+fMaAre0Rib7DGgxdRxa9DqA+Nk/hKGeJA0Y6gmxPQz1hMgUOYT6oNMz0atHR1TP7agOvsL7/XZiBVoWzI5idTrArX8vtCyTTb1atF0GNFr1THdRqYiHWFwnI7I0+R1PtL6G8u1pDC+TGk5VYkL9x7Ozhc/qDNd8yTWfJR3qIx5vRNs8jrDP0QabtVaiCru3ALWc7YTjVsAx/XfIly8/8hduhkW+JzCzVw90rJ5bs6q1EOp/O4EVLQsie7E66ODWH71alkE2R/EGhR0yNFoF/XawMvA0xlT4DoXbLYFP1KbZyg/wX9kWBcTXKVLgh/5H9fbTViLw7FiUd3ZAlppT4Rn9YARenR6NCunF7yqWG0M9kT+2CPVhl4ahsHhjSzjvMnXeZzDMXU0YvEcUhYPmXOmWAOdK6NkBKGAvXAsa/47neteCMM8RaDjsguHIpE+H0SOnA5KnyYF2W95r/jGuMNSTpAFDPSG2h6GeEJkin+H3SgQscoWT+H52GZGnYgcs8g6MCe+fL2BIUXGoqgIp6izFS602pLgYXDlHBxQZdsmgERx8fhCKVdfuqRdR4vXyukguhm+pUK98i+3ts8EumT1y9jymFwJCcKpfPtgL38OhQD+c1OsqUwYs0vQK2iFjnorosMhbK4R/xoUh6uCgSFEHS7UPQhmIfd1yw+mHYfDUb1Ur32Bds/TqocGOJTBWa/tAZcBmtMlhD7tMzbBWPxkIJezv8T/NzRCGeiJ/bBHqQ4/1RE5xW0fhfM7d56SRrTTD4TemOBzF648iLVpvszTaWksQ9nXNCfuUZeDhp/+NQnBxSGm02vRR89/ahAqPFYZDqnpYoX39iBMM9SRpwFBPiO1hqCdEpshpTn3wjrZIpwra/4OHv348D8UJt9yq4bEOhYfCU+vhsHPqvdjtczTFslt6KTvcHws9Nhr0hIXs6YiMQhCQDPWfd6KdqjfeEWWn3NGb6wp82t4WzuL3tM+Dvqf0GuTBO9A2ndgb74j/efgb3GQIPeGG3GLAcCiMoVoHEfFoLqqltEeun1fB09sb3jp6YmOPQupeRPE7CWWn5hNO9BGHDNsjxy+HJIfihvmMwo8cfk8SCbYI9SEHuyGreK4L50n+AWeMhPoweA3X9NQr0qHtDtuG+rAbU1E+VSqUHnNJ67xVIujmIaye2gkl0zoiXxMPrL0QYHD9Cb8xARVqzIL2dPu4wVBPkgYM9YTYHoZ6QmSK9aH+I9Y1sS7Ujy2eUhVM9V8RsjcqaEu9n9jrXErVk2afszeOa7XMla/XoZlmSLxduqJoPmYDfF/r3zLQJeSQOghIhXrl62Woreptd8RPv14zuPkQelZ9EyGZIg1abdVrAofsRceM6hsCqjn1mn+OQtw3vpTYELbPid7RB6HE6xX1kFJhh8z/a4aOnTqhk1G7YPD6O+qXBW1Hu0ziZzmh7vI3MaMatODq9yQxYZOe+pN9kUfTU5+r93Gjof7cwILRw++7H7LhuRJ+F/NrZkCG6jPhL/1lTKN8i3v3Xkue79bBUE+SBgz1hNgehnpCZIr1oT4Ym1uk1MxLr4gZDywM9WGXMLxISlSc8cAw1O/rjEwmQv3NiWU0ob4njuo0hkNxe3lz5HFSL6inCvdpCqJW34U49VS6cR5y+BdkNxLqEXoMvXKqt5pybrsd+oNgxd72XBK97SpC9qGzKmgbCfU3J6KMJtT3jD6IMFwaVlgIFA74cZSPQe++MUJP90Ne1c0FZ7TfKd0UZ6gniQlbhProc044nzMbnVMfggPdsqq2vUvmWALjbLZQXjAuT6mMzIW7Y7fWWh1xJvQURlcugWLFihmxFDqtfa55sj4M9SRpwFBPiO1hqCdEplgf6kOwr3NmTSO4OMZozfM2SehR9MyZUrJn2fpQLxKBN17L0LtyTvVcedUxCeE+fQl0W3fboCFvMtQLz740qjichPexy9wCG19pf9MI3P+tgvCYAqnLT8UN/cO2KtRHTS1QIH2rLTC5w54Wnzc2R0rxWBWp0XILQz1J/Ngi1OPTdrR1Fm/4KZC83kohwkrxAeubqm9SKtI2w/r4WoNOByVe7u+JornrY+HNeD4Xo0cIidc9KR1RedYjzZP1YagnSQOGekJsD0M9ITLF+lAfhkvDi2iGq2ZG532WNVKVb1agXirp4a1xC/VRfMajo7PRvXx2zSr04uJy36PvMd2NrEyHeoHPVzC/US7hPRyQs+kiXAkSG61KvPedi4bfOSB1kU5Yf1+iT93Knnovzcrbdtk7YY+ZPbKjms/BW1shjeoYHVFu6l2DzxJhqCeJCZuEeuUTzK+u3u3CsfhYSHbCh9/CpDKOwrmkgGP5abgndTLFkY8+U1E9XwWMO2+DOwYhB9EzrzPSpUtnxEyos+Cx5sn6MNSTpAFDPSG2h6GeEJlifagHAtc3Uy9sJ4TKMhNvGsw9l+LDnk7IlqoWFhus1G59qI94vA9bz+n1bysD4b2gJQqohuQrkE5orGpnZbOhXkD5ej96/FQcNRu7Cg2E6qhbvxZc67TGgJl7cdtYd7pVoR54J5RlWk2ve/lJV4wMEQY+nxuJLjPVc+qjF8ETji+160IYFJlATKjPiq4HGOqJvLFJqBfOwgezqiCFcH4pUjfGmkDNP2uj2TM+mUJciPKWRdey2BByexmaFioBt/0v4nEufHzBUE+SBgz1hNgehnpCZEpcQr3y7Xa0zyYGWAUcS4yGj2SDWovPfpjgkgbO9VcY7NEuYm2oD/Mdg+rtt+CtwXt+xun+6sWvnFwX4YXW4+ZCvfLtCQwvWwDN1ujtiW8OK0O98uVaNFUt9icED6cCaLvqlsFq9hEB+9H3fy4Y66cZIRB6AUMKi9v8iaMRCqHXYa0tADVEh3qFM9oZmXdPiFywTagXzq8X69BcHJ5ulw2d937S/GsMYd4j8IODcB6lq4dlT/XOIuVHPLvpj4eBlq52oUvovTVoU7gw2m98ZPxmwQdPLF500uKpN/GLEOrrqkN9SoZ6kohhqCfE9jDUEyJT4hLqxR6wR6uaIJu9QgiNKfFjj214aKQzOOTxIYyv+R0cM7li7g3plnfwznbqreLEhfcM9msKxw2P0qpQb5e1K7Q7ncN8R6NY6hIYelZ/3LoST+ZVg5PCEcXH+OosQBeyt5PmBkJpePjrN7U/4FCP3LB3+B69DryweOE6FcHidnjqLe0qznhoGOpveKC0ZM95CPwmltMMpxdUpEbB2r0wYdFabNqwArNHdYDLd6mQt+sevIluP0fg6drmmu26FLDPXB3jjwfEBIfQpzg41AXOqscdUdrjOkKFowmzLpsQYnNsFerFKS43pldGWoUdsnfYhXeaf1UTCs9hReGgSI6Soy/phtqIe1jeNKdqKo8iTTH8stVEMJcg9K4Q6AtkQpkBm3DeYKtKL3ieP4l9ayahc5lcqLskljcQ4wvlCyyu6aS67iRvvM5gYVBjMNQTucFQT4jtYagnRKbELdSLBMFnblPkSy4GezukK1wPvScswvod+7B/73asWzwJ7q0rIFdKO6Qs0AxzvN4babjG9MSL+7/3PqbfTx2EPZ2yqxbmUySvijl/xcRlVah3EENtefT53RdvNQ+FPd2HPsVSIl3pYTgRqP2pEbg3rbx6zr0Qrn/eqXczINwfHqXE+bXC48IxOaXNhGw58yB/we9R5Ifi+KmMCyq7NkCbXh5Ye+mVTiM/ZqVte+Tpfcygtz1oTyf1CAEhQFSd85du6A9/gl1uPyGtKoTrqbBHlupT4Knflad8i1PjKiGjnXgjQSgb+3QoULERWrdujIoF86Na1+Yoqvo+4mPO+KHuL1joZdhTSYgcsF2oFwi7ifm1M8M+ZWmMuhhzIgVd8kDFdPbI5DoTV/S6qZUBi+Cq2t5SrV3WjthtYXf6Z/+laJ7HUb1DiBkV6Ztgjc6CnAlI8HkM0oz4cSwxBr6mylALhnoiNxjqCbE9DPWEyJS4h3oRJYJu7cXsgW3gWroQvnNOCUchZNo7poJz9kL4X832GDL/MO4byZLh139H/zbVkC+VOpiqhvNnK43GnYZh090Q3Fw3GJ0alURmcUSA6nE7pCnkiraD1uGWkKjDfMeiaum6aFitFArlzATnTLlQuHhx/FC8MtqO24ZbWl1P4f6rMaCdKwqlUQ91Fz/LIXNJNOw8CYdeRjVMlXhxZBSqZDPfIFc45kGrdY8QEX4dv/dvg2r5UkW/RuGYDaUbd8KwTXcRcnMdBndqhJKZ7aMft0tTCK5tB2GdeBDRfMSd3ZPQxbUYcqRPAcfk6fDdD67oOu0gHhodFxuMB/sno3P1IsiWxglOabKhSI2umH7kMT7fnYryznlRtbMHNl4KMLJHNyHywKahXuSjHxa2KQrnDMXRrN9IDOtRCwXTZ0HZHmvgL9VFHX4XK1sVhnPanCjjWgbZnIpZttPHh33oltPBokAvXs8ytdmqN3rA9kQ82IqRnVuidrHM0YuKimsKZClRB626TsRB7flKEjDUE7nBUE+I7WGoJ0SmxE+oT3qEPViHn6t3wWqva7h0+gj2bt+EtauWYfGCuZg9Yxomjh2KPp0aopQQ/B3y9ccZpmVC4ozNQ72KcLy6chAblszB7CVbcPrBB8uGvQetReO0Lphmi6XxEyEM9URuMNQTYnsY6gmRKQz1hihfHUDvHwqg0663Zhv7YVfGo1T6FtisP86eEBJrEibUW0fQvq7I+z8PXIvNpPokDEM9kRsM9YTYHoZ6QmQKQ70eyufY2Co77NO1wXYLloEOPuuOHytNg5Fd8QghsUCuoV755hgGlC2DISdtsMd8IoWhnsgNhnpCbA9DPSEyhaFeF+XTeagu7m1vlw11Z1yKXnRPipD7W9D9p5/Q7+g7y4bvEkJMIrtQr3yP2/umolPdlvj16HOD3Sy+ZRjqidxgqCfE9jDUEyJTGOr1CL2C6VWcVavsJ1M4wLmwK35298DsZWuxaesO7Ny2EavmT8Kgn6sif9Yf0XXjfS4+R0g8EadQ/11brPC+jMuXNV57gDdxHCqvDDyPjatP4S9Or4Hyw1PcuBJTvn6Hh6t3+mCoJzKBoZ4Q28NQT4hMYaiX4NMd7BzfEqWyOkmuXq1wyoKfWozB1puW7uhMCLEEq0L9kZ7IncIJTk56pq2DxQEMm/FF6NHeyCNZzrWx6DnLmXx9GOoJsT0M9YTIFIZ6E4QF4t7Fg9i8ajHmzZqFOQtXYNOBi7gXGKZ5AiEkPrEm1BNCiAhDPSG2h6GeEJnCUE8IkQsM9YQQa2GoJ8T2MNQTIlMY6gkhcoGhnhBiLQz1hNgehnpCZApDPSFELjDUE0KshaGeENvDUE+ITMmUKVP0H8GUKVMia9aslFL6VVQoFEiVKpXkY5RSakqxDRPVnkmTJo2mlUMIiU8Y6gmRKc7OztF/BCmllFJKE7vJkyfXtHIIIfEJQz0hMoWhnlJKKaVJSYZ6QmwDQz0hMuX777+P/iNYuXJlzJ07l1JKv4ri8NnatWtLPkYppaasVKlSdHumQIECmlYOISQ+YagnRKZwoTxCiFzgQnmEEGvhQnmE2B6GekJkCkM9IUQuMNQTQqyFoZ4Q28NQT4hMYagnhMgFhnpCiLUw1BNiexjqCZEpDPWEELnAUE8IsRaGekJsD0M9ITKFoZ4QIhcY6gkh1sJQT4jtYagnRKYw1BNC5AJDPSHEWhjqCbE9DPWEyBSGekKIXGCoJ4RYC0M9IbaHoZ4QmcJQTwiRCwz1hBBrYagnxPYw1BMiUxjqCSFygaGeEGItDPWE2B6GekJkCkM9IUQuJP1Qr8Tbe17wvHgRFy964tKdN4jQPBKFMugR/DzFx9V6+jzAO6XmQaOE4cXF9Vh3+pXwCUQXlvm3AkM9IbaHoZ4QmfL1Qr0Sr87MgVu7jhi+4SY+a/5Vdnw4Do/W7tjyRL8ZSGKQ728ZGuCJteO6oes8X6EJTuSONaFe+e4eLp07i7Nn9Tzvj4BQzZPiiPL9dWxdfVTzX3oEv8b9a97w8ruFJ+/N1TIlPj73x4mF7VE4uQL2uXvhmP4JI7zfvVMeqJI2Pcq6b4H3w7cI0TxkSCgCzi/HwLoFkcbOEWUm3kS45pH4IxQvb9/DGyPJNcRrE5adfiY8KwH5xstcqPS4f+mcYZ0/ex7X46vSJ0IY6gmxPQz1hMiUOIf6sFfw3jwdgzo1Q50a1VCjblO06zkKczefxr13QhAOvYaFY1bhvn4mDr+C8SUdVZ+rSNMMG4I0/y4z3m9tg6w/joDn/T3w6NEODaqVR3kXF7iorIh2i2/HvkEX8QCrOleKeZ/yFeHatAN6jN5qWE6JAdn9luF4c2UrJgllnDOlQvhedsjW/aCJRjqRC9aE+pCD3ZHNTqh79imQLkMGZIgyW1OseBHXPtQwPDkwEo3q9MLvV95r/k2NMtALS3pURe7U9lBorqEKR2cUrjcYG/w/ap5ljLdY1SAVFHbZ0HG3xAkTvAddyvTHqWDNfxsjIgD+vvdwc3lTZIr3gBmKZ2eXYkDtAkiTugU2G/sun+9gU29XVO+xGtfNHXYcYZlrCD0B96KZYup6BmekdhSvdU6oPv/ZNztygKGeENvDUE+ITIlLqA+9txm9SjvD3jEzSrXoj19nzMGMiSPQs2lpZEuugCJ5BuTMlhbJfxqPawatnvc4PqwU0ts7IkeDxbgd/10d8cA7bG6VBcVG+UT38oY+3oEuBR2iy8w+Ty8cjWVDNuTcIHzvoH59MoUjfuh7BK8S9UAAmf2W4fewZ948LBzfCLntxXJmqE8sxCXU2+fug5Px2kn5CX5zGuCHymNxNlA3JinfHMXAkqnVwVKhgJ2dcL3TXBNE7ZzLYMSJt8bDVchRuFUsgoIp7ODcfINBj2z49Qlo5n7S4t7v8Gvj8ZNjfAXMEDw9vQh9XfMilUJ9PIpUJgKmiPItTo90Qa6yg3EowDYXM5a5CSIeY05V8cYqQ31UfWCoJ8Q2MNQTIlOsDfXKNwfQs5CTENx/QK+9zwwaNSGPDmBMjWywFxoojiWlQr2IEqGfg+OxlyOeCdyEFplLYIyf9jcMg+fQwnDQlFkyRXrUXxGLRpTyDTa3ygy7qNc7FMawS0lhYLi531KJ1xeOw8/GPXk6hJ6FewF7oZwZ6hML8gn1obi7shly52iC3//SD6nvcahHXjhlLYfusw/g2rMghEV8wjPvTRhZMyccNaHMPmcn7DYyfjrswnA0GnEAq5o5wy5NHSx9pv28CDye1xI99n7S/Ld5wm9ORJl4CpjK12ewfvVh+PgdxPByqVTB2aKAKQTLNc2yw7ncOFyI99E6LHOTMNSrYKgnxPYw1BMiU6wL9eG4Mr6k0JASwlKnPfig+VcDPlzAyFIpTYR6OaPE2w0tkPmncbii890j8HBmJSR3zoJMquGOCjiWGAM/C3N5xN3fUDGVM7JkclT3MjmWxZQ7ibqb3jLC/TGhQl0sfJ6AzU3hMz1Kiw1dhvrEglxCfYifB8qlToNqc+4bLqoWsAINCjTE4tsSNSr0NhbWyaS+aadICdeFTyUCVjiueTRG/+MhCNrTCdntU6DyrAcxn6N8hVXtOmLjO81/W0B8BswYInBnSjk4CsdiacCMeCKUTQZH5O2yB6/i8VRnmZuBoV4FQz0htoehnhCZYlWoj3iEWZXFBoQjio+9bLJBE7SnM3KVSoShXvkG65plQqlfr+sdXwQez6mKlIV7YESLLOqGpN136LTbktZgME73LwinIv0xskU6Tah3wdS7ST3UR+Dp2ubIlsIVCxIy1EfcwZSyDPWJCVmE+hAf/FomJeyzdcAu3Wn0Kj5s6YrmCx/FBEI9wi6PRQlH8ZpqpN5FPMCsZt2xR+wUDjmN/vnt4VjaA/5RF5qgbejSZikCYnGq2CZgKvFycU04CdcpywNmCM4OLAQH+9zoui8w3sIly9wMDPUqGOoJsT0M9YTIFKtCffhNTPyf2IBQwOmnUfAytdz5573oVvPXRBfqla/XoEnG/2HCDf0vrgn1RYbj3NmhKOKg7q1PXX0eHprJ5spX69E8Yxq4zr+NrW2/nVD/0Xc6amS0QzKnhA71dzHVhaE+MfH1Q71wfi+pg/R2dsjedT+kBmN/vO+P+6ZGaYeegFtu9bSPrN0M650yYBla/rwR6tuA4bg8tgQcHYpET8MJPuSGFjMNRwiYwjYBE3i7oi6SC9ep2ATMMO8RKCpcF51KjoVvPM0sYpmbgaFeBUM9IbaHoZ4QmWLd8PuP2NNR00utcESOOpNw6qWR5pDyBfYu3QaDaakaQgJ8cPD4LeND+EWUnxFw/QwO7tqOHftOwvdxkPnGV/AzeB04ibvRNxzC8fbueRzaux+nb7wys72ZEq9WN0LGMhNx06C1FhPqL4U8wnxXzcJNDoUx+Lyp2BiOW1PKIeV3nbD7/WfssDTUR3zA02tncGj3dmzbsQ/Hve4j0JKGsjVlhmA88zqAkzGFhvC3d3H+0F7sP30Dr8x8ruFvGYK/9o9C1ayalaodi6Hb4g3YuHEjNm4+gGNHtmKT+P81btp2AU+jv2QYHp7eEv2Y6OYjputJRNAj+Jw6iF07hd/4+ksEh1sa6pX49OwKTh/ajR27DuLM9QB8/lZbxV+Zrx7qQz0xrIgDFIp0aLFRopveEsJ8MPIHcTFNR5Sffs/gvAvc8DNaLQuIDl4R92agUgp75O1zQjgDw3B+WAv8ell94VF+eAgfve36zl97blCXbRcw68U+YIYeQ6+cQsC2y46Ou60sw9gSj2UuFDoe+uhtF3f+Gp7rFbqsypyhXgVDPSG2h6GeEJli7UJ5IV6jUTKF2EstvlYBx2wV0WeVL96aT45CA+Qdbh9cgEHNSiGrk/DaslMgPa1c3E5qPBoX/g5FGg/GjEULMNmtBnKlSI28NXpi4tx5mDdvHubPX4Alu64Jz49A4M19mOfeBCWzOEHhWBVzHkcg/PlReDQqhLR26u+rsEuNIp034IGxkKp8iVUNMqDcZKnt6rRCvfD697s74TshUIjBMVPLTXhtrDX16Tjc8iVHsdHiSvrBFoT6ENzfMQS18qeFc6HqaNnhZzSrnF91DMmzu6DXhrtGVmmObZkJRxR4E/vmuaNJySxwUjii6pzHiAh/jqMejVAorZ36eyrskLpIZ2zQLzQTv+XHM1PQql5d1CqdQ72QlV0m/FijDurUEWzghoUHD2PXypGolUMd+hVp22B7dCM2HM+8dmPNtI4oKXwH8XczVk+U769gdd9qyO2cDSXrtEb7lq4omjE1clZrj/qFxIa+8VD/0X8DBtb6HjnylUTFKmVRMIOjEOjs4fxjC0w5+cKCGyEkPvnaoT74WC/kEndMcCyPafes/PU/70aHTMJ541gaHtHju6P4hD2/NMds7WE9yudYXi8t7LN3xt7AK/BoPgRnNccRdn4gCkbtlKHRseIMg1FBsgqYeIvfG4qLvSng3Gy98b3W45N4LHOh0DFQa4cTlY4VMUOv0Bnq5QdDPSG2h6GeEJlibagXQ+fNpU2RS7VYnKbhIwTCzGU64rdDD2F8RP5HnJ3dCz06uyJfcvVrpcOaEJ43tkUeR3vkaLNZa65jGO4tqAVnMUgLn5f+u3zIlz8/CjdbhKDTM9GrR0dUzx21CF1V/HZiBVoWzI5idTrArX8vtCyTTRMwM6DRKunGj/LFCtTPIIRtyTsNuqEeYb4YU1z9eYrkwmtuSTXvlHixujEypKuDJU/ETzQX6pV4tbsr8gll61hiBDyjV4z/BD8PF9WWR4pUlTHT4HWxLzOh0DCzVw90rJ5bs4K0EOp/O4EVLQsie7E66ODWH71alkE21e9shwyNViFm0WjLfsvgXT/DWXxvyeH34bgyroR6YSidUB/FJ2xv66wqK6n3VgaexdjyznDIUhNTPWPm8Ea8Oo3RFdJrdhmQCvVKBJ4egwrfFUa7JT6I2rFM+cEfK9sWUJWFIsUP6H80/uYFE/N83VAfijP988FeqDN2mTtjn/GhHSYJPTsABeyFc6Xx7zCo7iEn0L/pxJi53BoCt7RGJvsMaDF1HFr0OhB9/VQG3celUydx8mSMp/2eyrunXrjeRO0QonBuiU0J0Fkfn2UuFDruXzqlU+YnT/vhKXvqZQ9DPSG2h6GeEJlifagXCcOTQ7+iXt4U6oAapSIl8tQciNW+JvYMVr7G8rrJjYe1t9vRPpsdktnnRM9jeq2pkFPol89e+BwHFOh3Uu8GghIBi1xVCw0ls8uIPBU7YJG3VjD7fAFDioq9MAqkqLMULw2+oPD6ZXWRocJ0SHfU6YV64flPl9ZFOlUgtkfe3scM5+GKK7+XSYlcQrBUDx83E+qVL7CktlimCqRvu0N4dgzKp/NQzUldxk3X6w5Gt77MhNcGLIKr+L5CAM6YpyI6LPKODrpCoeHCkKLqRnqKOliqX2hmfkvToV5dnsZDfSiO9cqpCloG760MwOY2OWBvlwnN1j43qGvh/h74n+ZmhH6oVwbuQ7fcTvhhmKdO+Yoo36xDs/Ti68SbKmOhs6MhsSlfNdRH3MZk1cKKQl37ydp1QIKwr6tQX1OWgYef4ZcJ8xyBhsMuCFdOPT4dRo+cDkieJgfabYl9CpZXqFfiRdQ12D433E7E6U6LBbDMGerVMNQTYnsY6gmRKXEL9Ro+3MSWEfWQP5W6tzZKhWN2VBqwCbclu+1DsKdjRlVPqlQQ/LyznbpnWXLLt5jeW/s8fXFKrx0XvKOtOmQ7/g8e/vpNuVCccMutCokOhYfCU/9h5XMsrZ0BlWdqbXekg36oF/hwCL/kEhdpSgY75wZYqRdcPx7ugdwpSuHX6JRgrqc+EFvbZIadwhGFh13UbYwGb0ebdGI5O6GGXuMtLmUmFBraqt7XEf/z8DdoAIeecENucViyQ2EMNSg007+lrUL9pxN9kF/4TvY5fsEhqToW5oNRP0oNv4/Ao7nVkNI+F35e5Qlvb29dPTeih2rYvrosJ9+Wrgkk/vmqoT54F9o7q69hTq6LYrUSehRhN6aifKpUKD3mksGNM/E8uTikNFptih56o0Wo8FhhOKSqhxWGdxrNEu43BsWEgGluN5LYYl2oF4pyZ3v1OZ8AIZNlLsBQr4KhnhDbw1BPiEyJl1CvIfjRYUzvUAqZVCvCq99TnIudqfo0+Bh0X4fgUPdsRoKgEq+X1Vb39Dj+pBWGowjFWfcCqqCnSNMKW/UaPiF7OyKjKtyq59TrEg5/j1KqEGmfszeO64UA5bPFqJWhiu78Sx0kQr3wntc9SsNJbMQKQbzkuMsxoVj5HCsaOMO50SqtkGDBnPrPT+B7QXtxunC8ubYHc91rIo+q91kz913zaFzLTCg0dBRXqDd4XzVir3cpccso+5zorV9oJn9LW4X6IGxvp96b2qnucul5u8ZWv1e+xop6KaGwy4z/NeuITp06GbfLYKy/E59NdmKKrxnqlc8XaEarJEPyJusNR9yYI/wu5tfMgAzVZ8Jf53soEXTzEFZP7YSSaR2Rr4kH1l4IMDzHbkxAhRqzzO6ioYMyED6bZ2BYwwLC9UcBp4KNMXzmNlwO0jweR6wN9aHHe6vXJkjmgMJD9G5MxicsczUM9SoY6gmxPQz1hMiU+Az1aiLwxmcV+lbKrpmjLahwQvFRXkI80yYEh3/JbjQIhh7rhZxio9DOGW236/eyiL3tuYz2tofs64xMJkL9zYllNKG+J47qNQSfLHRFhmpz8choI08q1AuvfLEajZ3VC7rZ5+iMvZrRnOFXxuOnFHnR+5h2RLBkoTwNYa/gvWEc2pcvgHxlWmDI7CFwTSsV6uNWZkKhoXMmE6FeNdRUeG9xaL9uoQmY/i1tEupDT6NfXnF0hALO7XcaDKFXYSzUh13CsMIOSObwI0b52CxuECuI/1AfilOjK6NEsWIoZsRSndaqnhlxZyrKqfY6VyBVi83Sdcoowbg8pTIyF+6O3dZ08Yso3+LevdfxHMgsP34prA31MQv82SNnz2PCt7AFLPNoGOpVMNQTYnsY6gmRKdaF+nDcO3HCdO9GeAAOupdGGk2wt/vuFxzWmeZtOggi5BJGFXcSgq8dMrfYiFfarZSI+/itgvCYIjXKT70hfBtdrA71QsNofg1n1JhvGGpjkA714vD2E33Ui2wlE76X6/xHwjODcKBbTqQsN1lvazxLQn0Ynh2dhBZFnJGlzC9YeEazOFbwLvysGiIsEb7jUGaJLtR/3ojmKcVyUCB1yy2xC/VRe1or0qPVFpObKZIEJv5DfQj2aqaGRF3n9HWsPEv1zIgHv6GCJtSnaLZBYii3MZR4ub8niuauj4U3dS5yMsDy45fC6lB/cQi+jwr1vWwR6lnmOjDUq2CoJ8T2MNQTIlOsC/VCKO1YB7/dlwqjWoTdxBQXzSJ6jpUxS6f720yoF/h8ZT4a5XKEwiEnmi66giCxpaJ8D9+5DfGdQ2oU6bQe9yU6Wq0N9RF/zUX1DK5YqFqh3hjGQr3wzrenobxqmz8FHAoPwfn7S1AnfSY0X/9Kr5FlLtSH4c5ycWcBIZzXXYCb2g07U6FewNoyS3ShPngrWqURy0H493JTIXlfxGhPvRdGqBZLtEP2TntgetSsqbpA4htbhPqDPfPCOV06pDNipjoLVM9UvlmOuppdHFRTOlT/ap6PPlNRPV8FjDufQHuyxwrLj18Ka0N96Ol+yKcZfv/DCO94H37PMteDoV4FQz0htoehnhCZYnWob5sV1eeKvdGmCMeNCf9TB7bktbFMp+vYfKgXA9Xr/T3wU/GaaOxaARWq10X9Wq6o03oAZu69rVlJ3hDrQn0EHs6uigy1Fmtt2SaF8VAvztXe2FI9z1vcMq90mUJIXrA/Ths0zEyHeuWz5agvLlpnnx/9z+ilFDOh3toy+3qhXokXi2uq1gJQpGqJLaZCfZlJiN4xMHoRPOF1qV2x0OB3FtAK9Vm7HhC+ZRTvsL5ZWlX5K1KXx6Qrxnr6PuPcyC6YKV05iQ34qgvlhR5Dz5zqBS8dK0yHuXuWIiG3l6FpoRJw2/8iSQYpa0N9yN5O6nVNFE6oteRlvJYNy1wChnoVDPWE2B6GekJkivWhPh0cv++L4yY7SkJwsk9eIZApkLz8NL2wZy7UK/H2xHCULdAMa0ynbAOsCvURDzCzcgbUXmq4NZouYqivgpSFhxmGeoHgcwM1w07FBm1KVJpxVyJ4B2N7m6hQX85gP/yQg92QVfz+DoUw6LzehwTv1KzQ7YhKMx/qvbf1ZWbLUB+yJ2rhwioSvwfwcVMLpBZDv2MlzNSf0xHkBY+K6gDuWHwsLkfPGwjFBXHlalU5O6JQr8NaW/BpiA71Cji30553r8TLtU3VOwUIjzkVaItVt/QHW0cgYH9f/M9lLPziu5uRGOWrhnrlSyytox5ZZF/AHefM/O6h99agTeHCaL/xkeF0lig+eGLxopPGb6bJnLcr6qoDZsrYhfo34uvEc1q8hl3QLkglPj67Cf+HgVb13rPMjcBQr4KhnhDbw1BPiEyJS6hXKOyRreYEnHoh3bz6fG0GajjbQeFUGH2PvtNraIRgbyd1r7ZjaQ/467/Fh0PokdseDt/3woEXsWv+BYtbu6lCYkXMMJj4H44bHqVVod4ua1cc0HTSRtz/DRUz1MUyswsuheP25DJInqevdICIuI/ZVVOpgoFdljbY8lbq/T5gXZOoaQnFMTYmqarQmY/aYhXuahp2n+7twfhGBZHaXgz1Digy/BJCXp3E5LnH1E+IQ5mJNwvaaW4WVJyhf7NAOOobHigthnq7rOgaVWjRmP4tQ0/1RR7VAn7foeOud8K/CKF67zAM3/JK9Xj49V/xk/jeCif80GMnHqqONwTPzixA12quqF1OPT/VzrkZ1omjPcLDVd8v4ulaNM8q3ogQGsD2mVF9/HEERH92KJ4eHAoXzeKF4ve6LvxeYWGacgnxw8RyadS/gfj61AVRu9cELFq7CRtWzMaoDi74LlVedN3z5pttIH8NvmqoF87tW8K5LS7wqUjVBOtM3LAMvSuEywKZUGbAJpzX3xLR2wue509i35pJ6FwmF+ouSawhK2YUTbLkjbFOalc4ScLgM+pH1Q03u6ydsTd6jdAI3FveFDnF3TsUaVDsl614JP2nQxKWuQkY6lUw1BNiexjqCZEpcQr1qtcpYO9cFPV7T8Hvu4/hgs9leJ/ZixXj2+InZ3vYpfkRndfeFiKaHhH3MK28ozr8Zv0ZO/UmNkdvoSY8rrBzQtpM2ZAzT34U/L4Ifij+E8q4VIZrgzbo5bEWl15ptwxjeuKT2edB72P6PbBB2NNJ3ausSF4Vc/5SxUPcnV4BGRusxAtzrSHlc6xq6Aw7p/KYZmSrs8Ad7YWQod7KSXJgd9AR9MqvHuYrNm5rL36iG6JDfTCulCb0K+yQJtdPKF+mELLkrIaRu9apgruqXJyckSV/Xcy6pk791peZ8Nqonvhk9sjT+5jBImFBezohu9izrUiOqnP+0v2+Zn5L5duNaJFBHa7t0uRG6XJFkaf8OHhGfYjw+vmuQpmKxyvUJ8c0wvfOlhZOmatg/OkAHNUMvxcfS5GzHJoP2oS7qq+vxNtT41Apo52mrOyRrkBFNGrdGo0rFkT+al3RvKjY0FU/5vxDXfyy0Ct6q7LwJ7vg9lNazefqqrDPgupTPBNtb19i5euGeqFO3JoknAdC6HQojCEXpW+MffZfiuZ51PVdv97oq0jfBGt0ph0lJoJxfpBmNIxjCYzxtbRw32Ndk9RC+dghW8fdMeeQMgCLXJ1iyscuKzrutuwMY5mbgaFeBUM9IbaHoZ4QmWJ1qO9WHxMvPsAdz/34fdpgdKxXFt9nT48UDnZwSJEO2b4vjyZ9ZuLAPf2uhnD4rx6Adq6FkEY1/FlQ4YDMJRui86RDeBnVGlG+wJFRVZBNtSe75nmSCiEwTyusexSB8Ou/o3+basiXKuo1wmPZSqNxp2HYdDcEN9cNRqdGJZFZ1dMtPi4E5kKuaOs+Fe7lMqLhKuNzPyP+2onxPTqhadmc6mGlqvcuhYYdemDIWr3V5EMvYUSZmpinN0rg/anZ6N21FaoXFIKk6j3UKpLnQNkmHdFj9NboebyhD3dheL2iyJzCESkyFEDFDtNx/Jn4KZ/hObkGcqRJjzyVe2DVNa3ytaLMhELD7/3boFo+9egC8XGFYzaUbtwJwzbdRcjNdRjcqRFKZraPftwuTSG4th2EdbdCLPsthdJ5vHsIahZ0Rqp0uVC2/QycfqFbNsrX5zC7YwXkdU6JlM55ULbFGOy4K6Z+cU59XmT+oQH6zt4D/7eGN1KCH+zH5M7VUSRbGjg5pUG2IjXQdfoRPP58F1PLOyNv1c7w2HgJAVLt4493sHtSF7gWy4H0QlknT/cdfnDtimkHHwq1nCQ0XzvUI+IJltROC4XCCVVm6928EvmwD91yOlgULsXrS6Y2WyGOTUlURDzA1pGd0bJ2MWSOvpYI14wsJVCnVVdMPPhC80QjRO0u4VAQA85on0XhuLuyFQo7p0XOMq4ok80Jxcb4aR4zAcvcfJkz1KtgqCfE9jDUEyJTrAv1CUEYHqz7GdW7rIbXtUs4fWQvtm9ai1XLFmPB3NmYMW0ixg7tg04NSwkh1gH5+p/RvO5bhmVGEjdfPdQLfDjmhgIOCqSuuwwG6zoSs4R5DUcRofzS1VxoYtvTIKxtnBYu0+5p/pvECYZ6FQz1hNgehnpCZIo8Q70Srw70xg8FOmGX5Jx0bcJwZXwppG+xWfPf3yosM5L4kUOoF4eJb2r9HexTVsNc46mUSBKM0/0LwCHl/zDex9iuEgJB+9A17//gcc1w5A2xAoZ6FQz1hNgehnpCZIocQ73y+Ua0ym6PdG22WzAEOhhn3X9EpWl3NP/9bcIyI0kBWYR6AeWLHeiYxwl5ux8w3FWBGCXiyQo0yJgO5Sf6Gr8OKd/g2ICyKDPkJOS4y3yihKFeBUM9IbaHoZ4QmSK/UK/E03nV4aRIBrtsdTHj0lvDea3RhOD+lu746ad+OPruW255s8xI0kAuoV7ko/cUVM1SEN32xO8+60kWIViubZEHBdpthGr9UQOUeH97H6Z2qouWvx7Fcw6CiD8Y6lUw1BNiexjqCZEpcuypD70yHVU0W5EpHJxR2PVnuHvMxrK1m7B1x05s27gK8ycNws9V8yPrj12x8X48tuQTKSwzkhSIU6j/ri1WeF/G5csarz3AmziN7lbi3cVpqFesBjzOBTLYm0L5CkeHVEHZLhtwz9ilRRmI8xtX49Rf+ntrkFij/ICnN67E1HW/wxhehqGeoZ4Q28NQT4hMketCeZ/u7MT4lqWQ1UlqJXcFnLL8hBZjtuKmxXsnJ31YZiSxY1WoP9ITuVM4wclJz7R1sDgg7vEm7NlRTGzfHP03crqKFMqXZzCze0v0XuINDv5JIEKPoneeFIZ13iktai96zlAvyFBPiG1gqCdEpsg11EcRFngPFw9uxqrF8zBr1hwsXLEJBy7eQ6D0FtJEgGVGEivWhPqE4TMeXWOolyL8kR8uv+KCd+Trw1BPiO1hqCdEpsg91BNCvh3kG+oJIXKHoZ4Q28NQT4hMYagnhMgFhnpCiLUw1BNiexjqCZEpDPWEELnAUE8IsRaGekJsD0M9ITKlXLly0X8E3dzc8N9//1FK6VcxQ4YMGDVqlORjlFJqyt69e0e3Z1xcXDStHEJIfMJQT4hMcXZ2jv4jSCmllFKa2E2ePLmmlUMIiU8Y6gmRKQz1lFJKKU1KMtQTYhsY6gmRKQz1lFJKKU1KMtQTYhsY6gmRKT/++GP0H8H69etj9+7dlFL6VUyTJg1atWol+RillJqyXr160e2ZokWLalo5hJD4hKGeEJnC1e8JIXKBq98TQqyFq98TYnsY6gmRKQz1hBC5wFBPCLEWhnpCbA9DPSEyhaGeECIXGOoJIdbCUE+I7WGoJ0SmMNQTQuQCQz0hxFoY6gmxPQz1hMgUhnpCiFxgqCeEWAtDPSG2h6GeEJnCUE8IkQsM9YQQa2GoJ8T2MNQTIlMY6gkhcoGhnhBiLQz1hNgehnpCZApDPSFELjDUE0KshaGeENvDUE+ITGGoJ4TIhcQc6pVv78HL8yIuXrwIz0t38CZC80AUyiA88vNUPa7S0wcP3ik1Dxon7MVFrF93Gq/MPzXB+JaOlSQeGOoJsT0M9YTIFIZ6QohcSNSh/uNz+J9YiPaFk0Nhnxu9jn3WPBJFMF7fOwWPKmmRvqw7tng/xNsQzUMShAacx/KBdVEwjR0cy0zEzXDNAzLgWzpWknhgqCfE9jDUEyJTGOqJ7IgIxI09s9D/5yHY9oxddt8S1oR65bt7uHTuLM6e1fO8PwJCNU+yCiGY3r8Gby8/3HryHmGafzXH21UNkEphh2wddyNI828xBGNPlzLofypY89/GiECAvy/u3VyOppkSIugm/WMNfXkb994Yu54o8e7+JZzTr0OC568HIE7ViCQYDPWE2B6GekJkSuxDfRh8ZzRFBRcXuFhlFQzY/U7zXjJC+Q4+ywegRZ16aD10Da590Px7ghCOt7eO4PepQ/FL60aoXb0KqtSoi+adB2LSqqO4817TEA29hJm/bk+yQ1PDX/thy+RuqJ4/DewUQp10LIspd/TH9ZKkjDWhPuRgd2SzSwaFfQqky5ABGaLM1hQrXlhxsigD4bWkB6rmTg17sR6K10eFI5wL18PgDf74qHmaNCE46lYRRQqmgJ1zc2zQD5Hh1zGhmTtOWpoSw69h/E+Otgv138Cxhj47i6UDaqNAmtRosdnYDYZQnHAvikxa9cc5tSMUQnk4VZ8P3ltMHDDUE2J7GOoJkSmxD/Uh2Nc5sxC6HJCxeAN06TsYw0eOwqhRgoMaoqCD+r0c8teHu/hvoiOHol/n+iiRWWwkOaLKnMea95IP4ZfHorijplGbzA4Z6y/DQ5vnSSXeX16DgbULILWdUJ4/1kePsXPx+5Zd2Lt7K9YsmIB+LcogZ9aiaOQ+BZO6lEaGMhNwI4kOTQ29exzb9u/G1AbZYC/+Dgz13xxxCfX2uftYHiCNoXyDowNLIrUq4CqgsLODIirsito5o8yIE3hrLOSFXcDwRiNwYFUzONulQZ2lz4SzPIaIx/PQssdefNL8t1nCb2JiGRuF+iR+rCFPT2NRX1fkTaVQH48ilYlQr08EHs+pCkfhdQz1iQeGekJsD0M9ITIl9qH+Mza3SIf8P2/BY72Gl/LNctR1Ur+XU83F0O8kC39+AH2KpUWZiTc1/yIfIh7MRfU0msafqGNlzP7LloHyAy4vaIH8KYTGdKoi+HmJDwKNfNzHmxvhViY97ITv5VBwIM5ZOjY2kfJxQzOkFMMFQ70RlHh94Tj8THejJkq+dqh/f6gH8jplRbnus3Hg2jMEhUXg0zNvbBpZEzkdNdcH+5zotPuNToCNIvyaBxr3P46QoD3olN0eKSrPwoPoKqzEq1Xt0HFjLEYq2TDUJ+ljVb7GmfWrcdjHDweHl0Mq8XrCUJ/kYagnxPYw1BMiU2Id6pVvsKJFEywLMGzlmAv1Ih/3dYfraG/Nf8mJCLy5vBur1+3Gbg9XpHeqgOn3bRUoQ+A/txYyi0OGHfKg/ZanwqebRvn2GPr/kBx2mTtjn4kFp5ICIXs6IINQNgz1Rgj3x4QKdbHwedJLGl811CsDsKJBATRcfFs4Q/UJxe2FdZBJrJfJFEjpuhBPDYo/Ag9mNUP3PWLfdAhO988Pe8fS8PCPSqhB2NalDZZKXDuNYqtQ/w0da8SdKSgnjsJiqE/yMNQTYnsY6gmRKbEP9c+xYdIS3JZodFkS6pVvtuHXGT6a/5InwUJIyFl4MC7YqEf888WRKJlc7Amzx3ftt8Po2k16fDrjjsJpmmBdEuyh1SZkX2fVDQ+Geiki8HRtc2RL4YoFDPUq4i3Uf9iCrs0X4pGxKhd2GWNLOKqub3bZuuOgfhoWgvKylj8jqnNanNJTwtEBRYZdUi88F3wIbi1mIlb3Cm0V6r+hY1W+XIya4t8lhvokD0M9IbaHoZ4QmRL74ffGsSTUy57gG5hXvyTabHwmNOtsQMQdzKiUSrUAUzLH4hjjF4s7B8onWNygAeYbdpslKUL2d0EWhnpJPvpOR42MdkjmxFAfRbyF+o/34X/f1AzwUJxwy61a78EuazfDoBu4AT+3WobozumIe8K5ngL2efvghJAlw84PQ4tfL0OVV5Uf8NDnnO5K6+ev4bn+e9oq1H9Lx/p2BeomF64nDPVJHoZ6QmwPQz0hMiVhQ70S728cxuaNG7FR2y2n8VBojCuDbuDwZr3HRDcfwc0gzZspA3HtwOaYxzZtxfknEsEv/D3+unIOR/bswr5jF3HrlX4L0pCPtzbD3bUcWszxltieSSQUr2+dxYGd27H7qBcevhNansp3uOF7z+LFoELPDEABe3UZORYfi8uxarwq8ebwGux+ajzohr//C1fOHcGeXftw7OItmD/sULy8fBhHr7+Lnjer/PQEPkd3Y+f+s7gTaPgFw9/exYXDe7D3qA8eGz1wJT7cP4Mjvq+i3zc44DpO79+Fvcf98PSz8Vay5aFeiU/PruD0od3YsesgzlwPgIm3RejLyzh89DrexRwonvgcxe6d+3H2TqA6gGgT/hZ3LxzGnr1H4WP8QKNRfnqGK6cPYfeOXTh45joCTH0ZBOOZ1wGcvBuzv7dYrucP7cX+0zfwyuBeTwj+2j8KVbPaa24IFUO3xRs058dh3IjaISGR89UXyjNJGHxG/gAH8dwtPx339Krmpz2/oPnsh1o3A5V4vrwe0tpnR+e9gbji0RxDzmq+YNh5DCzoEH3tVelYETP0V+e0VdA1SxI6ViHU12Oo/yZgqCfE9jDUEyJTErqn/sPNXZjycwmkE0Ob8Dw75wpwX30eT8QQ8/E+Tm2YirZFNT3ZyezgXKYHZm86hehOJWUQ7hxbBfeKzrCzc0aprnNw+plW4zDsGY7P6IIqBXKicLXmaNeuCSrmTwt7R2cUbjAC224bC2fhuHtwDQ7dkx7brnx5HOPrFEKBCm3Rb/hIDO7RDGVyZ0PeInmQudpsWLamXijOuhdQr+wuHFu2bgck5rNaR9iz45jRpQoK5CyMas3boV2Tisif1h6OzoXRYMQ26B+28sN9HFs6HK3KfocUCkcUH+OHcOU7XP69DypmU2/lJM6ntUtfEr22P1Y33kMeYMcQV+ROZRf9uGO2qhh7QmshrdAX8NkyBT1qFkJ6e3vk7nMSoWGPsGNgVeRUTTlQv84+Qyl0+91f8maIJaH+o/8GDKz1PXLkK4mKVcqiYAbhOyvs4fxjC0w5+SImbCg/4P6xpRjeqiy+SyF83+Jj4BeuxLvLv6NPxWxw1Kz2rbBLj5K9tuOx+kDxYMcQuOZOpd5aT3zcMRuqjj0hPVXioz82DKyF73PkQ8mKVVC2YAbhfYVjdP4RLaacxAutQ4gIvIl989zRpGQWOAnlXnWOULbhz3HUoxEKpdWUq8IOqYt0xoYHMcn+45kpaFWvLmqVzqH+znaZ8GONOqhTR7BBH2wwOo46cSHvUP8ZuztkEuqEI0p7+OvdBArBif5NMTF6TrmGwC1onckeGVpMxbgWvXAg6h6OcB27f+kUTp48GeNpPzxNqN5rsyShY2Wo/2ZgqCfE9jDUEyJTvsrw+4iHWOCaVhVgxNXcz+v1SoZeHo9STmIAdETlWY+0eoOiCMWpvvmQudEq3QWcwu5gRfPccEpbBkOOvYx5XdgT7On7E9IIYcguU1VMvPA+JoRagvB9F9fJiCxNfof2oADl29MYXiY1nKpYGOojHmFWZfU8VfHYyk6+LXFssSfszgo0z+2EtGWG4NjLmHcMe7IHfX9KI5SzHTJVnYgLUb25IT5Y0rcHutYrrF4VWvguxUcfxaFhVVG8WmeMmDoL00e2xU/O6pBp59wQK+9fw6JGBZCnfGv0H+uB8QNaoLjmcfu8vXBUvBcSfgPrh/VEp7qFkVZ100YI9b23Y49bEaRKlwslypXDjzm0grJDDjRf85dBGZgO9UoEnh6DCt8VRjtxxwDNISk/+GNl2wKqwKtI8QP6Hw0UnhkCnyV90aNrPRTWbGvlWHw0jh4ahqrFq6HziKmYNX0k2v7krP5Ods5ouPI+ri1qhAJ5yqN1/7HwGD8ALYprHrfPi16qA41BGXgaYyp8h8LtlsAn5svAf2VbFBBXEFekwA/9j6q/Z9BpzOzVAx2r59bcTBBC/W8nsKJlQWQvVgcd3PqjV8syyKZaedwOGYT6rR8mgnf9DGfxtRx+H02ChfrQsxhQwB52GRrjd/2yD/PEiIbDJNbh+ITDPXLCIXka5Gi3Be81/2oxXyvUJ6VjZaj/ZmCoJ8T2MNQTIlO+1pz6D/u64DsxuDn8gBHeeq1D5VMsrpVaCIwKpHZdqOk91SLkHAYWzo/ex2KGLotB//KEskJIdUSxkd6GPeDhtzGzqngjQQH7XB2x85XlrTT16slai0BpEXx+EIpVtzDUh55G/3z2mvJ2Qp1lr2N3c0GK0MuYUDYVFI7FMNLbsN8//PZMVE0rhkt75Oq4EzqHHbQBzVXb+NnBuUgjDNtyR6vnXAjPezojpzhVQCjTnD/Uwi+rriNqFoT4+NtdHdWP232HXw5rfXbIMfTKJR6nEEyL/g/Vfl4Kv6gbCmHPcWRkRTirQn8y2GVrh216G2GbCvXKwH3oltsJPwzzhH7zXPlmHZqlF49HAccSY+EXHQyCsKG5eHNDvEFRBI2GbcEdrSECysA96JxT/L7C63L+gFq/rML1mAOF8u0udFQ9bofvfjkcU7eUgdjXLTecfhgGT8Mvg3XN0qs+U+FYAmNjvgyUAYvgqjpP7JAxT0V0WOQdfXNC7CG9MKSoatizIkUdLH2pWzYM9YYkVKgP2tdVqO8pUcbDT7ja6BJycQhKt9oEqXE+ocJjhR1Sod6Kl7E/38P9MKaYEHRjPVUnbiSpY2Wo/2ZgqCfE9jDUEyJTvtpCeSFnVD1BYm9uvn6n9EK4Ek/mVoOTEF4Ujv/DBL1hnh8PdEPuYiOhfS9A+VIIdBnskMzhR4zyNehCUiG+LiqkFh/jaziH2ghh59xV8+DtczTFslvaNxIEwv2x0GMjLMpXIYfQPZvwHVXlnRyN1kjP3LccJV6ua6ba/s3hx1GQPuyPONAtp2rIv0JcmM9X66hDj6GnKqw6oOgIL4MbFvi8HW1UIdkRJcddMSyvoHVoklJ83Amui17ENOLDL2OcauVsIdQ3XGF4UybiLyyrn0G1734yRWrU1wsAxkN9BB4J9SKlfS78vMoT3t7eunpuRI9Cmrm7wmsn3456bSiO9VSXgUPREfAyPFBsb6MO4I4lx+GK4YFiXZOUqsedXBdF1+uIR3NRLaU9cv28Cp7638XbExt7FFKF86hRGdEE70DbdOpy/Z+Hv0G5h55wQ26xnjoUxlBP3UcZ6g1JkFAfdgNTy6dCqtJjcEnrEqAMuolDq6eiU8m0cMzXBB5rLyBAv76H38CECjUwS38OuUmUCPTZjBnDGqKAkwIKp4JoPHwmtl2O6zXDApLasTLUfzMw1BNiexjqCZEpXy3UCxHx8tgSqmHIdt91xX7tbp+Ie5hV1RnJVUPwHVBo4Dmt3tG32NTyO1SYdkdr2LYSAUvrqIeSJ2+A3zXbLBnweQ86ZVaH6tj0Bilfr0MzZ/F1CtilK4rmYzbA97WltwS0CD2DAfnFEC2WkV4QtgZlAJbWUa8/kLzB7zB+2J3UW8SJw+zHalakFgk9jX6qkQOaOfWaf44m9Dh6q3rcHfHTr9cNHw/Zi47iSuzC4xWm34/5PcKv49efxFCvmVOv+WdtPh/pgVxicBWCf/buh3Ru6hgN9crXWFFPCNd2mfG/Zh3RqVMn43YZjPV3or5xKE73y6cK9eo59Zp/jiYUx3vnUj/+06+4bnig2Nsxo+omhGOF6ZptupR4vaIeUirskPl/zdBR6jtE2wWD199RvZMKrXJTzanX/HMU4f4eKCXuq22fE72P65YeQ70htg/14bg7vyYyZKiOmf7WfIASb+/dw+tE8XMlwWNlqP9mYKgnxPYw1BMiU75eqBez+2+oKC6eZpcRrTYHav5VCHwn+6Fw8cFYMli9+rLdd52xV9Npo3y2FHWz18VSnVZWCA50y6oKXYoUTbHB2Fp4EY8ws5J6TrsidUts0et0N04obi9vjjyqmwzi8QnhPk1B1Oq7EKcMVnsygfIp5ld3UoVwo73jsSHkALplVd9sSNF0g9EV+CMezUQlMSQKz0vdcguiDzv6JoOxUH8SfXKbCvX70DmTOpy6TL0bq1CPoI1oLk4LEMoiecPVOrsNGA31YZcwrLCDejSGT2xKLhRnBuQ3GepP9lFv32Us1O/rnEkd6l2m4q7qK4Xh0rDCQv10wI+jfGL3O2qVm2SovzkRZTShvudRhnpzmA71oTg1ujJKFCuGYkYs1Wmt5rnSBF+egsqZC6P77oC43YRLBMj1WENPjUblEtK/n8pSnbDW2PnAUP/NwFBPiO1hqCdEpnzNUA/lcyyrq57nnrbBSvXzhX9b2SgX6i59grA701BeFfqd0WSNOEQ7And/q4Scrbcg5haAyGdsaJZCHZaFsLMwevNkfT5hfVP18xSpWmCTxaFeJAJvvJahd+WcSC6GKlWZiavDl0C3dbd1epqNI45OKK5qKKqCuFBGRr+qJXzegGYp1MHYyXWh8ff6tB5NVc9TIFWLTfII9dGjBIRyaLJeZ36u0VAfegJu4vdRpEerLR80/2gJtgj1Uft4K5C+1RbE5tsw1Bsn/kN9zCiLqOucvo6VZ2mea4jy5X70LJob9RfetPAcT7zI+VhD9nZERvGaIPH7qXSsjFnGdoBgqP9mYKgnxPYw1BMiU75qqBcI3NxK1VhTpKyGuUKjLMxnNEoW6IHDYspTPosO/SmrzsaDED+MKZkPPQ7r90mH4KCmp15cobzfackYKfApOvw7fD8EF63qJv+MR0dno3v57JoVzMW56t+j7zHL5n+G35iEMpqt3RSpa2OJzvL9lhH9ipCDmp56IdDk7Qfjhx0V/h3w/ZCLMb3KXzPUh13AINX8d3vk6XtK5znGe+q9MKKo+Bo7ZO+0R6d33xDtcrVNT73XCPWCdnbZO2GPmZ9f51dmqDeKLUL9wZ554ZwuHdIZMVOdBZrn6vHRB1Or50OFcedjv5J7YkPmxxpysCfyOkv/fioz1cECg8U7NDDUfzMw1BNiexjqCZEpXzvU49NBdBcXa1M4oczE89jcLjfKT7kZHSADt7VVzQcXVxAfNt8N34srjRs03JV4saIeUqtCtpFF3USUzzC/hpPwHHvk7HHEYPV0Y0Q83oet5/T6YpWB8F7QUrWwk9jbnK7FZjMhU4PyDXZ2UC/aJi7YV2TgWaPD5g2JwLNtfdFn9VN1SFS+wIp64i4Bwns5lsQ4wxXe/t/efYA3VTVuADdJ00Ipe28FrCCyZAkIWkQFZZUlQ0BAQZyADEVlyt6g7CVb9gYBmSLzj+zxsZHZj9EPim1t4vs/N7lNbtKsprlNAu/vee4DzW3vPTn33HPPmztiYrw6Dq9L20WExE4bFO86HUJ9oS5bHIf6uGVoKT3YUJsNTRfYPg3A+YPy7mFuI/NXIWoyVcXAw87OJ8ZhZ+92GGH5WzVCvSjN3EbILLU5TSZUHXjY6dnNuJ290W6E8p56hnpnAuae+viTmNywBMp0We1ZPxbMnvT3ylD/1GCoJ1IfQz1RgPJpqL89GW8mh3rFU8JdS8CuL583nfHUFSiKIgWaYr7yKUtxG/GRKVhqEJYhMyoNtAZ+JWPMErwnP1leV6wrtjpKynFr0SG/1vQU+K/tv0bPhcQD3+C1lgth981rQhx++7S4qeyev18piy9F22f15nAaGomOy6+lCHYpGXFnSy+83WQiTlqKbkTMkvdMgUYK0MW6bnX4AUGcCD35tRoRaL+2+cYA9UO9FjneX+kw7Cbs+hLPh4htVagj1tl9XuI81Btxc3ZD+evwNAgt1gLT7b+NQJTi+uqueLlKXxy0XpKgSqg33pyNhqYHKErbsRhaTD9hvbVBZri+Gl1froK+1sLY1FtqQ338CvkyZP2rGO3szGQQC4hQn3AGs5pHIrLlPFxw1NmYxOL3SROxNVX3XajBiIdXj+Po+bvePZ8jqN6rl0Sof8sU6jMy1D/hGOqJ1MdQTxSgfBnqDZdGo6YURsSy9NWG45yHmSPpyPcor9eIQVcIXuixxy4EJmJfb/MD8zSZamPCZWcLNeD8tPrIq5OWE46Xv/nd7nuUjbg2Jxq5dXpEdtmg+F5w9xIPfI3Smcqgxw77c/FGXB4rffWeFIoPpGpQ/ejQGNQtEGIO9hlLIHrYVlx1FkiM93F4WntUe60nNtk/VtpwHtPq54VOI5YT/jK++d3u26ON1zAnOjd0+kh02XBXlFjB8nT7EJTs6eChfdJ801feOQn98SssT3F/uf8x63xLqH8GIZGfY4f9Jw3Gq6JMeaHV5UPj2ZdThNrHS1uaz0bry6Of3dcZIv4gBlQ2f+e8tHxNpuKo81F/TJw9Hz9PHYU+rasgf3hRtF9xR/FerU+3DynZ08FX2knzzVdPOA798ViR/PT7l/vjmGV+PA4OqIwI0xUiYtJkQvE6H6H/xNmY//NUjOrTGlXyh6No+xW4o6z4x0vxXjbpCg89qg0/nzLUH+uHCtJ+pM2D9mts94aEbV1RRPrWAG1+tFkmXeFgxM2VX6HnwlvmXwhyfg/1CadFyC2GnBU/w/xdyq8oNE9//L4LW1fNwsC2FVHorR/9HPYMODOlIQqa+s4IlO64yEUwdyCo3qv3jDcmobbpw+Yw1J9j1z86xVAfjBjqidTHUE8UoHwX6o24taCp+QyrWJY2VxPbM+6uGM5h1KsZoI2ojYkXU4Z2g+mBeVpkj/7ZNhyl8AC/D45CnhANNLpcqPbpDGw/cxN3b53Bth87oFzWCES2nIGTnp6skZlCvVimLldVfDzjAGLkIiZeWYWPS2dElgpfYUtqPiWQJVxYiT51iiCjKRRqEF74FTT9tD/Gz1qE5atWYfnC6Rjd90O8U7YYKrSehP33nKzjwe8YHJUHIRqpjNXw6YztOHPzLm6d2YYfO5RD1ohItJxxMsXtBsYrExBl+p55LbJFz7d7+KCYf30K3o4wz8/d8pcU99oaLozCq6bbD7TI03qZ9fYDS6gX5QnJgKLv/oAN5x+aQnZSzBHM/7QysoXkQq3+Ox18uJKEEwMrmgbTz2hzocXilF/Ul3R5GbqUy2x+hoLdpNHlxmuDf7d9cJ3xCiZEmb9nXpstGvNTvlFMedv8QYE2d0v8kvKNivZp/tYCbZ7WWKb8bCfpMpZ1KYfMcru3mTQ65H5tMH63O8NpORMvPU+g86YUZ/cfrHgf+aTlacJQc/RFm9BvjJmHaOm2BaksEYVRoXJJFKn6LX5P1UMfA5dfQ33cUfzUuIjlWRkuJ01WNJh1y/ZDsvQm2u3EKOl2IrlM2jxos9zD0+nB9l7T4PGuLxEZIr0XPcp8cwCeNRGG+mDEUE+kPoZ6ogCV5lBvvIF1gz9E2+hqKBIuBTx5ICiF1KLVEd32Iwxe5+772I24Ma0+SnVc4/gp4tID8+pGosMaT86yJOHmrp/QrUk1RObPhoyh4chRMBJVGnyGsevO2J2990zigb6oWeEtvFOrPEoUzIlsOQsh8qWXUOqlGmjx7WKc8GahFnG4tH0Gvu/UEDVKF0GuiDCE6EIQFpETRV56FY27DMK8fbdSniW3l3QTu37qhibVIpE/W0aEhudAwcgqaPDZWKw7Y1dAwxks7NkSUc9bg7FGlx2l326Jj6ccROKjXRjToQlqFotQzM+GUnXeQ9dpR5B4fxtGdGyCGkXN35Gf/Pcvvv0+Bm+8I8qieFBeh6lY8HU0Kj2XBzlz5kCO3EVRvm5njNp8OcVl+Yazi9DzvddQLFNyO9JAl/1FvN2qG+aesKuBh6ewfGA7RJUugKwZ9AjLkh+lotpjyNrzig8vDDizsCdaRj1vDd0iaGcv/TZafjwFBxMfYdeYDmhSsxgiFPOzlaqD97pOw5HE+9g2oiOa1CiKcMvZePH3L76N9wdvVHzA9BCnlg9Eu6jSKJA1A/RhWZC/VBTaD1mL88pPUkS9zPi0OWo9q6g3fV5UqP8+vpp/GvHH56Db+++ibC6dZb42ogSiWnyJOZb3n4RLy7ujdvFsCM9SCJVaDsdvN1J+EBas/BfqY7Hqg4II8STkikmbszkWpfy8KZ0l4fS0pojMlhkFK0ahYt5QlP7moDzPlWB8r6llwLlFvdG2SR2UzmW+1Ul6Lxp9bpR5synaD1gr/54zDPXBiKGeSH0M9UQBypeX3xOZKEO9s6ffEzkQMA/KCzoPMLt+ZlQZckb+mdKGoT4YMdQTqY+hnihAMdSTzzHUk5cY6r30YBXaF30Z/Y6k5qZ6co6hPhgx1BOpj6GeKEAx1JPPMdSTlxjqvWC8g02fVULF7luf/O/TTzcM9cGIoZ5IfQz1RAGKoZ58LukIvpNDfaHOmxnqyWMM9alhxP2Tq/DD+2+hyfcbce3JebRCAGCoD0YM9UTqY6gnClAM9eRzibvwZYkQ0aY0yNZiSYqnuxM5k6ZQn78Fpu47hEOH5OnIOdx5kq9GN97Frnkzse0i97C0MyL2yjEcTm47hw5ifU/zt3Aw1AcPhnoi9THUEwUohnrymcS7uPjnbiz/oQEKh5ifYK/NVgWfz/kNh87f4Rl7csurUL/hQxTOEIrQULsp85uYdJ1pjDyRgI2diyCDfRsSU+Y6E3GNzSgoMNQTqY+hnihAMdSTzzzYj3kjhmLo0JTTiDm/I4YDY3LDm1BPRCRhqCdSH0M9UYBiqCeiQMFQT0TeYqgnUh9DPVGAYqgnokDBUE9E3mKoJ1IfQz1RgGKoJ6JAwVBPRN5iqCdSH0M9UYB68cUXLQfBevXqYeXKlZw4ceLklykiIgLNmjVzOI8TJ06cXE1169a1jGdKliwpj3KIyJcY6okCVLZs2SwHQU6cOHHixIkTp2CfwsLC5FEOEfkSQz1RgGKo58SJEydOnDg9SRNDPZE6GOqJAhRDPSdOnDhx4sTpSZoY6onUwVBPFKCuXLmCs2fPmqa//voLjx8/5sSJEye/TP/5z39w48YNh/M4ceLEydUkjWGSxzOXLl2SRzlE5EsM9URERERERERBiqGeiIiIiIiIKEgx1BMREREREREFKYZ6IiIiIiIioiDFUE9EREREREQUpBjqiYiIiIiIiIIUQz0RERERERFRkGKoJyIiIiIiIgpSDPVEREREREREQYqhnoiIiIiIiChIMdQTERERERERBSmGeiIiIiIiIqIgxVBPREREREREFKQY6omIiIiIiIiCFEM9ERERERERUZBiqCciIiIiIiIKUgz1REREREREREGKoZ6IiIiIiIgoSDHUExEREREREQUphnoiIiIiIiKiIMVQT0RERERERBSkGOqJiIiIiIiIghRDPREREREREVGQYqgnIiIiIiIiClIM9URERERERERBiqGeiIiIiIiIKEgx1BMREREREREFKYZ6IiIiIiIioiDFUE9EREREREQUpBjqiYiIiIiIiIIUQz0RERERERFRkGKoJyIiIiIiIgpSDPVEREREREREQYqhnoiIiIiIiChIMdQTERERERERBSmGeiIiIiIiIqIgxVBPREREREREFKQY6omIiIiIiIiCFEM9ERERERERUZBiqCciIiIiIiIKUgz1REREREREREGKoZ6IiIiIiIgoSAVOqE86ip+/6YYvv/zSJ1P3gcvkBRMFo0fYO+Ura3vu/4v8+tMn6exSDOgu18OAZThnkGf4VBKOzOmNbnJ9d/v6ZxxNkmelVdJJLPzO2rf1nH4ACfIsIgp0STi58DtL3/Blz+k4wB2YiIgCTOCE+sfL0CqbBs8884xPJt2zn8gLJgpCxjuY8laotT0X6izPeMokHMWwV7NAm1wPRbpimyoD6sdY1DQCGnk9mmzvYeljeVZaxa9B+zxay7YMazAHD+VZjiXgypaR+HjIVoZ/emIlXNmCkR8PwVZ/N/KEK9gy8mMMcVqQeKxpn8fSBz0T1gBzXO/ARERE6Y6hnigQMdQL8Tg4oAoiNIr9+gkP9Y/OrkS/6BeQRatBlha/iFIRPWEencXKftF4IYsWmiwt8IvfGvkjnF3ZD9EvZIFWkwUtnBaEoZ6IiAJfwIZ6TUhWFCxRAiW8nCJf7y8vmCgIMdTj0d5vUCGj7Qd9T3SoF7/3geX3GOrpSSQC8gfWgOzPUB+/5gPk0ZrL8QxDPRERBbmADfXaPO2xJl6eR/S0edpDfewO9HgpzBKyLfUQjKHecB17l83HvHnzTNPCHRfh8HZ9mz6QoZ6eRI+xrFU2637mx1D/eFkrZEu+CshlqDfg+t5lmC/vv/MW7sBFXz1vg4iIyEcY6okC0VMd6u9j8yeR0Csuu7fUQzCGek8x1NMTLxhDPRERUeBjqCcKRE9tqDciZm0nFNOb+wJNhmJ4vlCItR4Y6omCGEM9ERGRGhjqiQLRUxrqjTeX4f0iIeZBvyYcFb9bhzFvKOqBoZ4oiDHUExERqeHpDvWGezixYSaG9miPxm+9hlcqlsVLZV/GK1HvolXX7zBxxSHc9ChAxGPNp+VQ8oUX8MILpfDqtztNX0VluL0fP3//Ad6tVQkVKtXE2006oPeEtTh5z3dftG18eAHbfx6OrzpE480alVDupdIoU6EKXqvXAp37jseyAzdcfy1WwjGMbVxWLru5/NW/WIMYozzfmYe78P0bL1r/rmQldJh/Bc7fWSJiTmzC7BF90LllA7zxamVUKFsapcuUQ8Wqr+Ht6Hb4YsBkrDpyS/ymGwmb0KNSSfN6S1VDn9+S36EBd4+uwNheH6BRVFVUKPMSylWsgTebfohvp2zG+Tj515QMd3F0xVj0bN8QUVUroMxLZVHx1bfQ/ON+mLH9kptQlYBNPSpZ6qDsJ6tFSzB7dH4zpnz7IaLfqIaXy76EshVfQVTDdug+bD72XPVg8OhtqDc+xIXtP2P4Vx0Q/WYNVCr3kqjjCqjyWj206NwX45cdwA1VQrEPGK9hQfOC0JneswYRVQfi8OOb+NHPoT7h5kEsHdUNrevXRrWXRXutHoV3mn2I7yavwZ+3PChMwnZ8U72UvH+JdvLxSlibYgK29qqKUtK8yELIqrOGel3WgoiU/+aFUjXQd4e3b9x3/VOa+5tkyn34hbL4ZLVlz8H5zVPw7YfReKPayygr7Y+vRKFhu+4YNn8PPNl14td8inIlzfVW6tVvsdP8ZrH/5+/xwbu1UKlCJdR8uwk69J6AtSfvueizjHh4YTt+Hv4VOkS/iRqVyuGl0mVQocprqNeiM/qOX4YDqd2ZDPdxatNsDOvZCU3erIkqL5cR+2d5VKpRBw3bfILvJizFH568SQd8tW0SNvVAJbn+SlbpiS3JfyT6lnObp6F/1/dQr1ZllC8jtk21KNRr3gX9pq7DsTvObzRP2NoLVUtJy4xEoaw6636my4qCkeZ1SW2zRt8dLsuYGHMCm2aPQJ/OLdHgjVdRuUJZlBbbpFzFqnjt7Wi0+2IAJq86glvODiIJW9GrqnlfjCyUFTpLqNcha8FIuRyi3dToC+vuloDt31Q376PSVPZjrHR0LLHns/GF8jhTElV6brHUkfHhOWye1h9d36uHWpXLo0zZiqgWVQ/Nu/TD1HXH4GKTKBhx/8Ih7N+3D/tM034cv+bJGyQiokDylIb6Rzi5sCfqRSoO6g4nDTIWfh2fzjqM+y5D7mPMb5xBHqhoka/jOjw4MRXRRUMtgxflMsOjJsh/lwZJ17FtRGtUyKV3sA7FpMmIwlGfY+7RWPkPU4rd3g0vhlrrXhNSHJ033JfnOnIfWz57AaGWutMie+2xOOlwIJWE69vHomONQsjosq7Nk0Ybjmff+ApLzrgY2D5eiveS24o2N9qJQGB8cBCT25dHdksosp80yPBsA4zce18MYcweHp2JThVzIMRZuTSZENlsIg46rbrHWPqe9axTWKN5eGy8hz/GNcXz4c7KId5jxiKo3WMJXL3F1Id6Uc/bRqB1hVwO70W3TlKbjsLnc4/CeYvwBwMuzWqEvPLTqDVZamDoUTF0Nfox1Mc9wKFpHVEhuzWE2E+a8GdRp+cSnHY1Bnb59Pt4rGyTw/pkbWeTNi86rPW2Q/RB/+TD/sZEuQ8/E4ZG8x7DeO8PjGv6PMKdtl/RdovURo8lZ8Q7cu7x/MbIIC9Dm68j1j04ganRRRX9lXXShEdhwuWUsT7p+jaMaF0BueTbQJxNmoyFEfX5XLh7u9KHmlfW90ODyCxujjlimaF5UandWOy65eGHvz7eNo+Xvmc5g63N3hrLRbN7dOJndH0lr4u+RQNtlhcQPeQ33HRwrIxf2QY5kp8073TSIm+HtZYPRpWSrm/H2I41UMju2zAcThotwp99A185aifxK9Emh3VfdDZp83aAdXdL7dPvfT++sB5nxLG29XJRokc48XNXvJLXxTYX9ZDlhWgM+e2m5ZjnmH0fpMdL3xyU5xERUbB4+kJ9/EnMblcamd0OMBSTCHcvtJmNU07LYztoztukJzq9kPLJ3aZJmxNN5t2W/847xvt7Mfztgm7Cm+2kzVwGHy6+4OQs+CPs7lXWMhCWBhv6Fz7DNodjPyNi1n2I4orBrjZPfUy/4GgA+giHxr6Dgm4GxiknDUIKNMKM804GtXahvu2cdehZMYv7YCQmbe53MPV8Eu7v6Y9XxeDO5SBYmjQ6FGj6M644LIpdqG84GVu+rYwsnrQtsdycr/bDrntOhlupCfXG+9g7/O3U1bM2M8p8uBgX3F4WkT4M535C3ZzyYFubDa+NOmFuq/4K9Vkb4Nt+ryOnR9tSi5w1vscOZ9sywEJ9avsn3/c3gl2obzh5C76t7Nk+rNHlxKv9dsFZdduE+rxN0LPTCwhzWHax3ZrMw22b5Rhxf+9wvF3QTUC2mbTIXOZDLHa6MyXhws8t8Gyq+kER+CI7Ytk113FMjW1jG+pbYe72Qagl9k2P6kMTjjLdtqbYNmkJ9Y8OjcU7qdoe5kkTUgCNZpy3vRJD7VCv0vjCJtS3movtg2qJvsmz9qQJL4NuW++5CPYM9URET4KnK9QbLmN+iyK2AyBNGApUeQ89RszEkjWbsGntUswe3QutqxdShFzp9/Qo2nIBHJzUEZSDZg10ISHQiL/V6LKjbItvMXnxGqxbPgfj+rRAleo98Jt3V1eaxR/D2Dq5bAa/mrD8qNK8O4ZNX4I1Gzdjw6pFmDrkc0S/nMfmvWoylELX9XccH9zj/kDflzNaB06aUJT+apeI5baMt5ajXVH5nmdpmbqCeG/RNQfLNOKuXfiXBnxFa7VF75HTsWjVBmzZtgXrVy7ElCHd0LxKQdv6FoOXPO8tdnwbgDIQaDKiYMGc5ku2RbjKXKIOOg+ajPkrN4ptuRCTvm6Gl7IpB6Q65K/3Ad4taD77qgnNh6qt+mDs3BXYsGkdfpkxGB++VsT2qgLds/h4q6NTsbahXpc7H/KEmMulyVAUdT4bh+V7TuDStcs4tW8NJvdqiMgI5YBSvMcGM3DRUZvyONTH49jYOsilHESKNp2/SnN0HzZdtOmN2LxhFRZNHYLPo19GHpvtkQGluq7HHeejvfSReBJjo7LJbVq66mM8TidfNuqvUC/aklYjb8uQXCjfpDtGzVmO9ZvWY9nsEfiycRm7q0JEIGk40/G2dPM99YmP7uFuTAxirs9FU0sfqEGW6Nm4Lr0uTXfv4ZHXH8CkoX9Sq7+xCfU65M6XR75iRoMMRevgs3HLsefEJVy7fAr71kxGr4aRiFC2cW0eNJhx0eGl88pQr9GFiOWK9Wh0yF62Bb6dvBhr1i3HnHF90KJKdfSw64zjj41FnVzKfVSDsPxV0Lz7MExfsgYbN2/AqkVTMeTzaLycRxk0RblLdcV6BzuT4fwk1BF9UPIyNfq8qNjiKwyftgirN27Fb1s3YtX8H9HvwzdQLJNtm8rXconz/VOlbaMM9ZoMRfBcgeRnXGRAwWqt0XvMHCxfvwVb1i/F9MEf4Y3nMinqQXp/pdH7D7udNPER7t2V2vJ1zG1q7TM1WaIx+7rcxmPu4p5dIzfeXYcPi9vWc3jRWmjbeySmL1qFDVu2iXKsxMIpQ9CteRUUzKCsP2kc8R4W2xxEEvHo3l3T+q7PbWpzT3307OtyOWJw994jxYceHoZ6FccX1uOMaGdFnkMBy3GmIKq17o0xUt+0RRxPl07H4I/ewHM27UgDfenesN8kVgz1RERPgqco1BtwcUpdm7MFmowv4P3pR/HA4aApFsdnd0Bp5cFRmwNvT77gYCCpHDQn/25evPPjSXG49KUEHOxXSXF5qhZZynXC3OP20VtmvIv946PxrOXSejGgL9weK53cMP/4QD9UUrxfTYby+OYPxaDXeB2L3ku+51lMYiBSrNNqx4POpCPoV956ea8U/hv8eExxL7G9BzgyqTEKyYMV099kaYS5d+XZSjaBQJ60WVHpyzW44iD4PNjdC+XtBntSXYQUeAvDfr+bcmArAvWmz15SnN3ToWCnDQ62pW2oT16uLm8dDP3Depm/Utyxn9C4iGKQqs2F6Lk3HJbBk1CfcFBsM8Wl/tos5dBp7vEUH8aYGXF3/3hEP6vcLoXRfmWMw7KmjwQcHVoDWeS61uZ8Gz+eU+xhfgr15klsy1y18N2WGw6+Vz4R19Z/hSqKsCbt883mO7jU1U2ot7DpA335oDxv+ycV+xtH+7AI3nnrDMUfDq9FjsOxnxqjiOJDKW2uaMy9kfJ3laHePGmR950fcdJdZ5xwEP0qhSv2zSwo12kunL/d/Rgf/az1sn5R/sLtV9p9EJmIfb1KIkRepkb/PNovu+rwwwjJoyPjUDefTi63+P2Mr2Gsw0+K1Ns2ylBvKUfES+gw94TjfiX2AIa/kVsRCs39peO2m5oH5SXhSL/yNvVbsMGPOObiVpcHRyahcSHrh85SWG/k8CAiSuLxg/I8CfXqji8cHWciXuqAuSccb+/YA8PxRm5F3ySOv502OHt/oo2OaY2GDRqggWlqjM/mnZfnERFRsAjYUK8JK4zKdeuhXr3UTQ17r3QcMh9tRpdnFYOlkGfR5pdrTgdXZkbcXNnB5myzrlAnrEtxQLcfNGuQocYInHW98FQzXp+B+tmTD9Qa6It3xKpbDkcMCok4PaGOdbChCcXL/f90EFIkCTgyuBoiLAM6DcIrD8BhU4gy4PKcaOTTWeeFlfoCWx+Y/jCFhJ2fo3hI8u+KQXWLRXaXuTpgvIEZ72a11mNIJLrvcZDSUwQCLXK8MxWXnNW3MQY/N7YdFGlCSuDjzU4KL7k7D9GKwKavNBinUiw/5WBLk7E8eu92c8+q9OGJJYiL7Vj2Wxyy3yCehHrjdcyon90y2NToi6PjqltuA3ri6QmoY7kEVYPQl/vjT48eqOR7jw/0R+Xkga02N96dZnf21Y+hXhNeAb13uWgjoqbvrPsIz1v6B6ku+6Wsy4AL9Z71T6r2Nyn2YQ0ylu8N17vOYxxQBlmNHmW/PZRi2fahXpOhBka47YyNuD6jPrJbyq1H8Y6r4P7tnsaEOtaznJrQl9Ff2QCMVzD2NWv71dcYCYd3KlkYcWXyW5YPuaSrm96ZESPPs1Jz26QI9dpcqD/9kstjpeH8aNRS3O8eUqo39jm8siQVoT5hJz4vbv06S23eFljk/iCCGzPeRVZL+UMQ2X2PeOcp+TTUqzy+sD/OaHPVx3SnBzyJAedH11JccRaCUr33yfOIiOhJFLCh3tsptNZYXHZw3I9d2kpxibIWuZvOdz9gk4hAuKx1AevZaW02RM+z/+TfbtAsBoTVR9jdy5dmBpwdUd169lgMtJrMvy2GBR5I+AM9S1oHRyGRPfC7wwGXkHgMw2tmtQ5gxGCn1qhTSLg4HfUVn/xrwl9G371OzgqJsl6c1gyR+bIgVLrvL6Q4Pvfoyd1iICLeoz553do8+MDR5Rr2gUD3LLpucxV/RHlGvWpdrhgEh1UfAeUJ4RQMZzCkit6yDl2Rj7E1xVuwH2zp8FyXzY4Dm41YrOtYyNqmQp5Ht912G8SDUG84OwLVw5LrQYtcTea7/+DEJAF/9LSePZQ+POnhtEGo6NHv+Lp88i0fWuRtPDvl5ad+C/UhKPHpNidXPCgYb+HnaMWlqyGl0Ms+zQRaqPeof1K5v0mxDz+HLpvd7zmIXYeOhazhKeT5brDfdWxDvQi8Yl939ngOC8NZjKhufc6ANlcTzPdsZxJvtydKWj7AFCGyx+/WEGk4hcGVrP2IvkxfHHSzqxlvbcSoXv0w/Me5WL5pL07fsW/w6m4b+1AfUuJL7HK3z9n1l5psrbDMYeP1PNQbLk5Ds8h8yBIq3T4VguKfu34yfjLDedEv6pPLr0WeD9Y4vCLFl6Fe7fGF7XFG9E1f7nJbF4YzQ1DFUg8aZGu1TJ5DRERPoqck1Cdg44eKy8Z1hfDhRs+Hywk7v7A565yzzXJ5TjK7QbOumIchNhWMVzEhyroObfYWWOL2icvJErHryxLWEKeviAHHU5w7s0g8OQZRirPU2hyvokEtxb2b2iyoMeSIm0t3zZIe3sS5P8/itoefcMTOro+w5PVosqGlo5GhXSDQ5mqDFW6+gefxwibIZBmohqD01wecXK2Q7B5m1AuzriNfB6xL8YbtBlshpfH1ATcjdln85s4obLnqQY/y/f6U58jchnojrk6IsoYXbXa08LxBIHHXlyhhadN6VBxwXJ6TXmKxvXtpSzDRFWiG+Y4eCuavUK8vh++PuG4hyWKXtlQ8UE+PSoNOynNkgRbqPemf1O5v7PbhkNJfw7NdJx6bOxe29uX68uhnd2mEbajXoZgHYdB4dQKiLLfoaJG9xRLPvx0icRe+LGENyvqKA2B9u7FY2FRx9ZE2M8p/OAdH0vK1pipvG9tQr0X+jus96OsfY0nzzNb36fRhcl58T33SQ9w89yfOen4QQf2w5PKLMNtymcP9yHehXv3xhc1xRpsfHdd7cPR9vATNM1v3ManfISKiJ9fTcfm94SyGVlWcRcjaBAs9zz+ibKvQVvHwJH257+QZyewGzaFRmOjgXs80iV+Ndooz5SHPNcfIBYuwaJFn0/SPylnPVGsyo8lCV+cgk3BmouIyTZtJixx1JlgfZOYzibh7ejtmdyytKGdWxwMtu0CgrzQIJ92M92wGcM+Eoe50x/dZWsXh50aKUG/zNORktoMtXcGPsMnTwHl/NhooLsEPrz9bniFzG+rjsbqd4j7WkOfQfOQCh9ve4TT9I5RTnMXJ3GShvNz0YMS9TV0RKV92qhGD4FZLHDxXQOKnUO/4ygzHjNdFIAxV1uUCeY4s0EK9J/2T2v2NzT6sQ8GPNnl0FlZyf3YDxSX44ag/2/brN21DfSiiJjppWwrxq9sht6W/C8FzzUdigYP35Xiajo/KKY4vmcXxxfJ2jYhZ8h7y2PSlGugiCqFivQ/Qe8wCbDtx2+P3bqLytrEN9dJVHY7u87YXj3Ud8ymCbz3McPitqF6E+lRIvHsa22d3RGlF35bVyX7ks1CfDuMLm1Cvr44Rru/hMItfh475FP1OvRnyDCIiehIFbKj36YPyErbi48KKSzals0KpCaWGkxikuIRSKpst20GzJqIZFvtwoCIxXh2P1y3BIa2T+fJblwznMaWe7ZOVpUmbtxFmubyXzw3DY8RcOoY/tq7Cgqmj0b/Hh3ivbjWUKhCR8vvinQ207EJ92FtTkfKuU1u2A7hwRC9wt4EeY14qQ72+5hiHt344lPAbPlXcg6kv30+eIXMX6o1XMf516/y0TtIlyunFeGc1OhWTHxaoCUGRtsudX6qamlCfdBsn9+7Bnj0eTHuP46bNmWHbUC9d8XPF020ZvxYd8ioG5VWHyjNkARbqPemfVO9vbPZhPWqOuew2eCdL+O1TPGtzlctReY6ZTajXRKCZ287YiKvjX0eopbxpnKTQpbzeX/Sl0xvkc/6d5WIfyFzoZbzdrhfGLNqJ87Gu+1e1t41tqA/Du7NcPVcimd3Z6rC6cPy5qS9CvQGPYy7h2B9bsWrBVIzu3wMfvlcX1UoVQITiQavmyfl+5LNQnw7jC5tQH/YuPNskG/FhQWu5wupOl2cQEdGT6OkI9fHL0dryUCEx6Hb7sCI7dsFCk6mpPCOZ7aBZm6MNVviq7LKko/1Q3nL2Ia2Tg8u9HZDu2a5h89T4ELzYZ7/1flGPGHH/5FpM7NUab1QohpwZzV8lZ1seJ5Onob7hXLf3PtsO4DKhyUJ3I8nUhnoNMnhQDoukg/jmJetALqREN3mGzF2oTzqKfuWtf5/WKcWHCmoR+9IvbQrLAUeDkOc6YrXT7+wSUhPqY6bibctlt26m0Ncw7qpyvbahPqy+k+DtSOJudFNefv1SX3mGLMBCvSf9k+r9jXIf1mRAw7ke7zli1/kGL1nKFoIS3XbLc8xsQr02B9q47YyTcLRfecUzN9I4ObglAI+OYkaHCsiRInTaTxpowwuiYuNu+PG3KyJOpqT2trEJ9WLbNJ7vSStUN9Qb75/E2om90PqNCiiWM6PzD0hSTOkQ6tNhfKEM9ZoMjeHZJmGoJyJ6mjwdoV4su6Vi2foaoxx/n7QzxhuYVFtx0M36njwjWcpB80pflV2WdOhblFFcUhhWoCxq1qqFWl5NUeg0+4K8ZGfisO+7ioqvTJLfW8638ZPLJ8xZGR8cwtROlW2/G93JpNFlQsEK9dC2bqT1fk+PQr0I043nOxy0KaVHqM8Y7b4cFokH0OdF2wdW2XAb6g/h2zKKSz7DCqBsTUfb2rMpqpPd5f+qMOL2L61QIPksqzYravRagDVr12Kt02kBPntZcRYrbwMMW2Wdv+63k7iXnM19GerfnQVPToaZJO5B9+cVob7c9/IMWQCGenf9k+r9jU2oz4hoj1KKWeKBPnjR7sF0SilCvdvOOAmHvi2juCQ9DAXK1nTwPjycojphtsNUZ0DMn8sw4tPGqFw4wm0w1Yj9o3znJbho9/mA2tsmoEK98QEOTe2EynmU31XvZNLokKlgBdRrWxeRlvaRDqE+HcYXDPVEROTOU3L5/UZ0KqC41FkMuj18BpaZ/eVx+TvJM5KpH+oNp39AZcVALkvzxS6+8z3tHu3pg3IpvttdmrTIXnu8+3vqH+3DoBrZUly+/4xGi9CsBRH5ck3Ua94J3fqNwaxVuy1PeL4/8x3Fg/KCKdQ/g9C3puCOPMethC3oorhkU3q4lg13od5wGj9UVoT6LM2xWM0G4RNJOPJdWd+dERWTrtjnsDzzzYehPjRqAq67uIDARvx6dMyvOFNXc7Q8QxaEoV71/sZmHw7FW1M83nPErtPF5iGT9g95TH2oN+D0D5UVoT4Lmqu+M8Xh2sE1mD74c7R8ozwKZVZ8t7pyEn1Vxe/325yxV3vbBE6of4R9g2ogW4pnu2igDc2KgpEvo2a95ujUrR/GzFqF3afvmJ9NcH8m3lE8KE/1UJ8O4wuGeiIicufpCPVJx9BfebYvR2us8OSgmCx+LT5Q3jNbwf5SZfVDPR7MUTxYTZThZeUTln0sdge6l7Z+vZNGXwxVKuaxDti02fDaqBMuLsNPwP5vy1m/cklM2qxl0KLfXGw7KQ+8HDLi5qTa1ntbpYHWEgcbKkBDvXTZdYrvm3fCeGca3rZ8aKJBRPR8eY7M7YPyHmBOg3DLup/Rv+zyGw0Cg8qh/uEWDGwejehoD6bm32FdjPNQH1KyF/7w8D4T441JqB1q3ZbZWi6V58iCMNSr3t/Y7MN6vNQ35ffNO2bEnWlv29wzHz3f9qlkqQ/10ttVPHxPlOflAcc9LI+PJMbg1PYFGNWtCV7Oa3tWWpujGRbek39PovK2CZRQn7D/W5SzfGWnmLRZUaZFP8zddhIpvuVPwXhT2h/lvzHtR0sc7kc+C/XpML5gqCciIneejlCPOCxvrfwu6efRfY/nd4Yn7lde7ikG7c0WyXOSpUOoTzqAr0tbL/HVZIzCBI+f5CUkJXnwBGPJA2z9rCRCLYMdPSK7bsbdy7PQUPk99VlqYOhRJyOrx+ttzlxoQl9Ct+2eXMyciANfl1Zcfp/Z8UOuAjTUa8LfxlSPvpxYtMg1HyC/4mvQKg8+Jc+RuQ31SXZ1lRFRE66IyOOpJCSl5hJRn1A51KeJbajXhNfFNA+3ZaxoW9bvqNbjlWHn5DmyYAz1avc3dvtw+NtTPfteb9GXr/kgv7Uv11fG4FO2a/Im1Ccd+BqlFX18xqgJnj8oUUjyaGcywODBMg231uPjUqGW7fWMrii6Kh8kofK2CYxQ/xjrOym+v10Tipe6bffolphEu22Zudlih/uRz0J9OowvGOqJiMidpyTUG3F7xrvInHwAf0aHop03OR5Yp/AY2z9XfK+vGOTUnnhNnpcsHUK9GFhs6aL4fmYxyKnY/08PH1p3F7+0ygd9eE4UfL4sqtZuhfGHHP2lEfc2dsHzlnvgNdAX74wNprNEBlyYXFfxNXcaRLwyCIcdvM+k4wNQ0XJ56DOmy5E9emC+4TxGvWq9QkB6Sr3D8B2goV76EOKtyVc9CNb3sKyN4uuf9KXxzUG7U21uQ71oETaXIWsQWrE//vRwLHn3l1bIpw9HzoLPo2zV2mg1/pA8R11Jsbdw7epVXPV0unIEQ2sq6+ED/HLROv/azfsurvxIDdtQL12NUn+m+69Cg/EWfo7OqdiWL6Gv/eUanoZ6mwdu+TnUq93f2OzDIqhkfguTbW6HcOLeMrRRfE2XvvQ3sN91vAn1YmeyuR1GE1oR/T3fmdAqnx7hOQvi+bJVUbvVeCS/3fj9P6Fz83p4tXxx5M2cC80Xe/JdZ0k4MbCi9cMv6T3YPOxP3W2jbqiPFwE4u2V/cRrqk45jQEXr2e9n9DUx2rODCM6PelVxlZgG4U0WOtyP4pe3Rvbk41maQr364wuGeiIicucpCfXisBuzAE1zKs40Z6yIvnvdP3H58cEBqBqhGHxmfQfTU9xsmx6hXhyj93RXPABIrCdbFMaccB9pHu7sgdKWy4PF3+VugcUOBlzGmDXWrxoTkybkOXRac9cabAxnMeENxX3yInRX7Lc/xYDJ9unUzyD0tXFwP1434tbytihi83ToMDRw9FTsQA31oiz6Ep2x4a7rN/twdy+UtVxWKspfdQjsTjaK6nAf6kWDQPdI6xk7KYhGjTnhPuQ+3IkepRVnArW50cJRgwgEqXn6fZrYhXppW0Z2xnqbS/TtGXF348eW79tP3pYn7S+F9jjUK79/XISR6AU+ulfau/5J1f7GLtRLVwSV6LwBrnedh9jdq6w1sIkAVHXIqRRnnb0K9WKv2dNd8ZDOZ7TIFjUG7t/uQ+zsUdp6ZZP4u9wtFovobJZ0qK/ioXZaZK8/A9fc9oXx2PbJs9aAHFIKvfbZBm81t43aoX51u9zWUB8ejQWOGrndt4OkfAaGY8Zby9G2iO3zCcIaOP5WkvjV7ZDbEuqlrzl1tre5C/VivSqPLxjqiYjInacm1EuDjoPfv2wd7IlBc0i+OvhhjyK02jDi/r5RqFdQcX+jJhQv9tjlYICQPqEexiuYUV9xVlC8h9DnojHpsPOzP4+O/oTGhW3fQ9lv9qUMfsbbWNGuqPW74jU6FGm/EvbfNpZ0chRey6IcvFTAN3ttB0PGOzPwjuKeT014FfQ/5GoUkojLq7uhcjbrcs2TkwdoBWyol5atQ56oH/C75ZHstmIPjEbdAopBp64QPlitvGFW5kmoF230yoz6yGm5ekLUdehziJ50GE5bxKOj+KlxYegV+0Fo2W+wT5Wg7AN+C/XSpEPeN4fjD4fb0oiYnf1RK5fiKxrFtmy/ykF/4mmoT9iKrkWsg3Dp3tqjPrlX2sv+Sc3+xj7Ui0mjy4OoH363fpuBjVgcGF0XBRQf+klXbTjadbwL9dLbnYH6imAmlf256Elw/nYf4ehPjVFY8e0emtCy+Ea5MyX9iX4VFPWhy4u3Rh90eRb3wR/9UT2rtRy6Yp/iN/u3oOK2UTfUJ2Br1yLW39NXQD9HjVz0fzPeUTwzRITuKv0PueznEy+vRrfKKR/O6uwBpglbu6KI4oGLFfoddfIcBfehXu3xBUM9ERG58xSFeiFuPwa8ktXmoK8JzY/qHQZhzqZDOHv1Nm5fO4cjW+dh6Ie1UFD5kB5xkM5cqS92OxwzpVOoFwwXZqFxAdvvetdkKIzXOw/DvK1HcP76HcTcuozju5Zi/Jfv4PkIZVDWIGOZHkh5e7sRN5a0QiGdcsD8PpY5vMk1EUeHVEOEYvCSoUxP7FIOcozXMeNd5eBKA33+19Btxg6cf2AdNhkeXcPhtT+hV+PSyKZYt3XSo/qI8ynv/wzkUG+aRJmKvIHPxi3H76ev4vbtqzi9dyUmfPEWnsuoeJ+aEDzbbjluOsyMnoR6wXABsxoXgM3XY4mBeOHXO2PYvK04cv467sTcwuXju7B0/Jd45/kI2/afsQx6OH3eQRxWfPQiSpQoIU8l0XzaZXleOvFTqNfo9fIHHxpkKvE2vpywEntPXMbNW1dwas9SjP74dRRUnPE0nWnuuNLxtvQ01CedwEDlJcfaCJSK7o2RkyZj8pRZ2ObR5ceOeN8/qdPfCA5CvWkSbbfIG59h3PLfcVrqj6+ext6VE/DFW88ho6KNa0KeRbvlNx0GJm9DvXi3uDCrMQrY9EViXy78OjoPm4etR87j+p0Y3Lp8HLuWjseX7zyPCMUHatJzLcr0sL/v24jbS1ujoCU8Sr+XCcXf+gQj52/GwTOif7h7D3eun8efO0Qddn8Xkco61GbH25MvpOwDBbW2jbqh3u7Wgme0iCgVjd4jJ2Hy5CmYte2S/F6NuD7jXZsn32v0+fFatxnYcf6BNXwbHuHa4bX4qVdjlM5mWxfJk776CJx3UIFJJwba3CamjSiF6N4jMWnyZEyZtU1xy5gnoV5QcXyhbqhPwJavKiLS0s+/gHdG236jBBERBb6nK9QLxhvr0b1iyk/zXU9aZKv0JdZeczaoTr9QL4ndNwJvFVB8wu/RpEFY8ZaYczblnZfGa/PRTPFgu2d0BdFyseMBs0nCIfSvrDyLEooXu223OTuccHQEXktx5l0MSHQZkCVnHuTJmQVhdoNn6Qn57Ub3xhuWs/w6PPvpdjHksBOgoV6jfxE1qljvF3U5iUBfoN44HHF2haanoV4Suw8j3iqgOPvu2aQJK46Wc866uBf3IeY0sNaB9CFLteHn5XnpxE+hPjSqO/rVsV4m7HISwadEy5k45Wyf9zTUizLYBCObKRRRE+zvtfVU2vonX/c3Jnb7sP7FGqhieZ6A60kTUgD1xh1xeEm1xPtQL4nFvhFvoYDi7LtHkyYMxVvOgcO3K/blDZ+XQaZU7p/ShwSRHX7BVWeHHUGNbaNuqBfL3/ih7Yccikn6KknL7QkJRzHiNQfHao0OGbLkRJ48OZElzO5DDekJ+e1Go/cb1uOT7tlPsd1Rn/HYNvTaTKFRmGApiIehXlBrfKFuqI/HyjaKB/2Jfv6lbw7K84iIKFg8daHe5NEJzP/c/pNyR5MImpmKoW6fpTjt8ubW9A31ksQrGzCgUSQya90PPjW67CjXZgx23XIwaDBcxuzGeRUHdB3yN5vv9ju6H+/7FhUU32Ov0Ufi0y335bkSI2J2DMbbhRUPvnMyaUKyo3Sjb7BUqmTpctXy1rOV+ooDccL+mshADfVisDXvxh8Y3aiYzVlF+0kj2lS979bhivM0nbpQL0m8gg0DGiEys9ZtfUuD4uzl2mDMrlsOzwBaPcWhvs5k3Lq3D6MbPqu4pDblpI14Hg0HbILT8bjE41Avdsez09BQeXuGZdKh6Cfb5N9KrbT3Tz7rb5Kl2Ifn4cYfo9GoWEYX7VeDTMXq4bt1V1w+FC5toV6SiCsbBqBRZGZoXWx786SBLns5tBmzC67ernR7045h0Z7tn9Iys5VCs2HbcdP1Dmri622jdqiXns0yrWEB661eiklX9BOb/dsYswOD3y5s8/WoDidNCLKXboRvlp5GHJLwZ7/y1qsB9BUxMMVBRGLA2WkNbW7psEy6ovjEUhDPQ72JCuMLhnoiInLn6Qz1srhL2zGrf2dEv1YOz+XNigx6HXShmZCtQCQq1mmJbiMX48BNV8PHZOkf6s2ScOfwMozu8T7qVi2FwrkyI0y8h5Aw8R7yFMVLr9ZH+94Tseb4XSfhzYCL0961PixIKnveaMz15CnUYui0p1cZm6cMO3xIXOxprBnXHS1rv4zi+cx1HBKWGTkLPCfK1xidvhmPlcfuKcqXiD96vmB9YFXIC+i+264yAzjUmwdbsTi1cig+eqciiuXKBH2IHhmy5kdklXfQsd8s7LziQeNIbaiXJd05jGWje+D9ulVRqnAuZA7TQxcShkzZ8qDoS6+ifvvemLjmOO56EBae9lB/W2rKxgc4vnQwOtUT2zJ3hNiWoYiQnnJesS46fj8Nv13yYFumItRLEi5uwLBOb6J80ZzIJPYXjandahAmyuQdX/VPae1vFJztw7GnsHLoR3inYjHkyqRHiD4DsuaPRJV3OqLfrJ3wZNdJe6iXJd3B4WWj0eP9uqhaqjByZQ6DXheCsEzZkKfoS3i1fnv0nrgGxz3bmUwSbx3EL6PE/lmvOl56Li+yhYv9U6uFXvSJuQqXQtV67+OrMctx5I7ju7ud8922UT3USxIuYsOwTnizfFHkFNtZpzG3BU1YHUxOcdtXLE6vGYfuLWvj5eL5kDWDuU/LnLMAnhN9WuNO32D8ymO4p3hjiX/0xAuWBwmG4IXuu+U59hJwccMwdHqzPIrmFH21TmPeTzRhqDP5lvw7qQz1Ml+OLxjqiYjIncAJ9URBx8vBVtB5hHmNpTOooag15rL8GlEaePHBHBERERE5xlBP5LWnJNQbTmFwJT2e0UQgep7zp2sTeYyhnoiIiMhnGOqJvPZ0hHrj1Ummhxdq9JXxQ4ov1CfyAkM9ERERkc8w1BN57SkI9UlXsLj1swjRaJHt7cmKr3kiSgOGeiIiIiKfYagn8toTHuqNt7C03bMI1UhfgdUK8y6k9uFdRE4w1BMRERH5DEM9kdee/DP1j/aPQedPf8Tvd3iKnnyIoZ6IiIjIZxjqibz2lDwoj8jXGOqJiIiIfIahnshrDPVEXmGoJyIiIvIZhnoirxlweecCzJk9G7PFNGfeb7jIq9SJ3DNcxs4Fc0z7zezZczDvt4tibyIiIiIibzDUExEREREREQUphnoiIiIiIiKiIMVQT0RERERERBSkGOqJiIiIiIiIghRDPREREREREVGQYqgnIiIiIiIiClIM9URERERERERBiqGeiIiIiIiIKEgx1BMREREREREFKYZ6IiIiIiIioiAVNKH+77//xpYtW3w2LV68GJs3b3Y4z9/TokWL8Ouvvzqc5++JZfNuYtm8mwK9bI5eD4SJZfNuYtm8m1g27yaWzbuJZfNuYtm8m1g276anpWxbt27FP//8I6dV/wqaUH/hwgW89dZbqFOnjk+mTJkyoXr16g7n+XsKDw9HjRo1HM7z95QxY0a8+uqrDuf5ewrksmXIkAE1a9Z0OM/fU2hoKGrVquVwnr8nqWyvvfaaw3n+nvR6PV5//XWH8/w9BXLZdDodoqKiHM7z96TValG7dm2H8/w9BXLZNBqNw9f9Pb3xxhsBWzZpW0rb1NE8f0+BXDap7wgJCXE4z9+T1OcGctmk44Kjef6epPGHdKx3NM/fUyCXTRpThoWFOZzn70kqmzTudTTP35OUE6S84Giet9PJkyfltOpfT+3l95GRkTh79qz8U2B57rnncPHiRfmnwFK0aFFcvnxZ/imwFC5cGFevXpV/CiwFChTA9evX5Z8CS+7cuXHnzh35p8CSM2dO/Pe//5V/CizZsmXD/fv35Z8CS5YsWRAbGyv/FFikg+njx4/lnwKLNHiLj4+XfwosUlgIlLMB9p55JjCHEkaj0RTqA5G0LaVtGogSEhJM+0IgevTokemkTCCS+lyp7w1E0rFKOmYFImn8IY1DAtGtW7eQN29e+afAIo0ppbFlILp27RoKFSok/xRYpHwl5awnEUN9AGKo9w5DvXcY6r3DUO8dhnrvMNSnHkO9dxjqvcNQ7x2Geu8w1HuHof4JxFDvHYZ67zDUe4eh3jsM9d5hqPcOQ33qMdR7h6HeOwz13mGo9w5DvX8w1AcghnrvMNR7h6HeOwz13mGo9w5Dfeox1HuHod47DPXeYaj3DkO9dxjqn0AM9d5hqPcOQ713GOq9w1DvHYZ67zDUpx5DvXcY6r3DUO8dhnrvMNT7B0N9AGKo9w5DvXcY6r3DUO8dhnrvMNSnHkO9dxjqvcNQ7x2Geu8w1HuHof4JxFDvHYZ67zDUe4eh3jsM9d5hqPcOQ33qMdR7h6HeOwz13mGo9w5DvX8w1AcghnrvMNR7h6HeOwz13mGo9w5Dfeox1HuHod47DPXeYaj3DkO9dxjqn0BSqP/Pf/4j/xRYpMYWqMFZCvWBGpylUP/XX3/JPwUWqeO9efOm/FNgyZMnT8AG51y5cuHevXvyT4Ele/bsePDggfxTYMmaNSv+97//yT8FFmlA/vfff8s/BZYMGTKYAk0gkkJWoIZ6rVYr/y+wSKE+UIOztC0DNThL+4C0LwQiKdRnzpxZ/imwSKE+UIOzFOpz5Mgh/xRYpFAfqMFZCvX58+eXfwosUqgP1OAshfoiRYrIPwUWKdQXL15c/unJ8tSG+tOnT+Pff/+Vfwosp06dYtm8IJUtULFs3mHZvMOyeYdl8w7L5h2WLfWk8QfLlnpS2aRxbyBi2bwjfWh55swZ+afAEshlMxgMAXuldlo9taGeiIiIiIiIKNgx1BMREREREREFKYZ6IiIiIiIioiDFUE9EREREREQUpBjqiYiIiIiIiIIUQz0RERERERFRkGKoJyIiIiIiIgpSDPVEREREREREQYqhnoiIiIiIiChIMdQTERERERERBSmGeiIiIiIiIqIg9RSH+kTcOrgMPw3th34DRmHG+hO4Z5Bn+c1DnP9jG7Zu3ep42rYHZ+4b5d/1n8Rbh7BiynAM6DcQo2ZtwplY/5dJ8ujiPvzmoN5+O3xNbO1AkojTS3/At+M243pAVN1jXNo5H+MG98OAYZOxbP8NJMhz/O8xruxZjEliP/2+31BMWrQblx/LswJI/LGFGDR+C274eXsa7h7F6inD0L/fYIybtx0XH8kzAkn8MSwcNB5b/F1ZCo+v7MHiSUPR7/t+GDppEXYHTCML5H1TIfE0lv7wLcZtvo5A2KqBfiwIvGNoMIw9AnHMlixeHKcWYsIP/TFw5FSsPHwHSfIcv3HZzxpw9+hqTBnWH/0Gj8O87ReRrocKD48Bfjmuuiybn8cjbsrm12OFp8d1fxwrXJQteHKDZ57OUG+MwZY+VZBdq0V43hJ4oVhOhGn0KPDWSBzw5yA4cT96lwrBM88843jSFUXXbf4c0hlwbdXnqJhNh5CshfBCZCFk1WsQ9lwzzDzr70NYPNa0zw2tg3oLrT3J72FLKf7QQFSN0EBf5lsc8ne1GS5i4QclkUmrR9ZCkXihSDbotREo2W4+zvu7bAmnMatlJMKlshUuhTIlCyJLiBYZn2+JWacDJ9oY7/2Gr8qHQ1/2OxzxY509PjIO9QrqocuUH5EvFkOOUC0yleyIJVcCZuQrVRZ++6o8wvVl8Z0/K8siAadntURkuBb6rIVRqkxJFMwSAm3G59Fy1mn/BuhA3jdtxOPQwKqIEMfQMt8e8n+YCehjQYAeQwN97BGoYzZJ0gUs7PAiIrQahGYviueLZkeoLivKdFqA8/5KBS772cc4Mq4eCup1yJQ/Ei8Wy4FQbSaU7LgE6XKo8PAY4Jfjqquy+Xs84qps/j5WeHxc98OxwmXZgic3eOqpDPUJu77E8yF6vNBpOS6bOt04nJwWjYK6MFQaeMyPg5I4XD22H/v27bOZ9q7og6pZdMhafRAOxMm/6geGy9Pwbs4Q5I4ajD13pdZuxN3f++HVrDpkbzwHt/y5AySdwMCKemR8bQB+s6u/A6dvB8BAUxb3B759ORwa0Wn4P9QbcW1GfWTX5cIbw/bjnmmT3seBYbWRQ5cdjWbf9ONZNwPOj49CZl1e1Bt7GLGm14y498dgROXQIeL1sTgXAFk18dIqdKuS3XRQ8GuoTzoq2n8G6J/vgOVXzYV4+KcI+XlDkFPsmwFxRUjiJazqJg3MxUHT7cE/fRjOj0dUZh3y1huLw+ZGJsYAf2BwVA7oIl7HWL81skDeN23F/fEtXg7XiIFQgIT6AD4WBO4xNLDHHoE7ZjPg3LgoZNGG46VOS3DelO0e48y89xEZFoFqQ/1QNjf9bNLRgaiYQY/nOyyH+VDxEH+KkJ83JCcaz1H57KmHxwC/HFddls3P4xGXZfPzsSIVx/V0P1a4K1uw5IZUeApDveiEh70Cvf5l9D+u2GQJ2/HZczqEvjUFd/x2YHUg6RTG1c6OkLyNMOuSP1NMEv78vhz0Wetg0kVlOeKwrV8D1G0zAYf8ea3Kw4VomjVQzhQ58xA7vyqDTM9Go2llfQCE+lis6vwCcr/YDTuVHzQ/nIfG4Trk77ge8fJL6c54BeNeD0NIqd7Yb9OuErClS2HoMtTFtBj5Jb94iMNTO6BiLj0yRb6LN0uK7enHUJ8oBr0lQsJR5yfloCwJxwdUhD6sJkZf8O8nIA8PT0WHirmgzxSJd98sKfpf1wf/9GHElXGvIyykFHrbNjIkbOmCwroMqOu3RhbA+6bSw534qkwmPBvdFJX1AdL/BuyxIMCPofYCZuwRwGM2wykMrqSH7rmu2GrzocddLGgi6u65T7E9HS9wcN/PJmLXlyUQEl4HPyk/6U06jgEi3ITVHA21DhWeHQP8c1x1WzY/jkfc15v/jhWpOq6n87HCo7IFRW5InafyTH3M7IbIrMuH1svuya+IffbGTNTPpkPO1svS994ilwy4NPUd5NDlQN3JF8RPfmS4hNE1Q5Gx7jTcFscC4+MYXDp7AbceBcYnIIn7e6OUPgdaL4+DIe42Lp27iNtxgVG2ZPe3fIaS4SXw0bqzmPxWaGBcfu9A3N6eKC063Yr9/XkG5DFuHNuNrfsu2h2QHmNdxwLQZXwXs6y7b/oznMGIt8qgwdeLceLBLUyuI7an30K9GPQOryYOWhXQ75htARJ++wTPhmRGkwUP5Vf8wYAzI95CmQZfY/GJB7g1uQ5CXR3809HjG8ewe+s+XLQb9Txe1xEFdBnxrl8bWUqBsW8mu48tn5VEeImPsO7sZLwVGhiDo4A9FgT4MdRWAI09hIAds8WvQ8d8OoRHz7crQxKO9X9Z9MlVMfRsetWeB/2s4RyGVxNBuUI/2B4qEvDbJ88iJHMTqHOo8PAY4Jfjqidl89d4xPtjp/rHitSULb2PFZ6VLRhyQ2o9nffUP/oDP7yWB6E5K6Lt9+Mwacw3aFEmG0Lzv41xfwbE+Q8T490VaFtQHDCqDcUJ9Vq/ZxI24sOCehTtPBdLe7+J5zLroHlGA23GIojquRKX/Vy+mOn1kFGXB2VrvIRceunyHqlshVDrswU4HQDPvDLGrMOHJcLxwqdbcN94B1MCLtQ/xPHVP2Fo96Yol1OPbJV6Y4vp8tDAYrg0De/k1CFT1HjVzih4xoCkJLl+jLf9HOoTsK1rUejC3sHMB/JLMsPZoXhFHNir/HBafsU/DElJ8hUERtxOxcDEL0T4mvZOTugyRWG8n69wMAvEfdOImHUfokT4C/h0y30Y70wJmFAfsMeCAD+GKgXU2EMSqGO2hO349Fkdwt6eane1QCJ2d3seIbrn8Fk6nqp3288mbEPXoqK878yE7aHCgLNDpashquCH0+r0eZ4dA/xzXPX2+JQe45HUlS19jxWelc0/xwpPyhboucEbT2eoF93Zn7M7o2J2LTRaPfQhGmh0ufFqz1W4EDCZPgknh1RFBl0RdFov3+zpT48Xo1lmLSJy5ED2yKYYvHg79u/bhKmfVEUOXUaU/+Z3+G8fMH/KrNNmwUuthmLJjoM4vHctJnWpghxi+z7XYZV/b6kw3sLydkUR/mI3/CZtykAM9Yn70OvFMHFQF/uELhcqth+H3QF1H4qotns78W3VrNBFVEa/fX68wdOe30N9PFa3yw1t5mZYbLcTGq9NQJQ4gL7U95D8ir+lbtCU7oz3sPPbqsiqi0DlfvsQEK0sAPdN463laFc0HC92+810f2nghPoAPhYE9DFUKcDGHiaBOma7hyUtcolj0qsYetRaEOO9jehcPATP6Aqg08Z0vP7ewkk/G78a7XJrkbnZYru2ZsS1CVHi919CX9UHJR4eA/xyXPX8+JT+4xEPyua3Y4Xzsvn/WOGsbAGeG7z0BIf6BNw6cxiHDh2yTIePXRGvG3BmYh1xEM2Cl7suwLF7YiMn3MK+ae1QKlyPwq2XpMMTD52VTSFhF74sEQL9y/1xNH1avsxJ2eLmIzqjOJBGvIYxyieCGK9jZoPs0GVvjkV2Zwl9z1m9GRF7+TB27jhmuxOKg8LC5nmhDauOEao/8Mp52a4veg8Fw8ui1y75urZ0D/UetDfxO3FxojCJd3BwRjuUzKhF1qixUOlDeyux7505bC3XoUOHcexKyoGk4fp69KicDbrwUui07IrYi9ODJ/UmBECoX98xP3SZmmKRfai/Og6vM9R7xnAd63tURjZdOEp1WpY+T4L2iJ/2TWdEn7/ovYIIL9sL1i4tUEJ9IBwLnAiIY6gH/Db2cCYQxmzOJRwdhdeza6HLWRGteg/DmOG90KxsHhR7sQTCQ/z1rQFO+tn49eiYX4dMTRelCPVXx70ufp+h3pOy+Wc84knZ/HWscFK2gDhWOKu3AD5WpMGTG+rlB5gov6JAm7+TaOzmr26R7imyPWDFY+9XJRGir4Ihau8BzsqmEL/1YxTRZUCtMRfTqcOQOStb/Cq0zaWFvsoQuw5C/oTXwcOmfM6DerN3f9a7yKDNjtYrVP4430nZjHd+Qav8IchWsxsmz56N2aZpEjqW1UNXuDEGzZyLlYdUfhhXqustDps6F4FOXxEDVb720nBqMCrpreV65hkt8nfaIM81e3jkRzQtngG6HK+g98ab6bc/eFpvfg/1idjTPRIhYW+neFhP0slBqKjXo/qI8/Ir/ubhgC69PTyCH5sWRwZdDrzSeyNuBuyxPP32TceMuPNLK+QPyYaa3SbL/ZmYJnVEWb0OhRsPwsy5K3Eoxo8py4l0OxY4EwjHUA/4bezhTCCM2dyIPTIbX777MooVyI+iL0Whw8itOD2zATI6eM5J+nDSzybuQffIEIS9PQ22h4oknBxUEXq9CDLn1a5LD48BARrq/TYe8bTeLNLzWOGobIFyrEhtvQXAsSINntxQb4zBrmkD0a9fP8vUf9Rq84E1pxaZmy9Jcalb3PzGyKgrhM6bVf5k1VnZLORBemgNjEzvezqdlU1+Oqq+fD/8abNfGHHdNCApja8PqDwgcVY20fkfXrMAczeesnuICXB3ej2EafOiwzqVd04nZTOc/gFVbEKr/RSCkr32yQtRidN6u45ds0diyILDsG3xBlwYWQP6kBLotlvdbWqM2YVpA63l6tevP0atTg6g4qCw9RtUy65DhuLNMOVoOj8Oye1+KvN7qBcHrSlvIYP+RfSxCwXx6zogny47Wi0PlNsVUn+AVZvxzlZ8Uy07dBmKo9mUo4HxoNQA2DcdM+D0D1Wgd9iXyVNISfTa56dwGgjHAmcC4Rjqlh/HHs4Ewpgt1RKx64vi0Gd/D7/4pUNx0s+K/WPKWxmgf7GP3VPc47GuQz7osreC+ocKD48BARfq/TwecbpNA+FY4ahsgXKscL4vBOyxIg2evnvqk46iXwU9Ql7ogT022yteHMxeEAezahju70su5CeUhpTsBX+NjVJKPthXwsDjikIZ72B+k5zQ5WqFpf66/U46o1pZOvPdCeuVT2413sK86FzQZXkXM2766cyRIQ53b93EzZvK6SRGRYUipFR3bL12CzEP0+2IZctwHqNeDYOuUEesVW47UW8/R4ttGvEOpvvvi5MRf2Q4aokDaKayXbH6WoAMMB3xe6gXm/L0EFQJ1aPigOOKS9risO2TYgjJXA/T/Hl9qg0PB3TpJf4IhtcSgT5TWXRdfU0MQwJEAO+bhri7uGXTn4np5ChEhYagVPetuHYrBv7q0gL6WBDIx9BkgTj2COgx22Os7/o8ckZ+gs3KssVuQufn9MgRPc9P9+U662dF0BpSRbxeEQOUXw8Ytw2fFAtB5nrT0uFWBg+PAQEW6v0/HnFStoA4VjguW2AcK5zVWyAfK7z3FD4oz4BLM+ojty4jSraegG1n7+LhvQvYPqEVXsgYggItFvr1/iyTx8vROrsWmZssDKCv1xM1d2EK6uXUIXPZDpi25zJibp7Aqn5vIH9IGMr09udDfgy4PKMBcunC8HzTMdhyNgYPbv6JX3rXNG3ncn12B1Q9SoO4wHhQnhE3F72HArpQFG8yBlvP3ZXrrZaotwx4sftvUPZ16cpwBqNrZYJGlxdRXwzDyJEjbacxC3HgfoB0uAEQ6qVP63+OzoOQrJXw+ZJjuPPgOvZNex8vZNCjWOcNdk869icPB3TpwoAzo2shk0aHvFFfYJh9Gxs5BgsP3Jd/N70F8L7pQODcUx/Yx4LAPYbKAnLsEchjNiPuLm2FfLrMqPj5Uhy7/QB3Tm3AkPpFoI+ojP4H/HWmz3k/a7z+M6LzhCBrpc+x5NgdPLi+D9PefwEZ9MXQeUN6HCk8PAYEUqgPiPGIs3oLhGOF58f1wLmnPshyg4eewlAvGO9iz6hmKJVV+koZ82UgmpDsKNtmEg4GwOjXeHU8Xg8NQYluuxEwJ+pNxAFs9whER2aGViPXW2geVPpwLk75+yoV6VLpYY3wfGatvE010GQsjKheq3ElfXoOzwXU0+8fYP+45rb7QoZCiOqxHBf82PiMl8egVqi5PA4nfTUMV/3ePw8FQqgXjLe34PvahRCWvG9qM6FE9Dgc8PfZPxueH/xVZ7yMMbVCU7Yty6RHteH+fBZBYO6bjgROqBcC+lgQwMdQIWDHHoE8ZjPewqZvXkeBUOkrscztLUOhKPRafcWP+4KrflbM2/I9ahcKs+wf2kwlED3ugOnp5Orz8BgQQKE+MMYjrurN38cKD7epEDihXgim3OChpzPUy4xx13Fs91Zs3vo7Ttz0+2fkwcP4EJcP78TW30S93QisejPEXsbhnVuwZccBXLgfpHulHxgfXsERqd62H2S9BbVE3Dm9F1s3b8O+c/f8H7AozbhveiegjwUBfAwNZIE8Zou/dQJ7tmzCtj/O4m6AfejmUOIdnN4r6nLbPpyTvlGAgh6PFd55knLDUx3qiYiIiIiIiIIZQz0RERERERFRkGKoJyIiIiIiIgpSDPVEREREREREQYqhnoiIiIiIiChIMdQTERERERERBSmGeiIiIiIiIqIgxVBPREREREREFKQY6omIiIiIiIiCFEM9ERERERERUZBiqCciIiIiIiIKUgz1REREREREREGKoZ6IiIiIiIgoSDHUExEREREREQUphnoiIiIiIiKiIMVQT0RERERERBSkGOqJiIiIiIiIghRDPREREREREVGQYqgnIiIiIiIiClIM9URERERERERBiqGeiIiIiIiIKEgx1BMREREREREFKYZ6IiIiIiIioiDFUE9EREREREQUpBjqiYiIiIiIiIIUQz0RERERERFRkGKoJyIiIiIiIgpSDPVEREREREREQYqhnoiIiIiIiChIMdQTERERERERBSmGeiIiIiIiIqIgxVBPREREREREFKQY6omIiIiIiIiCFEM9ERERERERUZBiqCciIiIiIiIKUgz1REREREREREGKoZ6IiIiIiIgoSDHUExEREREREQUphnoiIiIiIiKiIMVQT0RERERERBSkGOqJiIiIiIiIghRDPREREREREVGQYqgnIiIiIiIiClIM9URERERERERBiqGeVGe4shML587D1v/8I79iy3j3CNbM+xmrDsfIr/iKATGHVuHneVvxn0T5pQBhfHgCG+bNw8aTD2GUXyMiIiIiIkothnpSXcLvo9CyQTQGbY2TX7FluDAfnzduhK5zzsqv+Mo/ODP7YzSKHoBfH8kvBQjDzRXo3bgxeq+8BYP8GhERERERUWox1JPq/BfqgcTY27h+/S7iAux0OEM9ec6IR9dPYN+evThy6T5sr3dxNU/MfXQdJ/btwd4jl3A/5UxcP7EPe/YewaUUMz2lUtlkhtuncPjC/+SfUsnN+3O/fgNunzqMC/+z6zx8UW8ul+G63syclE2WpnrzZP2G2zh1+AJSVo3K7c2TZXhTNpma7c3ESdnM/NXeZN6UTZa29mbmeBn+7t/MfF42E9d16ilvymamYnuT+bxsJmrWm8xf/Zss9WXzpE7dLNdD3tSbmePt5km/7Clfl83MN+0tvTDUk+pSHepF5/jXyf/DiWuPRFdlwP+un8OJ46dw5V6Ceb6df/53C5dOncCJc9dw3+Yye9HR/SV28v87j7t2ydnw6I7pb05fuYdE8XsPr57A/538C4+k/TaV64fhIW785wSOnziH67FOu1M8unUBp06cwV+xBoZ68tA/+GvzEHRo3Rlf9/8Wn7Zpje5zj+Kh6fjiap6Y+9dmDOnQGp2/7o9vP22D1t3n4qh1JjYP6YDWnb9G/28/RZvW3TH3aGpvBVGpbMkencaCni3RdfYZ+YVUcPP+PFn/o9ML0LNlV8w+o9infVFvLpfhut6SOSxbsrTUm0frf4TTC3qiZdfZsK0aldubR8vwomzJVGxvZo7Llsw/7S2ZF2VLlqb2JnO4DH/3bzJfl03msk495UXZkqnW3pL5umwy9eotmZ/6t2SpLptndep6uR7yot6SOdpuHvXLnvJx2ZL5pL2lI4Z6Ul2qQ/0/pzCjSzQ+mrAcC/p1QJMGDdBAmhq1RrfJv+NOcgoWHen2iV+idWN5vpgavfcxhqw6A/OaHFx+b4zF8V9+QJcWjeS/aYx2X8/C/BEdEP3xLJyW9ltP149E/LVzCnq1j7asv0F0W/ScvAN/KT5cMN7/EwsHfITmDeXfafoRfpg1Dl8y1JMbxtidGNa2CyYfMTfgxMvL0KdVNyy6ZHA5T2rnO4e1RZfJR8ThzDQTy/q0QrdFl0R7MyJ25zC07TIZ5j9NxOVlfdCq2yJIf+opdcomMeLRpW34sVtbNGsajY9TPQhx8/7crd/4CJe2/YhubZuhafTHioO5L+rN9TJc1pvEadkkaa039+s3PrqEbT92Q9tmTUV/qRggqd7e3C/Du7KZfkHd9iY4LZvEj+1N4l3ZJGlvb66W4e/+TZ2yCS7r1FNelk2ianuTqFE2QeV6k/ivf5N4Vza3depmuZ7xst4kzrab237ZUyqUTeKT9pb+GOpJdd6F+kZo1LgFPh6xEgcv3cHd60ex8ocOaNToA0w6LJ0xN+Ler4PwXuMPMWLDSVy/H4v7fx3FKul3ortjyWWpW7AP9UbEbBuC9xs1xccjV+P/rtzCjbO7MPebtmgswnYjm1Dvbv3Ao8OT0SVahP8hy3DgUgzu372C/1s9Ch9LHcu0o3gs/ZLhNjYPao1GzT/HhF9P4ebdGzizfSZ6tZY+VGCoJ9cS9o1F2w+n4ljy8cQYg7V9m6Hnsut47GKeIWEfxrb9EFOtMxGzti+a9VyG64YE7BvbFh9OPSb2EHluzFr0bdYTy6573hrVKZv48Z8jmNa9FyZuOIFfR7Ty4syCm/fnZv3/HJmG7r0mYsOJXzGilfITel/Um+tluKpTc9U4K5uQ5npzvU0NosRHpnVHr4kbcOLXEWilPOuhentztwxvyyZ+VLu9uSqb4M/25n3ZBB+0N1fLcNkW06F/U6dsburUU96WTfyobnsTVCmb+vUmZvqxfxO8LJu7OnW9XA95W2+C0+3mrl/2lBplE3zS3vyAoZ5U53Wo7/Aj/k9xxbvh0gLT2e0ev/xlGmCem/spGjf9Biv/su5shpij2LJhO07GmA4RtqHecAWLuzVG48/nweZB/A/3Ykx7sT77UO9q/aLjXP9dMzTuMgMnba7KT8SJ6Z3RuMUgbLlvFKtcjG7ibz6de06UJpkR97YORsuGDPXkijjIremL5r1X4palkSTij9Ft0OHHw7jpdN4RJMSsQd/mvbHSOhOJf4xGG9GmjyTEYE3f5rZtL/EPjG7TAT8e8fTApVLZTKs3wGCalYA93gxCxL7p6v0Z3a1frNy8+j22B3M3y/WIy2UkuKjTI+b+w1nZTNJYby63qXn9BvMKxOptB0gu69QX7c2DuveqbKbfUbe9SZyVzUTMM68+vdtbGspmktb2JnG2DNdtUf3+TaJC2aTVu6xTT3lXNtOanK3fF+3NRIWySVStNzO/9W8m3pTNgzp1s1zPeFdvJmKe+U9tt5v7ftlTvi+biat5AYyhnlSX6GGo/2SubaiP/n4TYs2vmBjvrce30Y3x+YILpp0t4dRcfNa0ARo2a48v+4/FrJXbcfTaQ/OOaGIX6v+3Gf2bNMKH047LnV2yx9g5tAUa24V6l+sXnfaYVg1F8O+JocOGYZhiGvJVezRq1AGT//wHj0R4b9qoPSYdtl1j8rJsDgRENgz4a2lPNOu7Fnctt5kl4uDE9mg77g9ccjpvP/7+ayl6NuuLtdaZSDw4Ee3bjsP+v//C0p7N0HftXTEkkCUexMT2bTFuv6ff/ahS2WxW7+UgxOD6/Rk8Xb/9wdzNcj3ichl/u6jT/eJ/Ci4HGt4O3lxtU9v12w+QXNapL9pbKuo+VWWzrVRV2puSw4FlsnRvb2komw1v25uS/TJct0X1+zclH5ZNuXqfhIXUlc3m3avR3mz4sGxKqtSbrXTv32ykpmypqFM3y/VM6urNht1287xf9pTvymbDJ+0t/TDUk+oS94/D+w2j8e36e9ZOT+Gf07PwcaPG+GLBRfkFOVQP3oa/za+YGO9vwHdSqJ5vDvVSh3b/1CbMHNYLnVs2lu9rb4oOfefioKmjsA31hlsrTQ+n+2zeefnvk4lOcELblKHe1fofb8Wg6AZo+lEf/DBkCIakmMZi9dkE3F3bF9GNumCWacEKCTsxtFk0Qz25YDS1n+a9luOmpZEkYu+o1uj40//hltN5fyLh7lr0bd4Ly60zkbh3FFp3/Al/JtzF2r7N0Wv5TWvbS9yLUa074qc/PT1wqVQ2m9V7OQgxun5/Rk/Xb38wd7Ncj7hchrm/cFZvtlXjaqDh7eDN1Ta1Xb/9AMllnfqivaWi7lNVNps/Vae9KaVqYKl6e0tD2Wx4296U7Jfhui2q378p+bBsytX7JCykrmw2a1KjvdnwYdmUVKk3W+nev9lITdlSUaduluuZ1NWbDbvt5nm/7Cnflc2GT9pb+mGoJ9X9c24uPhWh/bN5/7F2egp/7x6BliL0f7/hvvkFj0O9guERbp3ei7VT+6Bto0ZoP+mweNHuTP2j7RjSohHaTTwouj2l/2HLwKYpLr93uf7EAxjfthGaDdpiczbfXrz03hq1xqi98fIrZqZ7rnimntwwfXLdUXE5muEmVvRujj6i3fztYp7BdKago+LyPwNuruiN5n2ky/TMn+R3tFyeJ/3pCvRu3sfmUjh31Cmb/JKJt4MQN+/P0/WnOJj7ot5cL8NVndpWjauBhveDN0/Xn2KApHp783wZqSub/JKJSu1NIXUDSz/Xm5JK7c0q5TJctsV06N+sfFk2+SWJT8JCKssmv2SiSntT8mXZFFSqN6X079+UUlc2j+vUzXI9k8p6U7Lfbh73y57yYdmUfNLe0g9DPanv7z8w5v2GiP5yAc7bX1ZjjMWeUe3QqPHnmH9B3pM9CvUPsXfSp2j/5SycUN7TLj184/1GaD5kh/jBLtQb72D9d83RqMM47FN856Th1gZ837Jh6kK98QG2D2mJRqLjXnZFsbOL1/eO74LWnYbi1ztGGO/9ikHvNcL7Q7YhxrJKA/5a+TWa80F55E7cPoxr/wGGbr0lWrMRD4/PxBcte2P5NdFqXM1DHPaNa48Phm7FLdE8jQ+PY+YXLdF7+TVTe4vbNw7tPxiKreaZOD7zC7TsvRymP/WUSmWz8n4Q4vr9ebh+BwdzX9Sby2W4rDcFlwONNAzePFx/ygGS+u3N02WktmxWarU3q9QOLP1bbwpqtTcLB8vwd/9m4duyWfgkLKS2bAoqtTcr35bNQq16U/BH/2aVyrJ5WqduluuZ1NabQort5mm/7Clflk3BJ+0t/TDUUzpIxNkF3SiIxFYAADJ4SURBVNC0YWO07zsVa/YcxZn//AenDm/HsvHd0Vo6sz50uzX0ehTqjbi3cwTaNYpGh2+nYeWWndi1fT3mDeliuod95G7prL9dqBf+PjkXnzdthFbdxmLxpt/w68rp+L5TczRubH76vWm/9fBKgcQLy/B1y4Zo3P5rTF72K3b8th4LRn5uegDeRxP34b7p/STg3OKv0KJhU3QeNBtrft2MldO+Q4cmjdCIoZ7cMuDOnh/xeauW+KDLR2jdogMGrj4vWpW7eWLunT348fNWaPlBF3zUugU6DFyN89aZ2PPj52jV8gN0+ag1WnQYiNWWmZ5SqWwWaRiEuHl/Hq3f0cHcF/Xmchmu683C5UAjLYM3z9bvaICkenvzcBmpLpuFeu0tWaoHln6uNwvV2lsyR8vwd/+WzMdlS+aTsJD6slmo1d4sfFy2ZKrVm5Vf+jeL1JbNwzp1s1zPpL7eLBxsN8/6ZU/5tmwWPmlv6YehntKHIQYHFwzCxy2Tvx9enpq0R68ft+CSMj17GKqlT/rO/zoF/T9vj5bRjdC4aUt06vYDZm2/ZP46OQehXuoAYw4vxojuHcXfRKNZ28/xw4LtWPhtNBp/Og//kRbs8fpFCS5sxYxBX6JDyyZo3LgpWn/UCyMXHTB98mhhjMXp9T/i24/fR7PoJmjduS8mb1qA/mJZDPXkCUPcHVw69x/89SDlgcXVPDETdy6dw3/+eiD2BnsGxN25hHP/+QuO/tRT6pTNF9y8P6/X74t6c70Ml/WWDrxev+rtLQ3L8Hd785qf683P/N2/ueLf/s017/sQP9dbIPNze3PlyaxTSi2Gekpf/zzAX+eO4/8OH8afpy4hJi49I20iHsTcw2P7VRr+wi9fNUb016tw23pVPhERERERUcBjqKenh+l7WKPR+JPZOK24tz/xwiL0aNoInaef5CeFREREREQUVBjq6SliwJ1tQ0z34bfrMQKTZ8/FrEk/4IvWjRHdaSR23OaF8EREREREFFwY6ukpk4ibB1dg8tC++OrLz/Flz+8xatZGnLzHQE9ERERERMGHoZ6IiIiIiIgoSDHUExEREREREQUphnoiIiIiIiKiIMVQT0RERERERBSkGOqJiIiIiIiIghRDPREREREREVGQYqgnIiIiIiIiClIM9URERERERERBiqGeiIiIiIiIKEgx1BMREREREREFKYZ6IiIiIiIioiDFUE9EREREREQUpBjqiYiIiIiIiIIUQz0RERERERFRkGKoJyIiIiIiIgpSDPVEREREREREQYqhnoiIiIiIiChIMdQTERERERERBSmGeiIiIiIiIqIgxVBPREREREREFKQY6omIiIiIiIiCFEM9ERERERERUZBiqCciIiIiIiIKUgz1REREREREREGKoZ6IiIiIiIgoSDHUExEREREREQUphnoiIiIiIiKiIMVQT0RERERERBSkGOqJiIiIiIiIghRDPREREREREVGQYqgnIiIiIiIiClIM9URERERERERBiqGeiIiIiIiIKEgx1BMREREREREFKYZ6IiIiIiIioiDFUE9EREREREQUpBjqiYiIiIiIiIIUQz0RERERERFRkGKoJyIiIiIiIgpSDPVEREREREREQYqhnoiIiIiIiChIMdQTEREREZFXkk4Dg78G+vRxPQ1cIv+BCs6tBL75Bth4TX4hreKBPxYAn7QC6tQEatQGPhDvYesleX6AMVwAhon3v+CY/EIQMj4EHhrlHyjVGOqJiIiIiMgrCZuBF3IC2bPLU1YgRCOmjIrXxFS8s/wHKtgslq0LAb4+IL+QBnHHgTYlAa14D7nFv2/WB96qDuTUi9fEe/tstQig8u8GioRtQBHx/pur+MGJmi6KcleNBFbEyy9Qqj1ZoT4J2LMRuGu3pxkfALvEDrhiC3A7UX5R5mqetMee2wUsXQEcvS2/5i1fl02WdBnYeET+wVtelC3Z5T3AkbvyDwoPzgGrlwJbjgJO/tQzTsrmyfJd1Y2a9WbibJ742WmbcjUvtbwom7/bm4mreYLD9pZe9SY4a+8SV/PSVG9u3p+rfSE9+jdX6/e6bDJ/1Vsy1dqbWmWTqVlvJt70IelQbyZp6N9c1albaShbMn+1N5M09H0+OS7QEyVJtIeyIgCX+dbUtNLF9k9FqBfr/P5P+QUvGe8AHZ8T4T0n0GeN6YS9RaxYdnQRMS87MPmi/GKACPZQv/FDIETU63KGeq89UaF+bz8geylgn+KAnXjGvAOWqAXULg3kqgxsu+d+njSSmh4tXisB1K0N5M4FfC12GCfHO7d8WrZkYpDSrxpQqpf8s5dSW7ZkD/YC1cQO2Guf/ILszHTRsYj6qlUXKJ0bqPw1cM/LinNUNo+W76puVKy3ZA7nif87bVOu5nkhtWXzd3tL5mqew/aWjvXmrL1LXM1LU725eX+u9oX06N9crd/rsiXzU70lU629qVW2ZCrWW7JU9yHpUG/JvO3fXNapO2koWzJ/tbdk3vZ9vjou0JPFaagXDe/EDmCLCMfKNnj/NLBpM3ApTn5BIsLdfvHagSvyz0KCCNz7dwK7DgJ37drq1XFAaAQwT7RJpbsifP8u/uaAWIcneXFfb0CvA1qKcOxoX7u7DMgv5r/Yx7R72bgj+pqd24GD5+3miQWd2Q3sFvOlZd4RZdkhynRe0Q8lxoh1i9f2n0tZZ9Lf7jxl/tvrx8T7/wO49tA8O5nTUC8Wdl7U145dwDmxDhtpKZdCkvj9g2L5uw4AMXaVYrwvli+242nxr7SAc+J3dvwO3Hxsni+5fhgY+i6gywz0XyO2l6g/Sr0nItRLn8DP7QLkyyR26JKKg5JooQubAZFdRYch/Sz25mE1gYoDRLtyNU/8GLNQLC9SdDymmcDxYUCOisBRZy3aCTXKJnkgduouojyZMgIlvTyYelU2ef6xueLnfEDGUNsDvVHs/M3E6123mH+OPw7UzAEMOGr+2VPOyubJ8l3Vjar1Jria56pNqd7eBK+3t+DPenPV3tKj3lyt3+U8Ia315ur9udwX3GxTX9Sbq/WnpWwSv9WbROX2plbZJGrWm8TbPkTtepN43b+5qVNPeF02iR/bm8Trvk/wxXGBnkyuQv2EKBGaywCHkmeI16bXAzRa4IO18mvCY/H//GIZn4tAKQXDSW2BXOLnZ0RykaZQ0S4//ln8nvz7CeL3ar4j2qy83MSzQKcKYl0a+W/Ev1lfAMa42sdF++/2vAiXxUTwTJBfsyeWf0wE0/uKN3Z/P9DWbl35XgF+FkHcRCy3u9gPIzsBfd8AMsi/p80CfLRUBPahQNEM5tekenhR/N5Vg+3fFm0D9BR9V/I6pLPaLScCsfKvOQr1Z8T+X72AWKZUJmnZYj+u9ol4XfSDJmkpl0QsZ+GnQAGxXOl3pEnaLp8sMM0ySdwjli/mdxwBvF3EWpaQnOL3lgHS4mY3EHUulq8R69fpgAr97NoNeURUa/Db8rlotKKh7ZwhDlbKT5rFnt5ONK7Ptss/C9cmiANQNeDcQxfzRAtb3Q4o9pnYSeR5xmtAlDjoDT8nv+AhNcomFerzSqKz+gmY0cL7T8i9KptYf4IYcFaqDvwkOtAWYsCpPNA/Xi06MtEZbrdUnLkDrzbcvON6ylnZ3C7fVd2oXW+Cq3mu2pTq7U3wdnv7u95ctbf0qDdX63c1zxf15ur9udwX3GxTX9Sbq/U/TEPZ/Fpv4ke125taZVO73iTe9iFq15vE27K5rFMPeV02wZ/tTeJt2aQF+uK4QE8mV5ffnxPhLlSEvFHJl68/AtrkMge6kj1NOdNkh2i3+sLA5jhgViMR9sKAaNEXHhNt+MphoN+bYr5YR0fRb4qu0pZ4YWZ9MV/0pz/tBm7FAGd/AxqJ5YVVBo47SYzGG0BtUbbMTcRxTH7NHcMVsdw8YrnFxX61TvQvt4DDy4E3C4r1Pyf2QbHu5PAcIspb6n2xv4n97+ohsV8VFQE6AshbBpgs+qhrl4GpYn8KEeH8q73m5Sf/rRR2C70DbDoP3Be/N1aUMUz8Xsc15l+zD/X3N5nDdPFoYO1R4PZ1UZfjRB2HAy98Ib+/tJRL2NRVbEtpuwwDjl4Frp8ExrUCwsVrX4jySEyhXvydPrNY7mix/UR9nZO3ha6QWIbooyW8/D7tnohQnyTvnI+X2h6UTAcv0SgtHYcQvxLIXUQ0bLFTOJu35W9gvBhIvTrKPJAyEY2sTW6gizjIpYbPyyYfmZOXu/Q97w+m3pTNtH7xd6Y/FTvie3YH+mvjgYhXgYuWigNWthEdTRfroMITzsrmyfJd1Y2a9SZxOk8cYJy2qc3qtzeJs3lut7fgt3qTiHmm2fbtzVWd+rDeXLV3l/OENNWbm/fnal/429U29VH/5mr9570tmy/aWxrqzbR6Z9vUF+1NrbLJ1Kw3ibP9xGUf4ov2plbZpEp1U6dupaFsJs7Wnw7tTeJV2WRpam/0RHMV6pOOAxXFvHdnmpooEnYAxTKKMF1TBMTq4vghNVbxR9+8BOTvAMTKy3qhu6kpWj0AOonwmUH8nelvlEQ7/rq0CJevizCvaNNXRdCcPN/ubLNC0glz2Qp+5PmY9ch3IrCK0Np9t/yC7MF6oKgI4jXF/mcJ5iLor39kni/ZKcJ1iPgdaRyYLFEs53mxvHdE/ZhfkP9WvNf1yaflJSKVdxavZXobuCEq0ibUi59/rCPKJf5ut02lAbu+FK9nAWZJz9dIQ7mMIsTXySQCu/12EX3Ml88DWeoDt0U5kkO9dBxT/t7RfqIcoq6HnDH/zFCfdk9EqE9mf1AynAVeEQ1u4g3zz5J4sZMVyCsGSsecz1sTBwx9RQwEJpo7HBPRyDoVANrLn4ills/KZtfYfXEwTU3ZbNbv4EB/dqjoYMQgQupgkq3vBORtb6rCVLMvW2qW76pu1Kg3pRTzxAHEaZsSA0y125uS19tbSPd6U7Jvb67qVIV6c9TeLVzNE7yqNzfvz9W+EOdqm/qof3O1/mPels0X7S0N9WazejXam1pls6NGvSmlqg/xRXtTq2zKSnVTp06loWw2/NDelLzu+wRfHBfoyeLyQXniBSlw52pjOkmP4/2BjGWBVcOBsAhg9l3RdE8DVUKBVsuAu9NFcBcBs7MiYCZb1VYE0qzAL6KN2tvTRyxXI/pUEVjrtgNGzQNO2z1Lw570tXA1RLlzieUquwdXptc1n3HebP8pgChT21xA1hbi/2K/ksJz6BvATcvOKH8gIN7nxOvyC0LSUaC8KMNbU+T9Vv7bnKK+7N/m4mZi3fnEcUIU1ibUi5/fF/tsSGGgifidZoopuqr4G1GfXbeK30tDuaQPR3NogcLVbJcvTVVFneuKAFtFnSSH+remmpeT7OaPYr1ied+LtiJhqE+7JzrUG0VjlD6hHyF20mTxy8WOURT49aLzeVv/Nl/yWH2E6ZhoJhpZq5zAx9JO4AWflc2u01AjZLkqm836HRzor08AIqoDFywVJ3bQVkDRjz3/1FPJvmypWb6rulGj3pRSzBM9oNM29av67U3J6+0tpHu9Kdm3N1d1qkK9uRzYuponeFVvbt6fq33hb1fb1Ef9m6v1X/S2bL5ob2moN5vVq9He1CqbHTXqTSlVfYgv2ptaZVNWqps6dSoNZbPhh/am5HXfJ/jiuEBPFpehXtgtnS1+Ftgu2uPE2iKMij7u0UHgJfE3HdYCV0RfmDEbsECEcNMD8EQo7LNf/mMF0xPvw4BZyjPYyUSj3yOCZDPRp2YTyzXdF55R9Adf235wakO09ba5Rdlq2PbDNsTfntorjnMPzP8f97oIoy8C++33HdG/fPocEPau+L+YJ4XnsIbmDzKSJYfnyYpvpZDCcwVFeE7+2+cUt9EkW9tBvP8swBJRbptQ/xBoIOolvDjQOFoEeQfTOKk+01Cuh3PE32mA4jUdLz+6nblOkkN9w7nm5SS7Pdkc6r9jqPeZJzrUSwevTgVtL1W7MFIMmkQDlJ6w6XSe2JGlsyNFky95FEyf3omBwehL8gup5MuyKakSslyVTbl+Bwd66QxIQTFYSr6MVupUR4rOseZoxaAiFezLlprlu6obVepNwdE8V21K9fam4PX2FvxRbxYO2lt61pvLga2reYK39ebq/bncF9xsU1/Um6v1x6WhbErpXm/ySyYqtTe1yqakRr0ppbYPUbvelLzu39zUqStel03JD+1Nyeu+T/DFcYGeLO5CfbzYHwuL0Nh3B9BUhPcWUhAVjfTjwkDJr0SYfAfI0gC4I9Ljw4Xi/zoRtleZ/1ZpvgiPujwpr/KyZxABfO8K4DOx30tnqT/aJM+wJ9Y3tzGgDQfGO9nPpA8K62YGMtYGrorfX9hULDM3sErsJzbEOqNF4M7TXvxf7FdpDfXZxH6m/Ftp5tS3RRAuAewWv2N/pv6DvECm+oB0S79TaShX/Fogr6jL+rPM851hqE8/T3aoF1aJnalQE+CieM14D+hRXhzQ5E+tXc2LFZ1HwULAHOk+PNF6d/QQO5QYXJ22GVl5zpdlU1IrZHm0fkcH+ligvRhANZlj6itwT3TY5UWHPeK0eXZqpShbKpbvqm7Uqrdkjua5alPp0d6Seb29BX/Um4WD9pae9eZyYKvSoNfl+3OzL6jev7lafxrKpuSPerNQqb2pVTYlVepNIbV9iOr1puB1/+amTl1JS9ks/NHeFLzu+wRfHBfoyeIu1CNO9HX5gJfrAfkzAT/Jt8f80lKESdEOK4jQnBwejVeAN8XPeUSAvya9IEs6L14X/WM2Ef5vKV43Efv5R6XFcr4yNV8L6WGkeUQQjV4gv+BA7EbgWRFCCzUDLtkXXqxndSdRRi3QWIRUabVXfgIyS8sU/bayGOcnibKJ1xtIoVfsV2kN9VoR0ucpbiNKFMeF10W9FBLlEdWZ4p76edIHHhHA8BOmXzcTr6/oAOR6FpghfVVgGsolfZ9/tAjh0gekJ5I/NRSk1zuIZT7bVNSN+EVPQ/2WLiLUi+25VLnBKFWe+FAvPZWyczmxY4mDWvFcosG/CxyWG4yredLRfmlnsTzRwCKLA1mKAOMOy/O84NOyKagVsjxav/jZ0YH+ilheOfF6IbFT58oCvDvO9KtecVQ2T5fvqm7UqrdkDue5alPp0N6Seb29Bb/UWzJH7S0d681ZezdxNU/wut7cvD9X+0J69G+u1u912RT8UW8W4gVV2ptaZVNQq96SpboPSYd6S+Z1/+amTl1KQ9ksHK3fz/VmoVZ7oyeW21AvLBHtRqsR4bEScFK0U8mtaUC4eE2TARh/2fyaZK8ImZlFkI4U4XOCCIezx4hwKYKpVrTrIYfkX1ISYXJRCxFqRTB94wtg1iIRcn8UIVT0qyEFxLpvyb/niPjbtSJgSl/vlv8VYLAI67v2i2kN0KcBkEl6XZTjXPIbE2n4O/EetJlEcO0NzF0AjOkmQq14D9IHaIekM89iv0prqNeIYJxF/NtnAjB9JBBVULy/fOL/8ne624R6IV5sg1qifvTi97oOBxb8DHzfUpRJ1GPxTuaH2KWpXMKRYeblFXwNGD4T+FnUccuyoi7E73VaZf49T0P9ob5inTrgze7AzJ3WdZDnnqhQ75ToLK4cEw3mrPUSNAtX84RYMRg4IDqMO45m+kIayqa6NKzfEGv+Hs+zd+QXfEzt5avJVZtSvb254u/2lgZ+rbd04Or9udwX0qF/c7X+tJTNF7yuNzd8UW9qlc0XvH5/6dDe1CqbL/ji/Tni13oj8oInoT5GhLysIiCX+NKULU0M54Bq4u+kp+CbvuI0mUh4+6YCdcuIYCvdK54DqBwtArRYj9PwJ/rRmZ+KcohQK331W8bsQMVGItyLfsAtse4tQ4DyuUWYFkkp+TvYtZmBOiJ0npJOjSsY7wJTPxHvV1qXCMM5ngOie4nQK913L/FBqA+rC8wWdRUp3kcGEdYrive/+KTpT0zsQ71E+uaAbg3E61K4F8vMWVyE7gHApeQKT2OolxyZAzR4WYT7DOJvMgLFxbYbsM66TT0N9dKVB23KirJogeytTJ8lUio9HaGeiIiIiIjIU0nA5T+BbZuA3/YCN+zCfLpwEryJ7DHUExERERERBRqGevIQQz0REREREVGgYagnDzHUExERERERBRoDsOoHoOcMU74ncoqhnoiIiIiIiChIMdQTERERERERBSmGeiIiIiIiIqIgxVBPREREREREFKQY6omIiIiIiIiCFEM9ERERERERUZBiqCciIiIiIiIKUgz1REREREREREGKoZ6IiIiIiIgoSDHUExEREREREQUphnoiIiIiIiKiIMVQT0RERERERBSkGOqJiIiIiIiIghRDPREREREREVGQYqgnIiIiIiIiClIM9URERERERERBiqGeiIiIiIiIKEgx1BMREREREREFKYZ6IiIiIiIioiDFUE9EREREREQUpBjqiYiIiIiIiIIUQz0RERERERFRkGKoJyIiIiIiIgpSDPVEREREREREQYqhnoiIiIiIiChIMdQTERERERERBSmGeiIiIiIiIqIgxVBPREREREREFKQY6omIiIiIiIiCFEM9ERERERERUZBiqCciIiIiIiIKUgz1REREREREREGKoZ6IiIiIiIgoSDHUExEREREREQUphnoiooD2Lx6cu4LVS09jy9FHSJRfNXM1DzA+uItdq09ixZZbuJ1iZjzO7TqDpSsu4Ohtg/wiEREREQUbhnoiooBlwJnpS1Ak1wTUqjsXpXOPQOWvL+Ke0d08IPHMYUQXGYESteajdumRyFV5K7bd+1ee+V9Mjx6LXCVmo27tn5A713R8ve1vyH9KREREREGEoZ6IKEAZY46jWb6J6Lrlb9PP8cf3oGaOaRhw1OhyHoxxWNhsFCK7XsB908zbGFZzOCoOuIUk/IuYhb8gX+R6bDHNTMLxYbORo+IOHE2SfiYiIiKiYMJQT0QUoB6vXol8xTZge4L8gjEWE6KGoNrwu3joYp7h8Rm0yzcen21PTun/4tqEuchUbQ/OGf7B6najUOyzS7D86bX9iMo0E8PP8Vw9ERERUbBhqCciCkgiiI+fi4hX9+Ki5Zb3JKxsMxJFupzHeafzLuDva/sQFTELoy5aQ3r8yhXIXWQdtvwdi/Ei/L866j4sfxp/Gm1yj0WXLTxVT0RERBRsGOqJiAKSEWeHzkCmqP24YcnmSVjfaTTytj+NY07nnUXc2d14JdNcTLwh30MvxK9fgwJ5V2FN3H8x9JUhiJr40HoPffw5dCowCu3XMNQTERERBRuGeiKigPQvrk+Yi4jqv+OC4mz88lYjUPTjC7jodN5F/H19P6IiZmLEBcWZ+uXLkbPoOmz9+3+my/Srj7inOFN/Cq1yjsPHWxnqiYiIiIINQz0RUYCSzq4XFEF8S/LN74Z7GFljCGqOvo84F/MM0pn3guMUl9MbcWHkLETU3ItLBumM/hgU7XLBck+94cLvqBExG6MvWT8EICIiIqLgwFBPRBSoYs+gfcExaDLnPhLxL+7t2Izy2WZhxGkRvl3NQzxWtR+DQk3+xMVEEenvXUaP8sNQY0SM6ex87KpVKFhoCeZIN+Qb/8aOHlOQrcbvOG05dU9ERJReEnF+00H07bQEb9aaiVdqzEXDdr9i3JoYxMq/YWKIxYYx2/DtnOviKKeepJMH0LzGWiy+lYD9s35Dnz5b8c3Ic7js5BhpvHMJk/puRZ9v9mL9FX99OG7E1Q1/4Jtv/8RBZeUYExD70HornvfEOGOX2EZ9D2F38tfjUkBhqCciClhGXFm6FuVyDEOhyAnIlWUs3h13A4/dzhNjnysn0bnccGQrNBHFcw1FkXf34bBl5gMs7TwFObKNQWTxEchSZCHGHf5HnklERJROjHHY1GMqsmgHIFPBKXit7iI0qDcH5QsOgVbzAyLbHrM+EDbxL/QqORBh7/wfHsgv+Z4Rl8bMRqayv+FwUhymvj0YzzwzAJrQ6Rhi+tDc3r+4PmU+IjQD8EzIRPT43V+fjhuwr9ckhIQtwEy5cgwXT6Br1Ylot8IXt9aZr/jT620fwkuBg6E+vSQ9wJ6NN3HX4X5gxOU9/8GRu44++XI1T3C5XA/5vGz/4sG5K1i99DS2HH2ERPlVr7gqm5N5xgd3sWv1SazYcgu3naw86fJVbDySnHC85OuyGeNxbtcZLF1xAUdvp+2g4Oz9ua8b1+3NF/Xm87L5sN682W7p0d4MsQ9w7MANnL2T8sDsah4M8bhy7DoOnY2zXGpvZUTslds4cOi/uJNypodc7euu+wHV681lu/Ckj1KzvXlfb2Zq7qcerN9f/Zsny/DXcSENZTNTsb2pVTZZWvs3erolHtiK0vpBeP6Dk7is3DcTH2B5p0kI1Y5Es4VxohVKkhBz+S7O3YiXf1aBMQ4z3h2GYp9dFsdNc6jXZh6ObKKMVYeYr3azYYzFj3WGIGPGwdD4NdQD8TEPcO7cQ8TKlZOwcQ0KhgxH6+UM9U8Dhvp0EY+9/WYie6kt2OdgMPFg73ZUy/4jeu1L2RG4muduuZ7xddkMODN9CYrkmoBadeeidO4RqPz1Rdzzav93VTbH8xLPHEZ0kREoUWs+apceiVyVt2Kb/WVCD66hX7XhKNXrL/kFb/i4bIn/xfToschVYjbq1v4JuXNNx9fb/vbuoOXk/XlSNy7bmy/qzddl82W9ebHd0q+9BSJX+7rrfkD1enPZLjzro9Rrb97XWzL19lNP1u+n/s2jZfjpuJCGsiVTrb2pVbZkT2z/RunjX9yePA+huvH4fEfK4Gm8dQhvRwxG0S7/MX8wbYzH2T3nsfnw/0S8VzLiwZVb+H3XNZy4KeYY/8apneex+4w5/Bvv/xe7N1/B6ftiv096jHMHrmDH73dw09FnUQ9PomWuUWi/WtoZzKFe9+wvaP3qDwitujvFbWrGK/tRO2I03mk4HXpHoT7+EU6L9f227TL2n34k9jZHfFH+f/Hg7FVs2nwD18Uikq7fwPqhC5FLNxRv9D+Lzb/fw0PxO/dOXcamrbdwy6YT+AeX9ol63XdfvGOFpL9x6chV7Nr3X8QkuQj14vfOHxRl2nUd52Ic9BOULhjqVWZ8cBtzu0xDvkyiMyhpd8AUndOxuetQMd8QZAydZHvAdDVPcLlcD6lRNmPMcTTLNxFdt/xt+jn++B7UzDENA47adQBuuCqb03nGOCxsNgqRXS/gvvRz/G0MqzkcFQfckjt/0eEd+xNdKo5CpoyDUNLLQYjvy/YvYhb+gnyR67HFNDMJx4fNRo6KO3DU9qjlhov3565uXLY3X9SbGmXzVb2JVXiz3dKpvQUqV/u6y35A9Xpz3S7c9lEqtzev602i8n7qbv3+69/cL8N/x4U0lE2iantTq2ySJ7t/o/TzeP1qFNANwvPtjuF0inu//4VROXx0cPm9MeYyhjSaiCy6AebL5PWj8VrP39Ci8CC80POa6WqjxD2bERk6AR1HbMfbRQZDI35P+t2QnNPwybIHULbs+E1rUSj7Esw37TNyqC+2AQtHzxX7wQwMPaMskBGXxs1BpkJrMGvYHIQqQ33SfSzvMRfPRgy0rO8ZzSDkKLcKc89al+G78ttefv9g9iKEi2VqNGLSiTqrsB1HkpKwretYhGReiiXKDwRMD9odBP0re3DWtLB/cWvrDrxTXLoFwryu8OKL0bP9VLtQn4QzCzegeoFBljJpQkeh2ifHcEbNhx6QQwz1qkrCls+noXqng9g5Yyly2H0KnrBlIypVX4Ofdv4fWuSw/RTc1Tx3y/WMOmV7vHol8onOb3vy5bzGWNPXZ1Ubftem03TNVdlczHt8Bu3yjcdn25NHPP/i2oS5yFRtD85JK0+4gM8rzUSnny5jRgtvzyyoUbZ/sLrdKBT77JLlEmnjtf2IyjQTw88pDx5uuHp/burGZXvzRb2pUjYf1Zu32+1herS3wOVqX3/oqh9QfT913S7c9VFqtzev6038qPZ+6rpu/Nm/uVuGP48LaSiboG57U6tswhPev1E6SorBlPqjESLCY0jW8Xil4Wr0GnEE6w7GIs6+qduHetFHzY0eCV34JLQcdx4nL93D/sVb8Xo+ETI1A21DcchA6DNPQovR53Dsyv9w7re9aFR4IHSF1mKTJeAasPerSchc5yCum9adHOo3YvuFA6gdPgivDPuvdTxruI8xtYag6MfncU6Ee2uoN+LCxJ9FUB+B1/qewdGrcYi5HoOtE5aihH4Acrc5jYfS3/u0/CnvqU95+b1nod5w+TDq5xyIiLKrMeP3e7h+/hrm95iJXNIHD4pQf3/TekSGDkbx6D1YezQWt6/fweZxy1EyfDBe+OKi+T1SumGoV1lSkrnhP166LMUBE2KeaTd7fBLv2R8wXc0TXC7XQ74vmxgsjZ+LiFf3Wh9qIn5zZZuRKKL4+ixPuCqbs3nGa/sQFWF7WVD8yhXIXST5a79EuU0F/wdL3/N+EOLzsv0di/Fi4PzqqPvWA0X8abTJPVbxlWSecP7+3NaN020q8UW9qVA2cTD0Tb15t902n0+f9haYXO3r53HeRT/wt9r7qct28Y/7PkrV9uZ9vbksm0la25v7/ttv/ZsHde+340IaymaiZntTq2wmaW1vRAqJsdg+cSOiq4xDFhF6zWe1ByLzs3Pw4Y/XEJO8+9qF+qQTO1FRPwhl+163GWPeW7ESBXUpQ7HUz1qzrBFH+0lnnqdjSPLZ96Q7GFjxB0Vwt4b6HfHSvfM/IEwE3zPyrmA4vxevho/Hp7/9g6s2oT4Ru0etRKN2+22vrDHEYHAlEZ7lDxV9W35fhXojTgycJpb7E74+oCi88SFmNxwObXKoF/2L9CwBfeRm7FYuS6xj15cToc+yELNu2195QWpiqE8nDg+YyRweMGWu5gkul+sh35XNiLNDZyBT1H7cSO6Axc69vtNo5G1/1sl9RK65Kpv9PMPZ3Xgl01xMvGHtRKTv+S6QdxXW2KzcN4MQn5Ut7r8Y+soQRE18KGpQJn3PeIFRaL9GeTTwVMr353HduGxvvqg3H5bN4Ot6S912W3ksfdtbYHG1r5/GMRf9QJza+6nLdpHoeR+lSnvzvt5cls2Gt+3N8/473fu3VNR9uh8X0lA2G2q0N7XKZuNJ7N/InxLv/he7lx9E/y6LUDaXdMZ6KKoMkL/Czi7U352+ABlCHNyP//A4mmaxu3w9ZDDemqq8Y/xf3PzxZ4Tqp+D7I+Y9xHh5H17P9BO+OZi8xyhCfcK/uPbTPGQKm4lhpsvnRZ85fCbCi2/ETjHPNtRbGeIe4fyRK9iw5DBG9lmByrkGQF95F06JX/Nt+X0V6uMxp+EP0BVci03KTxos65NDffxpvJ9jAEIKz0STZr+gmWKKrjoGOt1YdN3qYV9FPsFQn068PmC6PJi6Wa6HfFe2f3F9wlxEVP8dFyy/noTlrUag6McXbT6F9JSrstnPM17fj6iImRhxIbkzFn3O8uXIWXQdttqs3DeDEJ+V7e//mS5xrT7inuJsyim0yjkOH3vVIaZ8fx7XjeqDNx+Wzejrekvddvv1Yvq2t8Dial+/gIsu+oG/1d5PXbaLfzzvo1Rpb97Xm8uy2fC2vXnef6d7/5aKuk/340IaymZDjfamVtlsPIn9G6UbYzzO7DyL5TvuOjzxY7h1Fh9GDoI232qsk37BJtQbcXGU9OC2yfj2sHX/Nok/h475UobihnOVDVx6SJ8UUifjO1Mo/hcxsxYh23Mb8Julb1CGeqk/OYS3Igaj2vD/wmCIwdCqPyCy+1WxjpShPvHiafR5ZxJyyFcehESMRqlX56FigYHQV5JCva/Ln7ZQP6K6HOr/eYiJUYMQEvkr9tr1B48XLkGmUDnUP/wTDcKke+1no3H0EkSnmFZi3H5HfQaphaE+nXh9wHR5MHWzXA/5smzSGZCCYrBkvqxRMH36NwQ1Rysu/0sFV2VLMU86A1FwnOLSRPOTOiNq7sUlm5X7ZhDiu7JJZ8PGoKjiFgXDhd9RI2I2Rl+y6+g94uD9eVo3qg/efFk2X9dbKrdbXPq2t0Djal+Pc9UPqL6fum4XHvdRKrU3r+tNfslEpf3U07pJ//7N82Wk/3EhDWVTUqW9qVU2pSezf6N0kiRd7j7I9CC67Y5SvakNj4YuwyLMiRU/2p2pfzBvCTLrRqPT+uT9W3b3CN4Nt7983V0oTsCyViORr+0ZPDL/gmAb6qVL0KfWHYKw6ntw+vguVMk4CT3/kPYLu1Av3tewakOgyz4Dn04/j0MX4hAvrSLpNgaI92sO9b4uv2eh/rdPx0EXvgQLlCf9k26g70vJZ+oT8UuLYdDlXI7lNo/C/9f0PBLrmfqz+CDvQGSqfwQx8m+QfzHUpxOvD5guD6Zulushn5Yt9gzaFxyDJnPumz65vLdjM8pnm4URp20HEJ5yVbaU8+Kxqv0YFGryJy6K14z3LqNH+WGoMcL+e0V9MwjxZdliV61CwUJLMEe6mdX4N3b0mIJsNX5P8dUpnnH0/jysG9UHb74tm2/rTawiVdstfdtbwHG1r7vsB9SvN5ftwtM+Sq325nW9Kai1n3q4fn/0b54uwx/HBe/LpqBSe1OrbFZPaP9G6cSIw99PQah2OF4bdA337bo6480z6FBMhPjKu3BCyqV2od545QDqRAxE4fZncNfyt0Zc/GkesmlTGYrjz6Nz4WFo/LP52z/M7EK9+Jub0xcgc4aZ6PLRNGR8cSsOmBZpF+pjj6B+2ABkaX5CLMEq6exe1Mo0APqXd+C4eD8+Lb/o0VKE+i3rUDhkGFou/cf8glj2ob6ToddPw4Dj1spOOrMHNTKIcplCvXiPMxciq24koufGir+QJf0Xo18bAo3lnvo4zIseDl3EbAw3bRyZeH1Fh4nI9ewvmHHFetsTqY+hPp14fcB0eTB1s1wP+bZsRlxZuhblcgxDocgJyJVlLN4dd0PxYI/UcVU2R/MMV06ic7nhyFZoIornGooi7+7D4RQr980gxKdlMzzA0s5TkCPbGEQWH4EsRRZi3OHkTji1HL8/j+pG9cGbj8vm03pL/XZLz/aGpAfYs/Gm4sAv+RcPzl3B6qWnseXoI9PBX8n44C52rT6JFVtu4XaKmfE4t+sMlq64gKO3Hfcvrrna1133A6rXm8t24WEfpVp7877eLFTbTz1bv1/6Nw+X4ZfjQhrKZqFWe1OrbBY+6t/o6fXgCr6rOgxazWDkq7AInXpuxw9DdqJP58WomG8QtJmnonfyaXy7UC9ewO4+UxCuG46K7XZi2s//h9FfzsOzEYOgT/H0eNehOPGPLSgZ8TMmXVMGUftQL3rJW/+HdzIPhE43CGW+vQFznLU/U38D35cTZc82DR9OPIXNW85iwdiNePO5YYjINBAhJbfgD1NRfFd+sbOnCPVJh7bhJf1AFHxzM4bNvGx6Xkr8zk14PmQAslVYhSEzjmLW6E14u8RoFMg3GKGmUC/+8PF1DKw6FNqME1C/1z7MmL4XX9QZiwy6gdZQL8Qf2YNa2QZAX3AOug7/Pyz4+QC+bzkZ2bSDULzTGdy2Ga+Q2hjqSRWG2Ac4duAGzt5RfHqXXgzxuHLsOg6djbNcchgwXJbNiNgrt3Hg0H9xR62CB23duOLnekuXOo3H3n4zkd1m0G3AmelLUCTXBNSqOxelc49A5a8v4p58EE08cxjRRUagRK35qF16JHJV3opt9+TBSuJ/MT16LHKVmI26tX9C7lzT8fW2v0VNpp6rfd1lP6B6vbluF973Ub5pb17XWzrwev0ut6kv6i0Ny/Bze/Oen+uNKD3ExWDFoNV4s8J45Mo0CLqQH5Ct4I+IavMbFh6NFy1YliLUC4ZYbBy4FJWLDkNY6BDkK7sY38/fgdqhg/BSX3Podh+Kk3Bq8DSEV9ltdxVLylAP4yPMrD9UhNup6Hc0uWQp76l/fOIoPq09CbnDRUDPOBzPVVmC3vNvYPf3U8TPczH+snw89kn5pXKkDPVIjMHMNpORK2wAtNmXY5npw8x4HJq2FlGRI5BRPxg5SszBh1OuYn7bkdZQLxhjruHHznNRMs8QhGYYgeej1mNav/kIU4R6SeyRP9GtwVQUyTYYev0PyFl8JloOOIdLyqJSumCoJyIKYMYHtzG3yzTky/QDQktaQ70x5jia5ZuIrlvMlwrGH9+DmjmmYYA0yDDGYWGzUYjsegH3TTNvY1jN4ag44JYYIPyLmIW/IF/kemwxzUzC8WGzkaPiDtuv3iEiIgpk8XG4ejNBPltuZTizG1X1g1BrjPQ4PU/8i5tHzmPLn488/H0f8Vn5iRjqiYgCWBK2fD4N1TsdxM4ZS20uj328eiXySQ8Xspw9iDU96bra8LswPD6DdvnG47PtyUMF8wNuMpm+G/cfrG43CsU+u2Q5Y2m8th9RmWZi+DkOH4iIKDgYr+5DVNggvNjrGqzP2UvCkQHTkTFkAr7cbXPaPeAEe/kpsDDUExEFsKQkc9C2vedVhPTxcxHx6l5Iz78yS8LKNiNRpMsF/H1NDBQibC+Ri1+5ArmLrMOWv2MxXoT/V0cpnmgefxptco9VPCGciIgowBkeYG70aISEjkaVFuvR6+tf8VGjKcilH4RnWx7D5UDPxMFefgooDPVEREHANtQbcXboDGSK2m968I2Z+at/8rY/i7izu/FKprmYeMP6wB/p68oK5F2FNXH/xdBXhiBq4kPrZX3S134VGIX2axjqiYgoiMTfw/qR69EkagYqlJuKam8tR88pV3AzWA5nwV5+ChgM9UREQcD+TP31CXMRUf13XFCcqV/eagSKfnwRf1/fj6iImRhxQXGmfvly5Cy6Dlv//p/pMv3qI+4pztSfQquc4/DxVo4iiIiIiIINQz0RURCw/8op6cx7QRHStyTfGG+4h5E1hqDm6PswSGfeC45TXE5vxIWRsxBRcy8uGaQz+mNQtMsFyz31hgu/o0bEbIy+ZP0QgIiIiIiCA0M9EVEQSPE90rFn0L7gGDSZcx+J+Bf3dmxG+WyzMOK0FMzjsar9GBRq8icuit833ruMHuWHocaIGNPZ+dhVq1Cw0BLMkW7IN/6NHT2mIFuN3+2+yoeIiIiIggFDPRFREEgR6mHElaVrUS7HMBSKnIBcWcbi3XE3YPoaWsFw5SQ6lxuObIUmoniuoSjy7j4ctsx8gKWdpyBHtjGILD4CWYosxLjD/8gziYiIiCiYMNQTEQUxQ+wDHDtwA2fvOLgf3hCPK8eu49DZOMul9lZGxF65jQOH/os7KWcSERERUZBgqCciIiIiIiIKUgz1REREREREREEJ+H9F66e/LZ7LHwAAAABJRU5ErkJggg==)\n",
        "\n",
        "그렇다면!\n",
        "문자형 변수 정수 표현을 위해서 사용한다면! 수의 범위는 어떻게 될까요?\n",
        "Char => 1 Byte => 8 Bits\n",
        "  - 양의 수만 표현 한다면: 0 ~ 2^8 - 1  ==> 0 ~ 256-1  ==> 0 - 255 \n",
        "  - 음의 수도 함께 표현하면: -2^7 ~ 2^7 - 1 ==> -128 ~ 127"
      ],
      "metadata": {
        "id": "OnGl_DFbMjSn"
      }
    },
    {
      "cell_type": "code",
      "source": [
        "%%writefile mycode.c\n",
        "#include <stdio.h>\n",
        "\n",
        "void main(void)\n",
        "{\n",
        "  unsigned char c1;  // 부호를 고려한다! 음수까지 표현할 수 있는 정수 타입이라는 것을 나타낸다!   0 - 255\n",
        "\n",
        "  c1 = 255;\n",
        "  printf(\"%d\\n\", c1);\n",
        "\n",
        "  c1 = 128;\n",
        "  printf(\"%d\\n\", c1);\n",
        "\n",
        "  c1 = -1;\n",
        "  printf(\"%d\\n\", c1);\n",
        "}"
      ],
      "metadata": {
        "colab": {
          "base_uri": "https://localhost:8080/"
        },
        "id": "3VbE-_tNNq09",
        "outputId": "f207be52-da35-4358-be11-bd7492ee9e94"
      },
      "execution_count": 27,
      "outputs": [
        {
          "output_type": "stream",
          "name": "stdout",
          "text": [
            "Overwriting mycode.c\n"
          ]
        }
      ]
    },
    {
      "cell_type": "code",
      "source": [
        "!gcc mycode.c\n"
      ],
      "metadata": {
        "id": "ptaFlNEGOEmp"
      },
      "execution_count": 28,
      "outputs": []
    },
    {
      "cell_type": "code",
      "source": [
        "!./a.out"
      ],
      "metadata": {
        "colab": {
          "base_uri": "https://localhost:8080/"
        },
        "id": "PqzhmS9YOLbD",
        "outputId": "ba88fe2e-a52d-4695-f71a-4e93c92e26e6"
      },
      "execution_count": 29,
      "outputs": [
        {
          "output_type": "stream",
          "name": "stdout",
          "text": [
            "255\n",
            "128\n",
            "255\n"
          ]
        }
      ]
    },
    {
      "cell_type": "markdown",
      "source": [
        "Short Type에 대해서 알아봅시다!"
      ],
      "metadata": {
        "id": "Bs5PPUfJP0gK"
      }
    },
    {
      "cell_type": "code",
      "source": [
        "%%writefile mycode.c\n",
        "#include <stdio.h>\n",
        "\n",
        "void main(void)\n",
        "{\n",
        "  unsigned short my;  // Short type = 2 Bytes = 16 비트!!!: \n",
        "             // 양수만 표현할 수 있는 경우: 0 ~ 2^16 - 1  ==> 꼭 unsigned !!!! 0 - 65535\n",
        "             // 음수까지 고려한 경우: -2^15 ~ 2^15-1 ==> -32768 ~ 32767\n",
        "  \n",
        "  my = 65535 + 1;\n",
        "  printf(\"%d\\n\", my);\n",
        "}"
      ],
      "metadata": {
        "colab": {
          "base_uri": "https://localhost:8080/"
        },
        "id": "3O98b6FEPzpP",
        "outputId": "017d9f2a-58d4-4b02-86a9-a080b95b740b"
      },
      "execution_count": 30,
      "outputs": [
        {
          "output_type": "stream",
          "name": "stdout",
          "text": [
            "Overwriting mycode.c\n"
          ]
        }
      ]
    },
    {
      "cell_type": "code",
      "source": [
        "!gcc mycode.c"
      ],
      "metadata": {
        "colab": {
          "base_uri": "https://localhost:8080/"
        },
        "id": "HnivZWyNQBOr",
        "outputId": "bccf21bb-73b5-4e2d-bfaa-2d5b55c71ea7"
      },
      "execution_count": 31,
      "outputs": [
        {
          "output_type": "stream",
          "name": "stdout",
          "text": [
            "\u001b[01m\u001b[Kmycode.c:\u001b[m\u001b[K In function ‘\u001b[01m\u001b[Kmain\u001b[m\u001b[K’:\n",
            "\u001b[01m\u001b[Kmycode.c:9:8:\u001b[m\u001b[K \u001b[01;35m\u001b[Kwarning: \u001b[m\u001b[Kunsigned conversion from ‘\u001b[01m\u001b[Kint\u001b[m\u001b[K’ to ‘\u001b[01m\u001b[Kshort unsigned int\u001b[m\u001b[K’ changes value from ‘\u001b[01m\u001b[K65536\u001b[m\u001b[K’ to ‘\u001b[01m\u001b[K0\u001b[m\u001b[K’ [\u001b[01;35m\u001b[K-Woverflow\u001b[m\u001b[K]\n",
            "    9 |   my = \u001b[01;35m\u001b[K65535\u001b[m\u001b[K + 1;\n",
            "      |        \u001b[01;35m\u001b[K^~~~~\u001b[m\u001b[K\n"
          ]
        }
      ]
    },
    {
      "cell_type": "code",
      "source": [
        "!./a.out"
      ],
      "metadata": {
        "colab": {
          "base_uri": "https://localhost:8080/"
        },
        "id": "jFagKPX4QETT",
        "outputId": "230c7fc1-f8cd-467e-a152-8dcfb12b7094"
      },
      "execution_count": 32,
      "outputs": [
        {
          "output_type": "stream",
          "name": "stdout",
          "text": [
            "0\n"
          ]
        }
      ]
    },
    {
      "cell_type": "markdown",
      "source": [
        "**limits.h**\n",
        "\n",
        "정수형 데이터 표현 최소값(MIN)과 최대값(MAX)상수 제공"
      ],
      "metadata": {
        "id": "ERKWfY2BSXdm"
      }
    },
    {
      "cell_type": "code",
      "source": [
        "%%writefile mycode.c\n",
        "#include <stdio.h>\n",
        "#include <limits.h>\n",
        "\n",
        "void main(void)\n",
        "{\n",
        "  printf(\"문자형(char) 타입: 최소값: %d, 최대값 %d \\n\", CHAR_MIN, CHAR_MAX);    // 8 비트\n",
        "  printf(\"Short 타입: 최소값: %d, 최대값 %d \\n\", SHRT_MIN, SHRT_MAX);           // 16 비트\n",
        "  printf(\"정수형(int) 타입: 최소값: %d, 최대값 %d \\n\", INT_MIN, INT_MAX);       // 32 비트트\n",
        "\n",
        "}"
      ],
      "metadata": {
        "colab": {
          "base_uri": "https://localhost:8080/"
        },
        "id": "fucIJxplSWqt",
        "outputId": "5ddf2f8a-ced4-4b23-9ef2-e2a1dc90bae8"
      },
      "execution_count": 33,
      "outputs": [
        {
          "output_type": "stream",
          "name": "stdout",
          "text": [
            "Overwriting mycode.c\n"
          ]
        }
      ]
    },
    {
      "cell_type": "code",
      "source": [
        "!gcc mycode.c"
      ],
      "metadata": {
        "id": "IAtiqZIGTIr7"
      },
      "execution_count": 34,
      "outputs": []
    },
    {
      "cell_type": "code",
      "source": [
        "!./a.out"
      ],
      "metadata": {
        "colab": {
          "base_uri": "https://localhost:8080/"
        },
        "id": "IjPfbAy1TJ8u",
        "outputId": "bd7fb207-b9b7-4ee3-cb86-8e84382e7cd7"
      },
      "execution_count": 35,
      "outputs": [
        {
          "output_type": "stream",
          "name": "stdout",
          "text": [
            "문자형(char) 타입: 최소값: -128, 최대값 127 \n",
            "Short 타입: 최소값: -32768, 최대값 32767 \n",
            "정수형(int) 타입: 최소값: -2147483648, 최대값 2147483647 \n"
          ]
        }
      ]
    },
    {
      "cell_type": "code",
      "source": [],
      "metadata": {
        "id": "H26MgA_QTLT-"
      },
      "execution_count": 35,
      "outputs": []
    },
    {
      "cell_type": "markdown",
      "source": [
        "## 4. 진수 변환\n",
        "\n",
        "C 프로그램으로 다양한 진법의 수를 프린트하기!!!"
      ],
      "metadata": {
        "id": "nsg_G6d5TtnI"
      }
    },
    {
      "cell_type": "code",
      "source": [
        "%%writefile mycode.c\n",
        "\n",
        "#include <stdio.h>\n",
        "\n",
        "void main()\n",
        "{\n",
        "  /* 16진수 표현 */\n",
        "  int a = 0x11;   // 16*1 + 1 = 17 (10진수)\n",
        "  int b = 0x43;   // 16*4 + 3 = 67 (10진수) \n",
        "\n",
        "  /* 8진수 표현 */\n",
        "  int c = 032;    // 3*8 + 2 = 26\n",
        "  int d = 024;    // 2*8 + 4 = 20\n",
        "\n",
        "  // 16진수 값을 다시 10진수료 변환해서 출력해볼까요!!!\n",
        "  printf(\"16진수 : %x  -> 10 진수 : %d \\n\", a, a);\n",
        "  printf(\"16진수 : %x  -> 10 진수 : %d \\n\", b, b);  \n",
        "\n",
        "  // 8진수 값을 다시 10진수료 변환해서 출력해볼까요!!!\n",
        "  printf(\"8진수 : %o  -> 10 진수 : %d \\n\", c, c);\n",
        "  printf(\"8진수 : %o  -> 10 진수 : %d \\n\", d, d);  \n",
        "}"
      ],
      "metadata": {
        "colab": {
          "base_uri": "https://localhost:8080/"
        },
        "id": "Kb9N-yWqT3m9",
        "outputId": "a706386a-4bb7-4d23-f623-40fb2e638986"
      },
      "execution_count": 36,
      "outputs": [
        {
          "output_type": "stream",
          "name": "stdout",
          "text": [
            "Overwriting mycode.c\n"
          ]
        }
      ]
    },
    {
      "cell_type": "code",
      "source": [
        "!gcc mycode.c"
      ],
      "metadata": {
        "id": "ler94MWCVV7X"
      },
      "execution_count": 37,
      "outputs": []
    },
    {
      "cell_type": "code",
      "source": [
        "!./a.out"
      ],
      "metadata": {
        "colab": {
          "base_uri": "https://localhost:8080/"
        },
        "id": "PcLlEaCdVd4s",
        "outputId": "2a8c8137-4550-4d85-e198-98e69103920f"
      },
      "execution_count": 38,
      "outputs": [
        {
          "output_type": "stream",
          "name": "stdout",
          "text": [
            "16진수 : 11  -> 10 진수 : 17 \n",
            "16진수 : 43  -> 10 진수 : 67 \n",
            "8진수 : 32  -> 10 진수 : 26 \n",
            "8진수 : 24  -> 10 진수 : 20 \n"
          ]
        }
      ]
    }
  ]
}