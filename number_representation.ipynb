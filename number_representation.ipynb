{
  "nbformat": 4,
  "nbformat_minor": 0,
  "metadata": {
    "colab": {
      "name": "number_representation.ipynb",
      "provenance": [],
      "authorship_tag": "ABX9TyNQHpAc5jYl/QvKohAmMtTR",
      "include_colab_link": true
    },
    "kernelspec": {
      "name": "python3",
      "display_name": "Python 3"
    }
  },
  "cells": [
    {
      "cell_type": "markdown",
      "metadata": {
        "id": "view-in-github",
        "colab_type": "text"
      },
      "source": [
        "<a href=\"https://colab.research.google.com/github/jeonggunlee/LogicDesign/blob/master/number_representation.ipynb\" target=\"_parent\"><img src=\"https://colab.research.google.com/assets/colab-badge.svg\" alt=\"Open In Colab\"/></a>"
      ]
    },
    {
      "cell_type": "markdown",
      "metadata": {
        "id": "9_DOfusgLwun"
      },
      "source": [
        "## 2021 논리회로 설계 및 실습\r\n",
        "### 한림대학교 소프트웨어융합대학 \r\n",
        "### 이정근 교수\r\n",
        "\r\n",
        "\r\n",
        "- 실습\r\n",
        "   - 수의 표현\r\n",
        "\r\n",
        "- Colab 환경: 기본적으로 python 언어를 위한 환경\r\n",
        "   - C 코드를 테스트 할수 있음\r\n",
        "   - \"!\"를 리눅스명령어 앞에 붙여 리눅스 시스템 명령어 활용 가능"
      ]
    },
    {
      "cell_type": "code",
      "metadata": {
        "colab": {
          "base_uri": "https://localhost:8080/"
        },
        "id": "Y3AIPp7hIBM8",
        "outputId": "d83e413f-1796-4f0a-8cb6-f3a12403c9ea"
      },
      "source": [
        "%%writefile number.c\r\n",
        "\r\n",
        "#include <stdio.h>\r\n",
        "\r\n",
        "// 주어진 변수의 이진수 표현을 프린트 하는 함수\r\n",
        "void printb(unsigned char v)\r\n",
        " {\r\n",
        "    printf(\"size of == %d\\n\", (int) sizeof(v));\r\n",
        "    unsigned char i, s = 1<<((sizeof(v)<<3)-1); // s = only most significant bit at 1\r\n",
        "    for (i = s; i; i>>=1) printf(\"%d\", v & i || 0 );\r\n",
        "}\r\n",
        "\r\n",
        "// 메인 함수\r\n",
        "int main()\r\n",
        "{\r\n",
        "    char aaa;\r\n",
        " \r\n",
        "    aaa = 2;\r\n",
        "    printf(\"%d\\n\", aaa);\r\n",
        "    printb(aaa);\r\n",
        " \r\n",
        "    // 정상적인 종료: return 0\r\n",
        "    return 0;\r\n",
        "}"
      ],
      "execution_count": 66,
      "outputs": [
        {
          "output_type": "stream",
          "text": [
            "Overwriting number.c\n"
          ],
          "name": "stdout"
        }
      ]
    },
    {
      "cell_type": "markdown",
      "metadata": {
        "id": "_5sZuEK-M6L7"
      },
      "source": [
        "## Linux Compiler: gcc\r\n",
        "- gcc: Gnu C Compiler\r\n",
        "- 사용예: gcc -c 소스파일이름.c -o 출력실행파일이름\r\n",
        "   - gcc mycode.c -o mycode\r\n"
      ]
    },
    {
      "cell_type": "code",
      "metadata": {
        "id": "aYGcNyGfItWC"
      },
      "source": [
        "!gcc number.c -o number"
      ],
      "execution_count": 93,
      "outputs": []
    },
    {
      "cell_type": "code",
      "metadata": {
        "colab": {
          "base_uri": "https://localhost:8080/"
        },
        "id": "_S8-hjzVIxkT",
        "outputId": "ed35be6b-e94e-42aa-e028-8a2872f03297"
      },
      "source": [
        "ls -al"
      ],
      "execution_count": 94,
      "outputs": [
        {
          "output_type": "stream",
          "text": [
            "total 36\n",
            "drwxr-xr-x 1 root root 4096 Mar 13 10:55 \u001b[0m\u001b[01;34m.\u001b[0m/\n",
            "drwxr-xr-x 1 root root 4096 Mar 13 10:21 \u001b[01;34m..\u001b[0m/\n",
            "drwxr-xr-x 4 root root 4096 Mar  5 14:36 \u001b[01;34m.config\u001b[0m/\n",
            "-rwxr-xr-x 1 root root 8336 Mar 13 10:55 \u001b[01;32mnumber\u001b[0m*\n",
            "-rw-r--r-- 1 root root  465 Mar 13 10:48 number.c\n",
            "-rw-r--r-- 1 root root 1888 Mar 13 10:54 number.o\n",
            "drwxr-xr-x 1 root root 4096 Mar  5 14:37 \u001b[01;34msample_data\u001b[0m/\n"
          ],
          "name": "stdout"
        }
      ]
    },
    {
      "cell_type": "code",
      "metadata": {
        "colab": {
          "base_uri": "https://localhost:8080/"
        },
        "id": "JC9KA_XyN82v",
        "outputId": "f98f4737-a4bc-43f7-cafe-36a094914a7c"
      },
      "source": [
        "!./number"
      ],
      "execution_count": 95,
      "outputs": [
        {
          "output_type": "stream",
          "text": [
            "2\n",
            "size of == 1\n",
            "00000010"
          ],
          "name": "stdout"
        }
      ]
    }
  ]
}