{
  "nbformat": 4,
  "nbformat_minor": 0,
  "metadata": {
    "colab": {
      "name": "number_representation.ipynb",
      "provenance": [],
      "authorship_tag": "ABX9TyM4EndkCCgeRJ9n7PoSedVE",
      "include_colab_link": true
    },
    "kernelspec": {
      "name": "python3",
      "display_name": "Python 3"
    }
  },
  "cells": [
    {
      "cell_type": "markdown",
      "metadata": {
        "id": "view-in-github",
        "colab_type": "text"
      },
      "source": [
        "<a href=\"https://colab.research.google.com/github/jeonggunlee/LogicDesign/blob/master/Chapter01_number_representation.ipynb\" target=\"_parent\"><img src=\"https://colab.research.google.com/assets/colab-badge.svg\" alt=\"Open In Colab\"/></a>"
      ]
    },
    {
      "cell_type": "code",
      "metadata": {
        "colab": {
          "base_uri": "https://localhost:8080/"
        },
        "id": "Y3AIPp7hIBM8",
        "outputId": "94797d71-5558-4e0d-f35d-adb4859d57de"
      },
      "source": [
        "%%writefile number.c\r\n",
        "\r\n",
        "#include <stdio.h>\r\n",
        "\r\n",
        "// 인자로 주어진 char 타입의 변수 값을 이진수로 프린트 하는 함수입니다!\r\n",
        "void printb(unsigned char v)\r\n",
        " {\r\n",
        "    printf(\"size of == %d\\n\", (int) sizeof(v));  // char 타입 한바이트로 이루어져 있기 때문에! sizeof(v) --> 1\r\n",
        "  \r\n",
        "    unsigned char i, s = 1<<((sizeof(v)<<3)-1); // s = only most significant bit at 1\r\n",
        "    for (i = s; i; i>>=1) printf(\"%d\", v & i || 0 );\r\n",
        "}\r\n",
        "\r\n",
        "int main()\r\n",
        "{\r\n",
        "    char aaa = 255;\r\n",
        "    unsigned char bbb = 255;\r\n",
        " \r\n",
        "    printf(\"8bit signed = %d, 8bit unsigned = %d\\n\", aaa, bbb);\r\n",
        " \r\n",
        "    printb(aaa);\r\n",
        "    return 0;\r\n",
        "}"
      ],
      "execution_count": 7,
      "outputs": [
        {
          "output_type": "stream",
          "text": [
            "Overwriting number.c\n"
          ],
          "name": "stdout"
        }
      ]
    },
    {
      "cell_type": "code",
      "metadata": {
        "id": "aYGcNyGfItWC"
      },
      "source": [
        "!gcc number.c"
      ],
      "execution_count": 8,
      "outputs": []
    },
    {
      "cell_type": "code",
      "metadata": {
        "colab": {
          "base_uri": "https://localhost:8080/"
        },
        "id": "_S8-hjzVIxkT",
        "outputId": "ed697e4c-631a-4bb9-8ec6-41c903b4e8fe"
      },
      "source": [
        "ls"
      ],
      "execution_count": 9,
      "outputs": [
        {
          "output_type": "stream",
          "text": [
            "\u001b[0m\u001b[01;32ma.out\u001b[0m*  number.c  \u001b[01;34msample_data\u001b[0m/\n"
          ],
          "name": "stdout"
        }
      ]
    },
    {
      "cell_type": "code",
      "metadata": {
        "colab": {
          "base_uri": "https://localhost:8080/"
        },
        "id": "81tPs2rZI3ac",
        "outputId": "278e5f13-31f8-4eae-fa83-d66033479bc0"
      },
      "source": [
        "!./a.out"
      ],
      "execution_count": 10,
      "outputs": [
        {
          "output_type": "stream",
          "text": [
            "8bit signed = -1, 8bit unsigned = 255\n",
            "size of == 1\n",
            "11111111"
          ],
          "name": "stdout"
        }
      ]
    },
    {
      "cell_type": "code",
      "metadata": {
        "id": "FN_PAvq9I4mq"
      },
      "source": [
        ""
      ],
      "execution_count": null,
      "outputs": []
    }
  ]
}